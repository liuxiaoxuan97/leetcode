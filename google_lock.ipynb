{
  "nbformat": 4,
  "nbformat_minor": 0,
  "metadata": {
    "colab": {
      "name": "google_lock.ipynb",
      "provenance": [],
      "include_colab_link": true
    },
    "kernelspec": {
      "name": "python3",
      "display_name": "Python 3"
    }
  },
  "cells": [
    {
      "cell_type": "markdown",
      "metadata": {
        "id": "view-in-github",
        "colab_type": "text"
      },
      "source": [
        "<a href=\"https://colab.research.google.com/github/liuxiaoxuan97/leetcode/blob/master/google_lock.ipynb\" target=\"_parent\"><img src=\"https://colab.research.google.com/assets/colab-badge.svg\" alt=\"Open In Colab\"/></a>"
      ]
    },
    {
      "cell_type": "markdown",
      "metadata": {
        "id": "LAJw3AFf2JIt",
        "colab_type": "text"
      },
      "source": [
        "**281. Zigzag Iterator**\n",
        "\n",
        "Given two 1d vectors, implement an iterator to return their elements alternately.\n",
        "Input:\n",
        "v1 = [1,2]\n",
        "v2 = [3,4,5,6] \n",
        "Output: [1,3,2,4,5,6]\n",
        "Explanation: By calling next repeatedly until hasNext returns false, the order of elements returned by next should be: [1,3,2,4,5,6].\n",
        "\n",
        "Follow up:\n",
        "\n",
        "What if you are given k 1d vectors? How well can your code be extended to such cases?\n",
        "\n",
        "Clarification for the follow up question:\n",
        "The \"Zigzag\" order is not clearly defined and is ambiguous for k > 2 cases. If \"Zigzag\" does not look right to you, replace \"Zigzag\" with \"Cyclic\". For example:\n",
        "Input:\n",
        "[1,2,3]\n",
        "[4,5,6,7]\n",
        "[8,9]\n",
        "\n",
        "Output: [1,4,8,2,5,9,3,6,7]."
      ]
    },
    {
      "cell_type": "code",
      "metadata": {
        "id": "DK1Ka2YjYfRb",
        "colab_type": "code",
        "colab": {}
      },
      "source": [
        "class ZigzagIterator(object):\n",
        "\n",
        "    def __init__(self, v1, v2):\n",
        "        self.data = [(len(v), iter(v)) for v in (v1, v2) if v]\n",
        "\n",
        "    def next(self):\n",
        "        len, iter = self.data.pop(0)\n",
        "        if len > 1:\n",
        "            self.data.append((len-1, iter))\n",
        "        return next(iter)\n",
        "\n",
        "    def hasNext(self):\n",
        "        return bool(self.data)"
      ],
      "execution_count": 0,
      "outputs": []
    },
    {
      "cell_type": "markdown",
      "metadata": {
        "id": "7WwO-iFW48I9",
        "colab_type": "text"
      },
      "source": [
        "**425. Word Squares**\n",
        "\n",
        "Given a set of words (without duplicates), find all word squares you can build from them.\n",
        "\n",
        "A sequence of words forms a valid word square if the kth row and column read the exact same string, where 0 ≤ k < max(numRows, numColumns).\n",
        "\n",
        "For example, the word sequence [\"ball\",\"area\",\"lead\",\"lady\"] forms a word square because each word reads the same both horizontally and vertically.\n",
        "\n",
        "b a l l;\n",
        "a r e a;\n",
        "l e a d;\n",
        "l a d y;"
      ]
    },
    {
      "cell_type": "code",
      "metadata": {
        "id": "OhORrHC45IRo",
        "colab_type": "code",
        "colab": {}
      },
      "source": [
        " class Solution:\n",
        "    def wordSquares(self, words):\n",
        "\n",
        "        self.words = words\n",
        "        self.N = len(words[0])\n",
        "        self.buildPrefixHashTable(self.words)\n",
        "        results = []\n",
        "        word_squares = []\n",
        "        for word in words:\n",
        "            word_squares = [word]\n",
        "            self.backtracking(1, word_squares, results)\n",
        "        return results\n",
        "\n",
        "    def backtracking(self, step, word_squares, results):\n",
        "        if step == self.N:\n",
        "            results.append(word_squares[:])\n",
        "            return\n",
        "\n",
        "        prefix = ''.join([word[step] for word in word_squares])\n",
        "        for candidate in self.getWordsWithPrefix(prefix):\n",
        "            word_squares.append(candidate)\n",
        "            self.backtracking(step+1, word_squares, results)\n",
        "            word_squares.pop()\n",
        "\n",
        "    def buildPrefixHashTable(self, words):\n",
        "        self.prefixHashTable = {}\n",
        "        for word in words:\n",
        "            for prefix in (word[:i] for i in range(1, len(word))):\n",
        "                self.prefixHashTable.setdefault(prefix, set()).add(word)\n",
        "\n",
        "    def getWordsWithPrefix(self, prefix):\n",
        "        if prefix in self.prefixHashTable:\n",
        "            return self.prefixHashTable[prefix]\n",
        "        else:\n",
        "            return set([])"
      ],
      "execution_count": 0,
      "outputs": []
    },
    {
      "cell_type": "markdown",
      "metadata": {
        "id": "ThNCqUItMx9J",
        "colab_type": "text"
      },
      "source": [
        "**527. Word Abbreviation**\n",
        "Given an array of n distinct non-empty strings, you need to generate minimal possible abbreviations for every word following rules below.\n",
        "\n",
        "Begin with the first character and then the number of characters abbreviated, which followed by the last character.\n",
        "If there are any conflict, that is more than one words share the same abbreviation, a longer prefix is used instead of only the first character until making the map from word to abbreviation become unique. In other words, a final abbreviation cannot map to more than one original words.\n",
        "If the abbreviation doesn't make the word shorter, then keep it as original.\n",
        "\n",
        "Input: [\"like\", \"god\", \"internal\", \"me\", \"internet\", \"interval\", \"intension\", \"face\", \"intrusion\"]\n",
        "Output: [\"l2e\",\"god\",\"internal\",\"me\",\"i6t\",\"interval\",\"inte4n\",\"f2e\",\"intr4n\"]"
      ]
    },
    {
      "cell_type": "code",
      "metadata": {
        "id": "_6yjArWHM_EV",
        "colab_type": "code",
        "colab": {}
      },
      "source": [
        "class Solution(object):\n",
        "    def wordsAbbreviation(self, words):\n",
        "        def abbrev(word, i = 0):\n",
        "            if (len(word) - i <= 3): return word\n",
        "            return word[:i+1] + str(len(word) - i - 2) + word[-1]\n",
        "\n",
        "        N = len(words)\n",
        "        ans = map(abbrev, words)\n",
        "        prefix = [0] * N\n",
        "\n",
        "        for i in xrange(N):\n",
        "            while True:\n",
        "                dupes = set()\n",
        "                for j in xrange(i+1, N):\n",
        "                    if ans[i] == ans[j]:\n",
        "                        dupes.add(j)\n",
        "\n",
        "                if not dupes: break\n",
        "                dupes.add(i)\n",
        "                for k in dupes:\n",
        "                    prefix[k] += 1\n",
        "                    ans[k] = abbrev(words[k], prefix[k])\n",
        "        return ans"
      ],
      "execution_count": 0,
      "outputs": []
    },
    {
      "cell_type": "markdown",
      "metadata": {
        "id": "vTWGRHhCUSDF",
        "colab_type": "text"
      },
      "source": [
        "**280. Wiggle Sort**\n",
        "Given an unsorted array nums, reorder it in-place such that nums[0] <= nums[1] >= nums[2] <= nums[3]....\n",
        "\n",
        "Example:\n",
        "\n",
        "Input: nums = [3,5,2,1,6,4]\n",
        "Output: One possible answer is [3,5,1,6,2,4]\n"
      ]
    },
    {
      "cell_type": "code",
      "metadata": {
        "id": "Rj-SruKCVQ0O",
        "colab_type": "code",
        "colab": {}
      },
      "source": [
        "def wiggleSort(self, nums):\n",
        "    for i in range(len(nums)):\n",
        "        nums[i:i+2] = sorted(nums[i:i+2], reverse=i%2)\n",
        "\n",
        "\n",
        "\n",
        "class Solution(object):\n",
        "    def wiggleSort(self, nums):\n",
        "        for i in xrange(1, len(nums)):\n",
        "            if (i % 2) ^ (nums[i] > nums[i - 1]):\n",
        "                nums[i], nums[i - 1] = nums[i - 1], nums[i]\n"
      ],
      "execution_count": 0,
      "outputs": []
    },
    {
      "cell_type": "markdown",
      "metadata": {
        "id": "7Nfbpa1uVjCr",
        "colab_type": "text"
      },
      "source": [
        "**286. Walls and Gates**\n",
        "You are given a m x n 2D grid initialized with these three possible values.\n",
        "\n",
        "-1 - A wall or an obstacle.\n",
        "0 - A gate.\n",
        "INF - Infinity means an empty room. We use the value 231 - 1 = 2147483647 to represent INF as you may assume that the distance to a gate is less than 2147483647.\n",
        "Fill each empty room with the distance to its nearest gate. If it is impossible to reach a gate, it should be filled with INF"
      ]
    },
    {
      "cell_type": "code",
      "metadata": {
        "id": "77nZDYSMXqWs",
        "colab_type": "code",
        "colab": {}
      },
      "source": [
        "def wallsAndGates(self, rooms):\n",
        "    if not rooms:\n",
        "        return \n",
        "    r, c= len(rooms), len(rooms[0])\n",
        "    for i in xrange(r):\n",
        "        for j in xrange(c):\n",
        "            if rooms[i][j] == 0:\n",
        "                queue = collections.deque([])\n",
        "                queue.append((i+1, j, 1)); queue.append((i-1, j, 1))\n",
        "                queue.append((i, j+1, 1)); queue.append((i, j-1, 1))\n",
        "                visited = set()\n",
        "                while queue:\n",
        "                    x, y, val = queue.popleft()\n",
        "                    if x < 0 or x >= r or y < 0 or y >= c or rooms[x][y] in [0, -1] or (x, y) in visited:\n",
        "                        continue\n",
        "                    visited.add((x, y))\n",
        "                    rooms[x][y] = min(rooms[x][y], val)\n",
        "                    queue.append((x+1, y, val+1)); queue.append((x-1, y, val+1))\n",
        "                    queue.append((x, y+1, val+1)); queue.append((x, y-1, val+1))"
      ],
      "execution_count": 0,
      "outputs": []
    },
    {
      "cell_type": "markdown",
      "metadata": {
        "id": "2KUGd8o8Nbx7",
        "colab_type": "text"
      },
      "source": [
        "**422. Valid Word Square**\n",
        "\n",
        "Given a sequence of words, check whether it forms a valid word square.\n",
        "A sequence of words forms a valid word square if the kth row and column read the exact same string, where 0 ≤ k < max(numRows, numColumns)."
      ]
    },
    {
      "cell_type": "code",
      "metadata": {
        "id": "mtIk7qskPjSN",
        "colab_type": "code",
        "colab": {}
      },
      "source": [
        " class Solution(object):\n",
        "    def validWordSquare(self, words):\n",
        "        for i in range(len(words)):\n",
        "            for j in range(len(words[i])):\n",
        "                if j >= len(words) or i >= len(words[j]) or words[i][j] != words[j][i]:\n",
        "                    return False\n",
        "        return True"
      ],
      "execution_count": 0,
      "outputs": []
    },
    {
      "cell_type": "markdown",
      "metadata": {
        "id": "nMI-qQN6isHR",
        "colab_type": "text"
      },
      "source": [
        "**408. Valid Word Abbreviation**\n",
        "\n",
        "Given a non-empty string s and an abbreviation abbr, return whether the string matches with the given abbreviation.\n",
        "Given s = \"internationalization\", abbr = \"i12iz4n\":\n",
        "\n",
        "Return true.\n"
      ]
    },
    {
      "cell_type": "code",
      "metadata": {
        "id": "MODgcG4V6a3-",
        "colab_type": "code",
        "colab": {}
      },
      "source": [
        "def validWordAbbreviation(self, word, abbr):\n",
        "    regex = re.sub('\\d+', lambda m: '.' * int(m.group()), abbr)\n",
        "    return bool(re.match(regex + '$', word)) and not re.search('(^|\\D)0', abbr)\n",
        "\n",
        "\n",
        "class Solution(object):\n",
        "    def validWordAbbreviation(self, word, abbr):\n",
        "        \"\"\"\n",
        "        :type word: str\n",
        "        :type abbr: str\n",
        "        :rtype: bool\n",
        "        \"\"\"\n",
        "        i, n = 0, ''\n",
        "        for c in abbr:\n",
        "            if c.isalpha():\n",
        "                i += int('0'+n)\n",
        "                if i >= len(word) or c != word[i]: return False\n",
        "                i, n = i+1, ''\n",
        "            else:\n",
        "                if n == '' and c == '0': return False\n",
        "                n += c\n",
        "        return i+int('0'+n) == len(word)"
      ],
      "execution_count": 0,
      "outputs": []
    },
    {
      "cell_type": "markdown",
      "metadata": {
        "id": "d31Tg9JgNg-g",
        "colab_type": "text"
      },
      "source": [
        "**1099. Two Sum Less Than K**\n",
        "\n",
        "Given an array A of integers and integer K, return the maximum S such that there exists i < j with A[i] + A[j] = S and S < K. If no i, j exist satisfying this equation, return -1."
      ]
    },
    {
      "cell_type": "code",
      "metadata": {
        "id": "no0Uaw3aNgtK",
        "colab_type": "code",
        "colab": {}
      },
      "source": [
        "class Solution:\n",
        "    def twoSumLessThanK(self, A, K):\n",
        "        A.sort()\n",
        "        lo, hi = 0, len(A)-1\n",
        "        ans = -1\n",
        "        while lo < hi: \n",
        "            x = A[lo] + A[hi]\n",
        "            if x < K: \n",
        "                lo += 1\n",
        "                ans = max(ans, x)\n",
        "            else: hi -= 1\n",
        "        return ans\n",
        "       "
      ],
      "execution_count": 0,
      "outputs": []
    },
    {
      "cell_type": "markdown",
      "metadata": {
        "id": "4zEawFYDNoel",
        "colab_type": "text"
      },
      "source": [
        "**1245. Tree Diameter**\n",
        "\n",
        "Given an undirected tree, return its diameter: the number of edges in a longest path in that tree.\n",
        "\n",
        "The tree is given as an array of edges where edges[i] = [u, v] is a bidirectional edge between nodes u and v.  Each node has labels in the set {0, 1, ..., edges.length}.\n",
        "\n",
        " Input: edges = [[0,1],[0,2]]\n",
        "Output: 2\n",
        "Explanation: \n",
        "A longest path of the tree is the path 1 - 0 - 2.\n",
        "Input: edges = [[0,1],[1,2],[2,3],[1,4],[4,5]]\n",
        "Output: 4\n",
        "Explanation: \n",
        "A longest path of the tree is the path 3 - 2 - 1 - 4 - 5."
      ]
    },
    {
      "cell_type": "code",
      "metadata": {
        "id": "-Yisq1pLNo_9",
        "colab_type": "code",
        "colab": {}
      },
      "source": [
        "#BFS:\n",
        "class Solution:\n",
        "    def treeDiameter(self, edges: List[List[int]], move: int = 0) -> int:\n",
        "        graph = collections.defaultdict(set)\n",
        "        for a, b in edges:\n",
        "            graph[a].add(b)\n",
        "            graph[b].add(a)\n",
        "        bfs = {(u, None) for u, nex in graph.items() if len(nex) == 1}\n",
        "        while bfs:\n",
        "            bfs, move = {(v, u) for u, pre in bfs for v in graph[u] if v != pre}, move + 1\n",
        "        return max(move - 1, 0)\n",
        "#DFS:\n",
        "class Solution:\n",
        "    diameter = 0\n",
        "    def treeDiameter(self, edges: List[List[int]], move: int = 0) -> int:\n",
        "        def dfs(node, pre):\n",
        "            d1 = d2 = 0\n",
        "            for nex in graph[node]:\n",
        "                if nex != pre:\n",
        "                    d = dfs(nex, node)\n",
        "                    if d > d1:\n",
        "                        d1, d2 = d, d1\n",
        "                    elif d > d2:\n",
        "                        d2 = d\n",
        "            self.diameter = max(self.diameter, d1 + d2)\n",
        "            return d1 + 1\n",
        "        graph = collections.defaultdict(set)\n",
        "        for a, b in edges:\n",
        "            graph[a].add(b)\n",
        "            graph[b].add(a)\n",
        "        dfs(0, None)\n",
        "        return self.diameter"
      ],
      "execution_count": 0,
      "outputs": []
    },
    {
      "cell_type": "markdown",
      "metadata": {
        "id": "GFg42Hw3QKZl",
        "colab_type": "text"
      },
      "source": [
        "**505. The Maze II**\n",
        "\n",
        "There is a ball in a maze with empty spaces and walls. The ball can go through empty spaces by rolling up, down, left or right, but it won't stop rolling until hitting a wall. When the ball stops, it could choose the next direction.\n",
        "\n",
        "Given the ball's start position, the destination and the maze, find the shortest distance for the ball to stop at the destination. The distance is defined by the number of empty spaces traveled by the ball from the start position (excluded) to the destination (included). If the ball cannot stop at the destination, return -1.\n",
        "\n",
        "The maze is represented by a binary 2D array. 1 means the wall and 0 means the empty space. You may assume that the borders of the maze are all walls. The start and destination coordinates are represented by row and column indexes."
      ]
    },
    {
      "cell_type": "code",
      "metadata": {
        "id": "3YXhVahYQKtG",
        "colab_type": "code",
        "colab": {}
      },
      "source": [
        "class Solution:\n",
        "    def shortestDistance(self, maze, start, destination):\n",
        "        m, n, q, stopped = len(maze), len(maze[0]), [(0, start[0], start[1])], {(start[0], start[1]):0}\n",
        "        while q:\n",
        "            dist, x, y = heapq.heappop(q)\n",
        "            if [x, y] == destination:\n",
        "                return dist\n",
        "            for i, j in ((-1, 0), (1, 0), (0, -1), (0, 1)):\n",
        "                newX, newY, d = x, y, 0\n",
        "                while 0 <= newX + i < m and 0 <= newY + j < n and maze[newX + i][newY + j] != 1:\n",
        "                    newX += i\n",
        "                    newY += j\n",
        "                    d += 1\n",
        "                if (newX, newY) not in stopped or dist + d < stopped[(newX, newY)]:\n",
        "                    stopped[(newX, newY)] = dist + d\n",
        "                    heapq.heappush(q, (dist + d, newX, newY))\n",
        "        return -1"
      ],
      "execution_count": 0,
      "outputs": []
    },
    {
      "cell_type": "markdown",
      "metadata": {
        "id": "LSLnU65fQLAr",
        "colab_type": "text"
      },
      "source": [
        "**490. The Maze**\n",
        "\n",
        "There is a ball in a maze with empty spaces and walls. The ball can go through empty spaces by rolling up, down, left or right, but it won't stop rolling until hitting a wall. When the ball stops, it could choose the next direction.\n",
        "\n",
        "Given the ball's start position, the destination and the maze, determine whether the ball could stop at the destination.\n",
        "\n",
        "The maze is represented by a binary 2D array. 1 means the wall and 0 means the empty space. You may assume that the borders of the maze are all walls. The start and destination coordinates are represented by row and column indexes."
      ]
    },
    {
      "cell_type": "code",
      "metadata": {
        "id": "8B9YYTdFQLVs",
        "colab_type": "code",
        "colab": {}
      },
      "source": [
        "#BFS\n",
        "def hasPath(self, maze, start, destination):\n",
        "\n",
        "        Q = [start]\n",
        "        n = len(maze)\n",
        "        m = len(maze[0])\n",
        "        dirs = ((0, 1), (0, -1), (1, 0), (-1, 0))\n",
        "        \n",
        "        while Q:\n",
        "            # Use Q.pop() as DFS or Q.popleft() with deque from collections library for better performance. Kudos to @whglamrock\n",
        "            i, j = Q.pop(0)\n",
        "            maze[i][j] = 2\n",
        "\n",
        "            if i == destination[0] and j == destination[1]:\n",
        "                return True\n",
        "            \n",
        "            for x, y in dirs:\n",
        "                row = i + x\n",
        "                col = j + y\n",
        "                while 0 <= row < n and 0 <= col < m and maze[row][col] != 1:\n",
        "                    row += x\n",
        "                    col += y\n",
        "                row -= x\n",
        "                col -= y\n",
        "                if maze[row][col] == 0:\n",
        "                    Q.append([row, col])\n",
        "        \n",
        "        return False\n",
        "#DFS\n",
        "class Solution:\n",
        "    def hasPath(self, maze, start, destination):\n",
        "        m, n, stopped = len(maze), len(maze[0]), set()\n",
        "        def dfs(x, y):\n",
        "            if (x, y) in stopped: \n",
        "                return False\n",
        "            stopped.add((x, y))\n",
        "            if [x, y] == destination:\n",
        "                return True\n",
        "            for i, j in (-1, 0) , (1, 0), (0, -1), (0, 1):\n",
        "                newX, newY = x, y\n",
        "                while 0 <= newX + i < m and 0 <= newY + j < n and maze[newX + i][newY + j] != 1:\n",
        "                    newX += i\n",
        "                    newY += j\n",
        "                if dfs(newX, newY):\n",
        "                    return True\n",
        "            return False\n",
        "        return dfs(*start)"
      ],
      "execution_count": 0,
      "outputs": []
    },
    {
      "cell_type": "markdown",
      "metadata": {
        "id": "YEK1k-t_QLvF",
        "colab_type": "text"
      },
      "source": [
        "**499. The Maze III**\n",
        "\n",
        "There is a ball in a maze with empty spaces and walls. The ball can go through empty spaces by rolling up (u), down (d), left (l) or right (r), but it won't stop rolling until hitting a wall. When the ball stops, it could choose the next direction. There is also a hole in this maze. The ball will drop into the hole if it rolls on to the hole.\n",
        "\n",
        "Given the ball position, the hole position and the maze, find out how the ball could drop into the hole by moving the shortest distance. The distance is defined by the number of empty spaces traveled by the ball from the start position (excluded) to the hole (included). Output the moving directions by using 'u', 'd', 'l' and 'r'. Since there could be several different shortest ways, you should output the lexicographically smallest way. If the ball cannot reach the hole, output \"impossible\".\n",
        "\n",
        "The maze is represented by a binary 2D array. 1 means the wall and 0 means the empty space. You may assume that the borders of the maze are all walls. The ball and the hole coordinates are represented by row and column indexes."
      ]
    },
    {
      "cell_type": "code",
      "metadata": {
        "id": "ZmrwofrzQL_L",
        "colab_type": "code",
        "colab": {}
      },
      "source": [
        "#We can use Dijkstra's algorithm to find the shortest distance from the ball to the hole. \n",
        "#If you are unfamiliar with this algorithm, how it works is that we process events in priority order, \n",
        "#where the priority is (distance, path_string). When an event is processed, it adds neighboring nodes with respective distance.\n",
        "# To repeatedly find the highest priority node to process, we use a heap (priority queue or 'pq'),\n",
        "# where we can add nodes with logarithmic time complexity, and maintains the invariant that pq[0] is always the smallest (highest priority.) \n",
        "#When we reach the hole for the first time (if we do), \n",
        "#we are guaranteed to have the right answer in terms of having the shortest distance and the lexicographically smallest path-string.\n",
        "#When we look for the neighbors of a location in the matrix, we simulate walking up/left/right/down as long as we are inside the bounds of the matrix and the path is clear.\n",
        "# If during this simulation we reach the hole prematurely, we should also stop. If after searching with our algorithm it is the case that we never reached the hole, then the task is impossible.\n",
        "\n",
        "def findShortestWay(self, A, ball, hole):\n",
        "    ball, hole = tuple(ball), tuple(hole)\n",
        "    R, C = len(A), len(A[0])\n",
        "    \n",
        "    def neighbors(r, c):\n",
        "        for dr, dc, di in [(-1, 0, 'u'), (0, 1, 'r'), \n",
        "                           (0, -1, 'l'), (1, 0, 'd')]:\n",
        "            cr, cc, dist = r, c, 0\n",
        "            while (0 <= cr + dr < R and \n",
        "                    0 <= cc + dc < C and\n",
        "                    not A[cr+dr][cc+dc]):\n",
        "                cr += dr\n",
        "                cc += dc\n",
        "                dist += 1\n",
        "                if (cr, cc) == hole:\n",
        "                    break\n",
        "            yield (cr, cc), di, dist\n",
        "    \n",
        "    pq = [(0, '', ball)]\n",
        "    seen = set()\n",
        "    while pq:\n",
        "        dist, path, node = heapq.heappop(pq)\n",
        "        if node in seen: continue\n",
        "        if node == hole: return path\n",
        "        seen.add(node)\n",
        "        for nei, di, nei_dist in neighbors(*node):\n",
        "            heapq.heappush(pq, (dist+nei_dist, path+di, nei) )\n",
        "        \n",
        "    return \"impossible\""
      ],
      "execution_count": 0,
      "outputs": []
    },
    {
      "cell_type": "markdown",
      "metadata": {
        "id": "ReFO2aaZRIDM",
        "colab_type": "text"
      },
      "source": [
        "**246. Strobogrammatic Number**\n",
        "\n",
        "A strobogrammatic number is a number that looks the same when rotated 180 degrees (looked at upside down).\n",
        "\n",
        "Write a function to determine if a number is strobogrammatic. The number is represented as a string."
      ]
    },
    {
      "cell_type": "code",
      "metadata": {
        "id": "wA50AI9fRIZT",
        "colab_type": "code",
        "colab": {}
      },
      "source": [
        "def isStrobogrammatic(self, num):\n",
        "    \"\"\"\n",
        "    :type num: str\n",
        "    :rtype: bool\n",
        "    \"\"\"\n",
        "    maps = {(\"0\", \"0\"), (\"1\", \"1\"), (\"6\", \"9\"), (\"8\", \"8\"), (\"9\", \"6\")}\n",
        "    i,j = 0, len(num) - 1\n",
        "    while i <= j:\n",
        "        if (num[i], num[j]) not in maps:\n",
        "            return False\n",
        "        i += 1\n",
        "        j -= 1\n",
        "    return True\n",
        "#SOME others:\n",
        "def isStrobogrammatic(self, num):\n",
        "    return all(c + d in '696 00 11 88' for c, d in zip(num, num[::-1]))\n",
        "\n",
        "def isStrobogrammatic(self, num):\n",
        "    return all(num[i] + num[~i] in '696 00 11 88' for i in range(len(num)))\n",
        "\n",
        "def isStrobogrammatic(self, num):\n",
        "    return all(map('696 00 11 88'.count, map(operator.add, num, num[::-1])))\n",
        "\n",
        "def isStrobogrammatic(self, num):\n",
        "    return all(p in '696 00 11 88' for p in map(operator.add, num, num[::-1]))\n",
        "\n",
        "def isStrobogrammatic(self, num):\n",
        "    return set(map(operator.add, num, num[::-1])) <= set('69 96 00 11 88'.split())\n",
        "\n",
        "def isStrobogrammatic(self, num):\n",
        "    return set(map(operator.add, num, num[::-1])) <= {'69', '96', '00', '11', '88'}\n",
        "\n",
        "def isStrobogrammatic(self, num):\n",
        "    return set(map(''.join, zip(num, num[::-1]))) <= {'69', '96', '00', '11', '88'}"
      ],
      "execution_count": 0,
      "outputs": []
    },
    {
      "cell_type": "markdown",
      "metadata": {
        "id": "C7u5QGZJRI-n",
        "colab_type": "text"
      },
      "source": [
        "**247. Strobogrammatic Number II**\n",
        "\n",
        "A strobogrammatic number is a number that looks the same when rotated 180 degrees (looked at upside down).\n",
        "\n",
        "Find all strobogrammatic numbers that are of length = n.\n",
        "\n",
        "Input:  n = 2\n",
        "Output: [\"11\",\"69\",\"88\",\"96\"]"
      ]
    },
    {
      "cell_type": "code",
      "metadata": {
        "id": "4-lz1VliRJSd",
        "colab_type": "code",
        "colab": {}
      },
      "source": [
        "def findStrobogrammatic(self, n):\n",
        "    evenMidCandidate = [\"11\",\"69\",\"88\",\"96\", \"00\"]\n",
        "    oddMidCandidate = [\"0\", \"1\", \"8\"]\n",
        "    if n == 1:\n",
        "        return oddMidCandidate\n",
        "    if n == 2:\n",
        "        return evenMidCandidate[:-1]\n",
        "    if n % 2:\n",
        "        pre, midCandidate = self.findStrobogrammatic(n-1), oddMidCandidate\n",
        "    else: \n",
        "        pre, midCandidate = self.findStrobogrammatic(n-2), evenMidCandidate\n",
        "    premid = (n-1)//2\n",
        "    return [p[:premid] + c + p[premid:] for c in midCandidate for p in pre]\n",
        "#method 2\n",
        "def findStrobogrammatic(self, n):\n",
        "    nums = n%2 * list('018') or ['']\n",
        "    while n > 1:\n",
        "        n -= 2\n",
        "        nums = [a + num + b for a, b in '00 11 88 69 96'.split()[n<2:] for num in nums]\n",
        "    return nums"
      ],
      "execution_count": 0,
      "outputs": []
    },
    {
      "cell_type": "markdown",
      "metadata": {
        "id": "VUKNSbGISkr3",
        "colab_type": "text"
      },
      "source": [
        "**1153. String Transforms Into Another String**\n",
        "Given two strings str1 and str2 of the same length, determine whether you can transform str1 into str2 by doing zero or more conversions.\n",
        "\n",
        "In one conversion you can convert all occurrences of one character in str1 to any other lowercase English character.\n",
        "\n",
        "Return true if and only if you can transform str1 into str2."
      ]
    },
    {
      "cell_type": "code",
      "metadata": {
        "id": "i6y_5cNhSk_F",
        "colab_type": "code",
        "colab": {}
      },
      "source": [
        "#Map each character in str1 to what it needs to be in str2. If any of these mappings collide \n",
        "#(e.g. str1 = \"aa\", str2 = \"bc\", \"a\" needs to become both \"b\" and \"c\") we immediately return False since the transformation is impossible.\n",
        "#Next, we check the number of unique characters in str2.\n",
        "# If all 26 characters are represented, there are no characters available to use for temporary conversions, \n",
        "#and the transformation is impossible. The only exception to this is if str1 is equal to str2, so we handle this case at the start of the function.\n",
        "#method1\n",
        "class Solution:\n",
        "    def canConvert(self, str1: str, str2: str) -> bool:\n",
        "        if str1 == str2:\n",
        "            return True\n",
        "        m = {}\n",
        "        for i in range(len(str1)):\n",
        "            if str1[i] not in m:\n",
        "                m[str1[i]] = str2[i]\n",
        "            elif m[str1[i]] != str2[i]:\n",
        "                return False\n",
        "        return len(set(str2)) < 26\n",
        "\n",
        "#method 2\n",
        "def canConvert(self, s1, s2):\n",
        "        if s1 == s2: return True\n",
        "        dp = {}\n",
        "        for i, j in zip(s1, s2):\n",
        "            if dp.setdefault(i, j) != j:\n",
        "                return False\n",
        "        return len(set(s2)) < 26"
      ],
      "execution_count": 0,
      "outputs": []
    },
    {
      "cell_type": "markdown",
      "metadata": {
        "id": "SjOA3YzXUN9s",
        "colab_type": "text"
      },
      "source": [
        "**776. Split BST**\n",
        "\n",
        "Given a Binary Search Tree (BST) with root node root, and a target value V, split the tree into two subtrees where one subtree has nodes that are all smaller or equal to the target value, while the other subtree has all nodes that are greater than the target value.  It's not necessarily the case that the tree contains a node with value V.\n",
        "\n",
        "Additionally, most of the structure of the original tree should remain.  Formally, for any child C with parent P in the original tree, if they are both in the same subtree after the split, then node C should still have the parent P.\n",
        "\n",
        "You should output the root TreeNode of both subtrees after splitting, in any order."
      ]
    },
    {
      "cell_type": "code",
      "metadata": {
        "id": "1gM14rkzUOP9",
        "colab_type": "code",
        "colab": {}
      },
      "source": [
        "#recursion:\n",
        "class Solution(object):\n",
        "    def splitBST(self, root, V):\n",
        "        if not root:\n",
        "            return None, None\n",
        "        elif root.val <= V:\n",
        "            bns = self.splitBST(root.right, V)\n",
        "            root.right = bns[0]\n",
        "            return root, bns[1]\n",
        "        else:\n",
        "            bns = self.splitBST(root.left, V)\n",
        "            root.left = bns[1]\n",
        "            return bns[0], root\n",
        "#If the root is larger than V, then return it as the greater-than part after extracting the smaller-or-equal part out of its left subtree.\n",
        "# Otherwise return it as the smaller-or-equal part after extracting the greater-than part out of its right subtree.\n",
        "#I like directly assigning right back to root.left / root.right from the recursive call.\n",
        "# I's not just shorter than using an extra temporary variable, I also find it clearer. \n",
        "#I like how it expresses \"extract the other part out of this\".\n",
        "\n",
        "def splitBST(self, root, V):\n",
        "    if not root:\n",
        "        return [None, None]\n",
        "    if root.val > V:\n",
        "        se, root.left = self.splitBST(root.left, V)\n",
        "        return [se, root]\n",
        "    root.right, gt = self.splitBST(root.right, V)\n",
        "    return [root, gt]"
      ],
      "execution_count": 0,
      "outputs": []
    },
    {
      "cell_type": "markdown",
      "metadata": {
        "id": "SK0OK0FxVTKk",
        "colab_type": "text"
      },
      "source": [
        "**311. Sparse Matrix Multiplication**\n",
        "\n",
        "Given two sparse matrices A and B, return the result of AB.\n",
        "\n",
        "You may assume that A's column number is equal to B's row number."
      ]
    },
    {
      "cell_type": "code",
      "metadata": {
        "id": "lVMcjPFfVTbL",
        "colab_type": "code",
        "colab": {}
      },
      "source": [
        "class Solution(object):\n",
        "    def multiply(self, A, B):\n",
        "        \"\"\"\n",
        "        :type A: List[List[int]]\n",
        "        :type B: List[List[int]]\n",
        "        :rtype: List[List[int]]\n",
        "        \"\"\"\n",
        "        if A is None or B is None: return None\n",
        "        m, n, l = len(A), len(A[0]), len(B[0])\n",
        "        if len(B) != n:\n",
        "            raise Exception(\"A's column number must be equal to B's row number.\")\n",
        "        C = [[0 for _ in range(l)] for _ in range(m)]\n",
        "        for i, row in enumerate(A):\n",
        "            for k, eleA in enumerate(row):\n",
        "                if eleA:\n",
        "                    for j, eleB in enumerate(B[k]):\n",
        "                        if eleB: C[i][j] += eleA * eleB\n",
        "        return C"
      ],
      "execution_count": 0,
      "outputs": []
    },
    {
      "cell_type": "markdown",
      "metadata": {
        "id": "wC3oFRGVY7Ou",
        "colab_type": "text"
      },
      "source": [
        "**360. Sort Transformed Array**\n",
        "\n",
        "Given a sorted array of integers nums and integer values a, b and c. Apply a quadratic function of the form f(x) = ax2 + bx + c to each element x in the array.\n",
        "\n",
        "The returned array must be in sorted order.\n",
        "\n",
        "Expected time complexity: O(n)"
      ]
    },
    {
      "cell_type": "code",
      "metadata": {
        "id": "I-Eciv31Y91C",
        "colab_type": "code",
        "colab": {}
      },
      "source": [
        "class Solution(object):\n",
        "    def sortTransformedArray(self, nums, a, b, c):\n",
        "        \"\"\"\n",
        "        :type nums: List[int]\n",
        "        :type a: int\n",
        "        :type b: int\n",
        "        :type c: int\n",
        "        :rtype: List[int]\n",
        "        \"\"\"\n",
        "        res=[]\n",
        "        for i in nums:\n",
        "            res.append(a*i**2+b*i+c)\n",
        "        res.sort()\n",
        "        return res"
      ],
      "execution_count": 0,
      "outputs": []
    },
    {
      "cell_type": "markdown",
      "metadata": {
        "id": "TwfvgltVZ1hV",
        "colab_type": "text"
      },
      "source": [
        "**302. Smallest Rectangle Enclosing Black Pixels**\n",
        "\n",
        "An image is represented by a binary matrix with 0 as a white pixel and 1 as a black pixel. The black pixels are connected, i.e., there is only one black region. Pixels are connected horizontally and vertically. Given the location (x, y) of one of the black pixels, return the area of the smallest (axis-aligned) rectangle that encloses all black pixels.\n",
        "\n",
        "Example:\n",
        "\n",
        "Input:\n",
        "[\n",
        "  \"0010\",\n",
        "  \"0110\",\n",
        "  \"0100\"\n",
        "]\n",
        "and x = 0, y = 2\n",
        "\n",
        "Output: 6"
      ]
    },
    {
      "cell_type": "code",
      "metadata": {
        "id": "KFcJekP1Z1yh",
        "colab_type": "code",
        "colab": {}
      },
      "source": [
        "##binary search\n",
        "def minArea(self, image, x, y):\n",
        "    top = self.searchRows(image, 0, x, True)\n",
        "    bottom = self.searchRows(image, x + 1, len(image), False)\n",
        "    left = self.searchColumns(image, 0, y, top, bottom, True)\n",
        "    right = self.searchColumns(image, y + 1, len(image[0]), top, bottom, False)\n",
        "    return (right - left) * (bottom - top)\n",
        "\n",
        "def searchRows(self, image, i, j, opt):\n",
        "    while i != j:\n",
        "        m = (i + j) // 2\n",
        "        if ('1' in image[m]) == opt:\n",
        "            j = m\n",
        "        else:\n",
        "            i = m + 1\n",
        "    return i\n",
        "\n",
        "def searchColumns(self, image, i, j, top, bottom, opt):\n",
        "    while i != j:\n",
        "        m = (i + j) // 2\n",
        "        if any(image[k][m] == '1' for k in xrange(top, bottom)) == opt:\n",
        "            j = m\n",
        "        else:\n",
        "            i = m + 1\n",
        "    return i\n",
        "# Runtime: 56 ms\n",
        "\n",
        "#method 2\n",
        "def minArea(self, image, x, y):\n",
        "    def first(lo, hi, check):\n",
        "        while lo < hi:\n",
        "            mid = (lo + hi) / 2\n",
        "            if check(mid):\n",
        "                hi = mid\n",
        "            else:\n",
        "                lo = mid + 1\n",
        "        return lo\n",
        "    top    = first(0, x,             lambda x: '1' in image[x])\n",
        "    bottom = first(x, len(image),    lambda x: '1' not in image[x])\n",
        "    left   = first(0, y,             lambda y: any(row[y] == '1' for row in image))\n",
        "    right  = first(y, len(image[0]), lambda y: all(row[y] == '0' for row in image))\n",
        "    return (bottom - top) * (right - left)"
      ],
      "execution_count": 0,
      "outputs": []
    },
    {
      "cell_type": "markdown",
      "metadata": {
        "id": "7Pwg8RP3alpZ",
        "colab_type": "text"
      },
      "source": [
        "**1165. Single-Row Keyboard**\n",
        "\n",
        "There is a special keyboard with all keys in a single row.\n",
        "\n",
        "Given a string keyboard of length 26 indicating the layout of the keyboard (indexed from 0 to 25), initially your finger is at index 0. To type a character, you have to move your finger to the index of the desired character. The time taken to move your finger from index i to index j is |i - j|.\n",
        "\n",
        "You want to type a string word. Write a function to calculate how much time it takes to type it with one finger."
      ]
    },
    {
      "cell_type": "code",
      "metadata": {
        "id": "pAKle6NQaoGc",
        "colab_type": "code",
        "colab": {}
      },
      "source": [
        "class Solution:\n",
        "    def calculateTime(self, keyboard: str, word: str) -> int:\n",
        "        cur_index = 0\n",
        "        time = 0\n",
        "        for w in word:\n",
        "            next_index = keyboard.index(w)\n",
        "            time += abs(next_index - cur_index)\n",
        "            cur_index = next_index\n",
        "        return time"
      ],
      "execution_count": 0,
      "outputs": []
    },
    {
      "cell_type": "markdown",
      "metadata": {
        "id": "voKjPAY6bKUe",
        "colab_type": "text"
      },
      "source": [
        "**800. Similar RGB Color**\n",
        "\n",
        "In the following, every capital letter represents some hexadecimal digit from 0 to f.\n",
        "\n",
        "The red-green-blue color \"#AABBCC\" can be written as \"#ABC\" in shorthand.  For example, \"#15c\" is shorthand for the color \"#1155cc\".\n",
        "\n",
        "Now, say the similarity between two colors \"#ABCDEF\" and \"#UVWXYZ\" is -(AB - UV)^2 - (CD - WX)^2 - (EF - YZ)^2.\n",
        "\n",
        "Given the color \"#ABCDEF\", return a 7 character color that is most similar to #ABCDEF, and has a shorthand (that is, it can be represented as some \"#XYZ\""
      ]
    },
    {
      "cell_type": "code",
      "metadata": {
        "id": "Nnbdz-iHbQZm",
        "colab_type": "code",
        "colab": {}
      },
      "source": [
        "#brute force\n",
        "class Solution(object):\n",
        "    def similarRGB(self, color):\n",
        "        def similarity(hex1, hex2):\n",
        "            r1, g1, b1 = hex1 >> 16, (hex1 >> 8) % 256, hex1 % 256\n",
        "            r2, g2, b2 = hex2 >> 16, (hex2 >> 8) % 256, hex2 % 256\n",
        "            return -(r1 - r2)**2 - (g1 - g2)**2 - (b1 - b2)**2\n",
        "\n",
        "        hex1 = int(color[1:], 16)\n",
        "        ans = 0\n",
        "        for r in xrange(16):\n",
        "            for g in xrange(16):\n",
        "                for b in xrange(16):\n",
        "                    hex2 = 17 * r * (1 << 16) + 17 * g * (1 << 8) + 17 * b\n",
        "                    if similarity(hex1, hex2) > similarity(hex1, ans):\n",
        "                        ans = hex2\n",
        "\n",
        "        return '#{:06x}'.format(ans)\n",
        "\n",
        "#rounding by component\n",
        "class Solution(object):\n",
        "    def similarRGB(self, color):\n",
        "        def f(comp):\n",
        "            q, r = divmod(int(comp, 16), 17)\n",
        "            if r > 8: q += 1\n",
        "            return '{:02x}'.format(17 * q)\n",
        "\n",
        "        return '#' + f(color[1:3]) + f(color[3:5]) + f(color[5:])"
      ],
      "execution_count": 0,
      "outputs": []
    },
    {
      "cell_type": "markdown",
      "metadata": {
        "id": "0_ftP-XdbY7L",
        "colab_type": "text"
      },
      "source": [
        "**243. Shortest Word Distance**\n",
        "\n",
        "Given a list of words and two words word1 and word2, return the shortest distance between these two words in the list.\n",
        "\n",
        "Example:\n",
        "Assume that words = [\"practice\", \"makes\", \"perfect\", \"coding\", \"makes\"].\n",
        "\n",
        "Input: word1 = “coding”, word2 = “practice”\n",
        "Output: 3\n",
        "Input: word1 = \"makes\", word2 = \"coding\"\n",
        "Output: 1"
      ]
    },
    {
      "cell_type": "code",
      "metadata": {
        "id": "drwaW3uCcXnq",
        "colab_type": "code",
        "colab": {
          "base_uri": "https://localhost:8080/",
          "height": 34
        },
        "outputId": "b36dc172-5fa5-4978-cd8a-00ec0e073e13"
      },
      "source": [
        "class Solution(object):\n",
        "    def shortestDistance(self, words, word1, word2):\n",
        "        \"\"\"\n",
        "        :type words: List[str]\n",
        "        :type word1: str\n",
        "        :type word2: str\n",
        "        :rtype: int\n",
        "        \"\"\"\n",
        "        w1i, w2i = words.index(word1), words.index(word2)\n",
        "        d = abs(w1i - w2i)\n",
        "        for i, word in enumerate(words):\n",
        "            if word == word1:\n",
        "                w1i = i\n",
        "                if abs(i - w2i) < d:\n",
        "                    d = abs(i - w2i)\n",
        "            elif word == word2:\n",
        "                w2i = i\n",
        "                if abs(i - w1i) < d:\n",
        "                    d = abs(i - w1i)\n",
        "        return d"
      ],
      "execution_count": 28,
      "outputs": [
        {
          "output_type": "stream",
          "text": [
            "1\n"
          ],
          "name": "stdout"
        }
      ]
    },
    {
      "cell_type": "markdown",
      "metadata": {
        "id": "ctDQ640afdgK",
        "colab_type": "text"
      },
      "source": [
        "**1055. Shortest Way to Form String**\n",
        "\n",
        "From any string, we can form a subsequence of that string by deleting some number of characters (possibly no deletions).\n",
        "\n",
        "Given two strings source and target, return the minimum number of subsequences of source such that their concatenation equals target. If the task is impossible, return -1.\n",
        "\n",
        " "
      ]
    },
    {
      "cell_type": "markdown",
      "metadata": {
        "id": "nCZyGeECfsPi",
        "colab_type": "text"
      },
      "source": [
        "**Ans**:This is a google phone screen question. It's the same idea as 792. Number of Matching Subsequences. I recommend solving that question first.\n",
        "\n",
        "The idea is to create an inverted index that saves the offsets of where each character occurs in source. The index data structure is represented as a hashmap, where the Key is the character, and the Value is the (sorted) list of offsets where this character appears. To run the algorithm, for each character in target, use the index to get the list of possible offsets for this character. Then search this list for next offset which appears after the offset of the previous character. We can use binary search to efficiently search for the next offset in our index.\n",
        "\n",
        "Example with source = \"abcab\", target = \"aabbaac\"\n",
        "The inverted index data structure for this example would be:\n",
        "inverted_index = {\n",
        "a: [0, 3] # 'a' appears at index 0, 3 in source\n",
        "b: [1, 4], # 'b' appears at index 1, 4 in source\n",
        "c: [2], # 'c' appears at index 2 in source\n",
        "}\n",
        "Initialize i = -1 (i represents the smallest valid next offset) and loop_cnt = 1 (number of passes through source).\n",
        "Iterate through the target string \"aabbaac\"\n",
        "a => get the offsets of character 'a' which is [0, 3]. Set i to 1.\n",
        "a => get the offsets of character 'a' which is [0, 3]. Set i to 4.\n",
        "b => get the offsets of character 'b' which is [1, 4]. Set i to 5.\n",
        "b => get the offsets of character 'b' which is [1, 4]. Increment loop_cnt to 2, and Set i to 2.\n",
        "a => get the offsets of character 'a' which is [0, 3]. Set i to 4.\n",
        "a => get the offsets of character 'a' which is [0, 3]. Increment loop_cnt to 3, and Set i to 1.\n",
        "c => get the offsets of character 'c' which is [2]. Set i to 3.\n",
        "We're done iterating through target so return the number of loops (3).\n",
        "\n",
        "The runtime is O(M) to build the index, and O(logM) for each query. There are N queries, so the total runtime is O(M + N*logM). M is the length of source and N is the length of target. The space complexity is O(M), which is the space needed to store the index."
      ]
    },
    {
      "cell_type": "code",
      "metadata": {
        "id": "jJkbHQXubZVV",
        "colab_type": "code",
        "colab": {}
      },
      "source": [
        "def shortestWay(self, source: str, target: str) -> int:\n",
        "    inverted_index = collections.defaultdict(list)\n",
        "    for i, ch in enumerate(source):\n",
        "        inverted_index[ch].append(i)\n",
        "\n",
        "    loop_cnt = 1\n",
        "    i = -1\n",
        "    for ch in target:\n",
        "        if ch not in inverted_index:\n",
        "            return -1\n",
        "        offset_list_for_ch = inverted_index[ch]\n",
        "        # bisect_left(A, x) returns the smallest index j s.t. A[j] >= x. If no such index j exists, it returns len(A).\n",
        "        j = bisect.bisect_left(offset_list_for_ch, i)\n",
        "        if j == len(offset_list_for_ch):\n",
        "            loop_cnt += 1\n",
        "            i = offset_list_for_ch[0] + 1\n",
        "        else:\n",
        "            i = offset_list_for_ch[j] + 1\n"
      ],
      "execution_count": 0,
      "outputs": []
    },
    {
      "cell_type": "markdown",
      "metadata": {
        "id": "UYLdd3yTfvDY",
        "colab_type": "text"
      },
      "source": [
        "**1182. Shortest Distance to Target Color**\n",
        "\n",
        "You are given an array colors, in which there are three colors: 1, 2 and 3.\n",
        "\n",
        "You are also given some queries. Each query consists of two integers i and c, return the shortest distance between the given index i and the target color c. If there is no solution return -1."
      ]
    },
    {
      "cell_type": "code",
      "metadata": {
        "id": "oEaFQPZ_fvW_",
        "colab_type": "code",
        "colab": {}
      },
      "source": [
        "#Basic idea is to group all indexes by color.\n",
        "#And for each index in the queries, do binary search on the color group.\n",
        "#There are 3 possibilites\n",
        "#  the index is before the list( list of indexes for a color group)\n",
        "#  the index is after the list\n",
        "#   the index is in the middle of the list\n",
        "class Solution:\n",
        "    def shortestDistanceColor(self, colors: List[int], queries: List[List[int]]) -> List[int]:\n",
        "        maps = collections.defaultdict(list)\n",
        "\t\t# group all indexes by color\n",
        "        for i, v in enumerate(colors): \n",
        "\t\t\tmaps[v].append(i)\n",
        "        \n",
        "        ans = []\n",
        "        for i, c in queries:\n",
        "            if c in maps:\n",
        "\t\t\t\t# search where the element can be inserted\n",
        "                index = bisect.bisect_left(maps[c], i)\n",
        "                if index == 0:\n",
        "                    ans.append(abs(i-maps[c][0]))\n",
        "                elif index >= len(maps[c]):\n",
        "                    ans.append(i-maps[c][-1])\n",
        "                else:\n",
        "                    ans.append(min(abs(i-maps[c][index-1]), abs(maps[c][index]-i)))\n",
        "            else:\n",
        "                ans.append(-1)\n",
        "        \n",
        "        return ans"
      ],
      "execution_count": 0,
      "outputs": []
    },
    {
      "cell_type": "markdown",
      "metadata": {
        "id": "hDOGQqstgHFw",
        "colab_type": "text"
      },
      "source": [
        "**317. Shortest Distance from All Buildings**\n",
        "\n",
        "You want to build a house on an empty land which reaches all buildings in the shortest amount of distance. You can only move up, down, left and right. You are given a 2D grid of values 0, 1 or 2, where:\n",
        "\n",
        "Each 0 marks an empty land which you can pass by freely.\n",
        "Each 1 marks a building which you cannot pass through.\n",
        "Each 2 marks an obstacle which you cannot pass through."
      ]
    },
    {
      "cell_type": "code",
      "metadata": {
        "id": "ilpizOD9gQ0A",
        "colab_type": "code",
        "colab": {}
      },
      "source": [
        "#python bfs \n",
        "#Use hit to record how many times a 0 grid has been reached and \n",
        "#use distSum to record the sum of distance from all 1 grids to this 0 grid.\n",
        "# A powerful pruning is that during the BFS we use count1 to count how many 1 grids we reached. \n",
        "#If count1 < buildings then we know not all 1 grids are connected are we can return -1 immediately, \n",
        "#which greatly improved speed (beat 100% submissions).\n",
        "\n",
        "def shortestDistance(self, grid):\n",
        "    if not grid or not grid[0]: return -1\n",
        "    M, N, buildings = len(grid), len(grid[0]), sum(val for line in grid for val in line if val == 1)\n",
        "    hit, distSum = [[0] * N for i in range(M)], [[0] * N for i in range(M)]\n",
        "    \n",
        "    def BFS(start_x, start_y):\n",
        "        visited = [[False] * N for k in range(M)]\n",
        "        visited[start_x][start_y], count1, queue = True, 1, collections.deque([(start_x, start_y, 0)])\n",
        "        while queue:\n",
        "            x, y, dist = queue.popleft()\n",
        "            for i, j in ((x + 1, y), (x - 1, y), (x, y + 1), (x, y - 1)):\n",
        "                if 0 <= i < M and 0 <= j < N and not visited[i][j]:\n",
        "                    visited[i][j] = True\n",
        "                    if not grid[i][j]:\n",
        "                        queue.append((i, j, dist + 1))\n",
        "                        hit[i][j] += 1\n",
        "                        distSum[i][j] += dist + 1\n",
        "                    elif grid[i][j] == 1:\n",
        "                        count1 += 1\n",
        "        return count1 == buildings  \n",
        "    \n",
        "    for x in range(M):\n",
        "        for y in range(N):\n",
        "            if grid[x][y] == 1:\n",
        "                if not BFS(x, y): return -1\n",
        "    return min([distSum[i][j] for i in range(M) for j in range(N) if not grid[i][j] and hit[i][j] == buildings] or [-1])"
      ],
      "execution_count": 0,
      "outputs": []
    },
    {
      "cell_type": "markdown",
      "metadata": {
        "id": "yhrWqag3gXA4",
        "colab_type": "text"
      },
      "source": [
        "**428. Serialize and Deserialize N-ary Tree**\n",
        "\n",
        "\n",
        "Serialization is the process of converting a data structure or object into a sequence of bits so that it can be stored in a file or memory buffer, or transmitted across a network connection link to be reconstructed later in the same or another computer environment.\n",
        "\n",
        "Design an algorithm to serialize and deserialize an N-ary tree. An N-ary tree is a rooted tree in which each node has no more than N children. There is no restriction on how your serialization/deserialization algorithm should work. You just need to ensure that an N-ary tree can be serialized to a string and this string can be deserialized to the original tree structure."
      ]
    },
    {
      "cell_type": "code",
      "metadata": {
        "id": "UsAnIxYmgXWb",
        "colab_type": "code",
        "colab": {}
      },
      "source": [
        "#recursive both function\n",
        "#Serialize with preorder traversal where sentinel \"#\" indicates the final child of a node has been processed, so the function returns to its parent call.\n",
        "#Deserialize by creating a deque (could also use an iterator with next() instead of popleft()).\n",
        "#While the next item is not \"#\", create a child with the item, add the child to the list of children and recurse to create its subtree.\n",
        "#Repeat until there are no more children, then ignore the \"#\".\n",
        "\n",
        "class Codec:\n",
        "    def serialize(self, root):\t\n",
        "        serial = []\n",
        "\n",
        "        def preorder(node):\n",
        "\n",
        "            if not node:\n",
        "                return\n",
        "\n",
        "            serial.append(str(node.val))\n",
        "\n",
        "            for child in node.children:\n",
        "                preorder(child)\n",
        "\n",
        "            serial.append(\"#\")      # indicates no more children, continue serialization from parent\n",
        "\n",
        "        preorder(root)\n",
        "        return \" \".join(serial)\n",
        "\n",
        "    def deserialize(self, data):\t\n",
        "        if not data:\n",
        "            return None\n",
        "\n",
        "        tokens = deque(data.split())\n",
        "        root = Node(int(tokens.popleft()), [])\n",
        "\n",
        "        def helper(node):\n",
        "\n",
        "            if not tokens:\n",
        "                return\n",
        "\n",
        "            while tokens[0] != \"#\": # add child nodes with subtrees\n",
        "                value = tokens.popleft()\n",
        "                child = Node(int(value), [])\n",
        "                node.children.append(child)\n",
        "                helper(child)\n",
        "\n",
        "            tokens.popleft()        # discard the \"#\"\n",
        "\n",
        "        helper(root)\n",
        "        return root"
      ],
      "execution_count": 0,
      "outputs": []
    },
    {
      "cell_type": "markdown",
      "metadata": {
        "id": "VHXfbp2ZgmqX",
        "colab_type": "text"
      },
      "source": [
        "**444. Sequence Reconstruction**\n",
        "\n",
        "Check whether the original sequence org can be uniquely reconstructed from the sequences in seqs. The org sequence is a permutation of the integers from 1 to n, with 1 ≤ n ≤ 104. Reconstruction means building a shortest common supersequence of the sequences in seqs (i.e., a shortest sequence so that all sequences in seqs are subsequences of it). Determine whether there is only one sequence that can be reconstructed from seqs and it is the org sequence."
      ]
    },
    {
      "cell_type": "code",
      "metadata": {
        "id": "2_6r2tH1gmNF",
        "colab_type": "code",
        "colab": {}
      },
      "source": [
        "## python topology sort\n",
        "#The basic is to get topological sort of seqs nodes, if it is unique and equal to org, then true, else False\n",
        "#in each step,\n",
        "#if we have more than one node whose incoming nodes count is zero then org is not unique, return False\n",
        "#At last we check if the topological sort contain all nodes in the in seqs and equal to org\n",
        "from collections import defaultdict\n",
        "class Solution(object):\n",
        "    def sequenceReconstruction(self, org, seqs):\n",
        "        \"\"\"\n",
        "        :type org: List[int]\n",
        "        :type seqs: List[List[int]]\n",
        "        :rtype: bool\n",
        "        \"\"\"\n",
        "        adjacent = defaultdict(list)\n",
        "        incoming_nodes = defaultdict(int)\n",
        "        nodes = set()\n",
        "        for arr in seqs:\n",
        "            nodes |= set(arr)\n",
        "            for i in xrange(len(arr)):\n",
        "                if i == 0:\n",
        "                    incoming_nodes[arr[i]] += 0\n",
        "                if i < len(arr) - 1:\n",
        "                    adjacent[arr[i]].append(arr[i + 1])\n",
        "                    incoming_nodes[arr[i + 1]] += 1\n",
        "        cur = [k for k in incoming_nodes if incoming_nodes[k] == 0]\n",
        "        res = []\n",
        "        while len(cur) == 1:\n",
        "            cur_node = cur.pop()\n",
        "            res.append(cur_node)\n",
        "            for node in adjacent[cur_node]:\n",
        "                incoming_nodes[node] -= 1\n",
        "                if incoming_nodes[node] == 0:\n",
        "                    cur.append(node)\n",
        "        if len(cur) > 1:\n",
        "            return False\n",
        "        return len(res) == len(nodes) and res == org"
      ],
      "execution_count": 0,
      "outputs": []
    },
    {
      "cell_type": "markdown",
      "metadata": {
        "id": "81oWCpkZjNw6",
        "colab_type": "text"
      },
      "source": [
        "**737. Sentence Similarity II**\n",
        "\n",
        "Given two sentences words1, words2 (each represented as an array of strings), and a list of similar word pairs pairs, determine if two sentences are similar.\n",
        "\n",
        "For example, words1 = [\"great\", \"acting\", \"skills\"] and words2 = [\"fine\", \"drama\", \"talent\"] are similar, if the similar word pairs are pairs = [[\"great\", \"good\"], [\"fine\", \"good\"], [\"acting\",\"drama\"], [\"skills\",\"talent\"]].\n",
        "\n",
        "Note that the similarity relation is transitive. For example, if \"great\" and \"good\" are similar, and \"fine\" and \"good\" are similar, then \"great\" and \"fine\" are similar.\n",
        "\n",
        "Similarity is also symmetric. For example, \"great\" and \"fine\" being similar is the same as \"fine\" and \"great\" being similar.\n",
        "\n",
        "Also, a word is always similar with itself. For example, the sentences words1 = [\"great\"], words2 = [\"great\"], pairs = [] are similar, even though there are no specified similar word pairs.\n",
        "\n",
        "Finally, sentences can only be similar if they have the same number of words. So a sentence like words1 = [\"great\"] can never be similar to words2 = [\"doubleplus\",\"good\"].\n",
        "\n"
      ]
    },
    {
      "cell_type": "code",
      "metadata": {
        "id": "706Km-WljOGM",
        "colab_type": "code",
        "colab": {}
      },
      "source": [
        "# dfs\n",
        "class Solution(object):\n",
        "    def areSentencesSimilarTwo(self, words1, words2, pairs):\n",
        "        if len(words1) != len(words2): return False\n",
        "        graph = collections.defaultdict(list)\n",
        "        for w1, w2 in pairs:\n",
        "            graph[w1].append(w2)\n",
        "            graph[w2].append(w1)\n",
        "\n",
        "        for w1, w2 in zip(words1, words2):\n",
        "            stack, seen = [w1], {w1}\n",
        "            while stack:\n",
        "                word = stack.pop()\n",
        "                if word == w2: break\n",
        "                for nei in graph[word]:\n",
        "                    if nei not in seen:\n",
        "                        seen.add(nei)\n",
        "                        stack.append(nei)\n",
        "            else:\n",
        "                return False\n",
        "        return True"
      ],
      "execution_count": 0,
      "outputs": []
    },
    {
      "cell_type": "markdown",
      "metadata": {
        "id": "JOMWfd7zjp2C",
        "colab_type": "text"
      },
      "source": [
        "**734. Sentence Similarity**\n",
        "\n",
        "Given two sentences words1, words2 (each represented as an array of strings), and a list of similar word pairs pairs, determine if two sentences are similar.\n",
        "\n",
        "For example, \"great acting skills\" and \"fine drama talent\" are similar, if the similar word pairs are pairs = [[\"great\", \"fine\"], [\"acting\",\"drama\"], [\"skills\",\"talent\"]].\n",
        "\n",
        "Note that the similarity relation is not transitive. For example, if \"great\" and \"fine\" are similar, and \"fine\" and \"good\" are similar, \"great\" and \"good\" are not necessarily similar.\n",
        "\n",
        "However, similarity is symmetric. For example, \"great\" and \"fine\" being similar is the same as \"fine\" and \"great\" being similar.\n",
        "\n",
        "Also, a word is always similar with itself. For example, the sentences words1 = [\"great\"], words2 = [\"great\"], pairs = [] are similar, even though there are no specified similar word pairs.\n",
        "\n",
        "Finally, sentences can only be similar if they have the same number of words. So a sentence like words1 = [\"great\"] can never be similar to words2 = [\"doubleplus\",\"good\"]."
      ]
    },
    {
      "cell_type": "code",
      "metadata": {
        "id": "azxoNywljtm_",
        "colab_type": "code",
        "colab": {}
      },
      "source": [
        "#method1 set\n",
        "class Solution(object):\n",
        "    def areSentencesSimilar(self, words1, words2, pairs):\n",
        "        if len(words1) != len(words2): return False\n",
        "\n",
        "        pairset = set(map(tuple, pairs))\n",
        "        return all(w1 == w2 or (w1, w2) in pairset or (w2, w1) in pairset\n",
        "                   for w1, w2 in zip(words1, words2))\n",
        "# method 2:\n",
        "#use a dictionary to map words with their similar words and \n",
        "#look up the dictionary when we compare pairs of words in words1 and words2 by checking if the second word is in the first word's similar word set.\n",
        "\n",
        "#For this pairs of words, the following dict is generated:\n",
        "\n",
        "#[[\"a\", \"b\"], [\"a\", \"c\"], [\"b\", \"d\"]]\n",
        "\n",
        "{\n",
        "  \"a\": set([\"b\", \"c\"]),\n",
        "  \"b\": set([\"a\", \"d\"]),\n",
        "  \"c\": set([\"a\"]),\n",
        "  \"d\": set([\"b\"]),\n",
        "}\n",
        "class Solution(object):\n",
        "    def areSentencesSimilar(self, words1, words2, pairs):\n",
        "        from collections import defaultdict\n",
        "        if len(words1) != len(words2):\n",
        "            return False\n",
        "        words = defaultdict(set)\n",
        "        for word1, word2 in pairs:\n",
        "            words[word1].add(word2)\n",
        "            words[word2].add(word1)\n",
        "        for word1, word2 in zip(words1, words2):\n",
        "            if word1 != word2 and word2 not in words[word1]:\n",
        "                return False\n",
        "        return True"
      ],
      "execution_count": 0,
      "outputs": []
    },
    {
      "cell_type": "markdown",
      "metadata": {
        "id": "37hQPQaWkCHq",
        "colab_type": "text"
      },
      "source": [
        "**418. Sentence Screen Fitting**\n",
        "Given a rows x cols screen and a sentence represented by a list of non-empty words, find how many times the given sentence can be fitted on the screen.\n",
        "\n",
        "Note:\n",
        "\n",
        "A word cannot be split into two lines.\n",
        "The order of words in the sentence must remain unchanged.\n",
        "Two consecutive words in a line must be separated by a single space.\n",
        "Total words in the sentence won't exceed 100.\n",
        "Length of each word is greater than 0 and won't exceed 10.\n",
        "1 ≤ rows, cols ≤ 20,000."
      ]
    },
    {
      "cell_type": "code",
      "metadata": {
        "id": "-CnwdVN4kCcX",
        "colab_type": "code",
        "colab": {}
      },
      "source": [
        "class Solution(object):\n",
        "    def wordsTyping(self, sentence, rows, cols):\n",
        "        s = ' '.join(sentence) + ' '\n",
        "        start = 0\n",
        "        for i in xrange(rows):\n",
        "            start += cols - 1\n",
        "            if s[start % len(s)] == ' ':\n",
        "                start += 1\n",
        "            elif s[(start + 1) % len(s)] == ' ':\n",
        "                start += 2\n",
        "            else:\n",
        "                while start > 0 and s[ (start - 1) % len(s) ] != ' ':\n",
        "                    start -= 1\n",
        "        return start/ len(s)"
      ],
      "execution_count": 0,
      "outputs": []
    },
    {
      "cell_type": "markdown",
      "metadata": {
        "id": "FMSCznsUk_0f",
        "colab_type": "text"
      },
      "source": [
        "**702. Search in a Sorted Array of Unknown Size**\n",
        "\n",
        "Given an integer array sorted in ascending order, write a function to search target in nums.  If target exists, then return its index, otherwise return -1. However, the array size is unknown to you. You may only access the array using an ArrayReader interface, where ArrayReader.get(k) returns the element of the array at index k (0-indexed).\n",
        "\n",
        "You may assume all integers in the array are less than 10000, and if you access the array out of bounds, ArrayReader.get will return 2147483647."
      ]
    },
    {
      "cell_type": "code",
      "metadata": {
        "id": "mdXp9faclJd_",
        "colab_type": "code",
        "colab": {}
      },
      "source": [
        "#Binary search\n",
        "class Solution:\n",
        "    def search(self, reader, target):\n",
        "        if reader.get(0) == target:\n",
        "            return 0\n",
        "        \n",
        "        # search boundaries\n",
        "        left, right = 0, 1\n",
        "        while reader.get(right) < target:\n",
        "            left = right\n",
        "            right <<= 1\n",
        "        \n",
        "        # binary search\n",
        "        while left <= right:\n",
        "            pivot = left + ((right - left) >> 1)\n",
        "            num = reader.get(pivot)\n",
        "            \n",
        "            if num == target:\n",
        "                return pivot\n",
        "            if num > target:\n",
        "                right = pivot - 1\n",
        "            else:\n",
        "                left = pivot + 1\n",
        "        \n",
        "        # there is no target element\n",
        "        return -1\n",
        "\n",
        "# version 2:\n",
        "class Solution(object):\n",
        "    def search(self, reader, target):\n",
        "        \"\"\"\n",
        "        :type reader: ArrayReader\n",
        "        :type target: int\n",
        "        :rtype: int\n",
        "        \"\"\"\n",
        "        low = 0\n",
        "        high = 1\n",
        "        \n",
        "        while reader.get(high) < target:\n",
        "            low = high\n",
        "            high *= 2\n",
        "        \n",
        "        while low <= high:\n",
        "            mid = (low + high)//2\n",
        "            \n",
        "            if reader.get(mid) == target:\n",
        "                return mid\n",
        "            elif reader.get(mid) > target:\n",
        "                high = mid - 1\n",
        "            else:\n",
        "                low = mid + 1\n",
        "        return -1"
      ],
      "execution_count": 0,
      "outputs": []
    },
    {
      "cell_type": "markdown",
      "metadata": {
        "id": "E0_0NlwplMrQ",
        "colab_type": "text"
      },
      "source": [
        "**489. Robot Room Cleaner** hard\n",
        "\n",
        "Given a robot cleaner in a room modeled as a grid.\n",
        "\n",
        "Each cell in the grid can be empty or blocked.\n",
        "\n",
        "The robot cleaner with 4 given APIs can move forward, turn left or turn right. Each turn it made is 90 degrees.\n",
        "\n",
        "When it tries to move into a blocked cell, its bumper sensor detects the obstacle and it stays on the current cell.\n",
        "\n",
        "Design an algorithm to clean the entire room using only the 4 given APIs shown below.\n",
        "\n",
        "interface Robot {\n",
        "  // returns true if next cell is open and robot moves into the cell.\n",
        "  // returns false if next cell is obstacle and robot stays on the current cell.\n",
        "  boolean move();\n",
        "\n",
        "  // Robot will stay on the same cell after calling turnLeft/turnRight.\n",
        "  // Each turn will be 90 degrees.\n",
        "  void turnLeft();\n",
        "  void turnRight();\n",
        "\n",
        "  // Clean the current cell.\n",
        "  void clean();\n",
        "}\n",
        "Example:\n",
        "\n",
        "Input:\n",
        "room = [\n",
        "  [1,1,1,1,1,0,1,1],\n",
        "  [1,1,1,1,1,0,1,1],\n",
        "  [1,0,1,1,1,1,1,1],\n",
        "  [0,0,0,1,0,0,0,0],\n",
        "  [1,1,1,1,1,1,1,1]\n",
        "],\n",
        "row = 1,\n",
        "col = 3\n",
        "\n",
        "Explanation:\n",
        "All grids in the room are marked by either 0 or 1.\n",
        "0 means the cell is blocked, while 1 means the cell is accessible.\n",
        "The robot initially starts at the position of row=1, col=3.\n",
        "From the top left corner, its position is one row below and three columns right."
      ]
    },
    {
      "cell_type": "code",
      "metadata": {
        "id": "58jdBpRxlNAP",
        "colab_type": "code",
        "colab": {}
      },
      "source": [
        "class Solution(object):       \n",
        "    def cleanRoom(self, robot):\n",
        "        \"\"\"\n",
        "        :type robot: Robot\n",
        "        :rtype: None\n",
        "        \"\"\"\n",
        "        def go_back():\n",
        "            robot.turnRight()\n",
        "            robot.turnRight()\n",
        "            robot.move()\n",
        "            robot.turnRight()\n",
        "            robot.turnRight()\n",
        "            \n",
        "        def backtrack(cell = (0, 0), d = 0):\n",
        "            visited.add(cell)\n",
        "            robot.clean()\n",
        "            # going clockwise : 0: 'up', 1: 'right', 2: 'down', 3: 'left'\n",
        "            for i in range(4):\n",
        "                new_d = (d + i) % 4\n",
        "                new_cell = (cell[0] + directions[new_d][0], \\\n",
        "                            cell[1] + directions[new_d][1])\n",
        "                \n",
        "                if not new_cell in visited and robot.move():\n",
        "                    backtrack(new_cell, new_d)\n",
        "                    go_back()\n",
        "                # turn the robot following chosen direction : clockwise\n",
        "                robot.turnRight()\n",
        "    \n",
        "        # going clockwise : 0: 'up', 1: 'right', 2: 'down', 3: 'left'\n",
        "        directions = [(-1, 0), (0, 1), (1, 0), (0, -1)]\n",
        "        visited = set()\n",
        "        backtrack()"
      ],
      "execution_count": 0,
      "outputs": []
    },
    {
      "cell_type": "markdown",
      "metadata": {
        "id": "G_WrXf8Nl5Ra",
        "colab_type": "text"
      },
      "source": [
        "**1272. Remove Interval**\n",
        "\n",
        "Given a sorted list of disjoint intervals, each interval intervals[i] = [a, b] represents the set of real numbers x such that a <= x < b.\n",
        "\n",
        "We remove the intersections between any interval in intervals and the interval toBeRemoved.\n",
        "\n",
        "Return a sorted list of intervals after all such removals.\n",
        "eg:\n",
        "Input: intervals = [[0,2],[3,4],[5,7]], toBeRemoved = [1,6]\n",
        "Output: [[0,1],[6,7]]"
      ]
    },
    {
      "cell_type": "code",
      "metadata": {
        "id": "Z0B-iwiwl_ze",
        "colab_type": "code",
        "colab": {}
      },
      "source": [
        "  def removeInterval(self, intervals: List[List[int]], toBeRemoved: List[int]) -> List[List[int]]:\n",
        "        remove_start, remove_end = toBeRemoved\n",
        "        output = []\n",
        "        \n",
        "        for start, end in intervals: \n",
        "            # if current interval ends before toBeRemoved\n",
        "            # or starts after\n",
        "            if end <= remove_start or start >= remove_end:\n",
        "                output.append([start, end])\n",
        "            \n",
        "            # if the interval to be removed is inside \n",
        "            # of the current interval\n",
        "            elif start < remove_start and end > remove_end:\n",
        "                output.append([start, remove_start])\n",
        "                output.append([remove_end, end])\n",
        "                \n",
        "            # \"left\" overlap\n",
        "            elif start < remove_start and end <= remove_end:\n",
        "                output.append([start, remove_start])\n",
        "                \n",
        "            # \"right\" overlap\n",
        "            elif start >= remove_start and end > remove_end:\n",
        "                output.append([remove_end, end])\n",
        "\n",
        "        return output\n",
        "\n",
        "\n",
        "#method2:\n",
        "  def removeInterval(self, intervals: List[List[int]], toBeRemoved: List[int]) -> List[List[int]]:\n",
        "        ans = []\n",
        "        for lo, hi in intervals:\n",
        "            remove_lo, remove_hi = toBeRemoved\n",
        "            if hi <= remove_lo or lo >= remove_hi:\n",
        "                ans.append([lo, hi])\n",
        "            else:\n",
        "                if lo < remove_lo:\n",
        "                    ans.append([lo, remove_lo])\n",
        "                if hi > remove_hi:\n",
        "                    ans.append([remove_hi, hi])\n",
        "        return ans"
      ],
      "execution_count": 0,
      "outputs": []
    },
    {
      "cell_type": "markdown",
      "metadata": {
        "id": "EEiWr72KmQeY",
        "colab_type": "text"
      },
      "source": [
        "**660. Remove 9**\n",
        "\n",
        "Start from integer 1, remove any integer that contains 9 such as 9, 19, 29...\n",
        "\n",
        "So now, you will have a new integer sequence: 1, 2, 3, 4, 5, 6, 7, 8, 10, 11, ...\n",
        "\n",
        "Given a positive integer n, you need to return the n-th integer after removing. Note that 1 will be the first integer."
      ]
    },
    {
      "cell_type": "code",
      "metadata": {
        "id": "gr5Qa_SSmWU9",
        "colab_type": "code",
        "colab": {}
      },
      "source": [
        "class Solution(object):\n",
        "    def newInteger(self, n):\n",
        "        ans = ''\n",
        "        while n:\n",
        "            ans = str(n%9) + ans\n",
        "            n /= 9\n",
        "        return int(ans)"
      ],
      "execution_count": 0,
      "outputs": []
    },
    {
      "cell_type": "markdown",
      "metadata": {
        "id": "yk6E4XRymbKX",
        "colab_type": "text"
      },
      "source": [
        "**358. Rearrange String k Distance Apart**\n",
        "\n",
        "Given a non-empty string s and an integer k, rearrange the string such that the same characters are at least distance k from each other.\n",
        "\n",
        "All input strings are given in lowercase letters. If it is not possible to rearrange the string, return an empty string \"\".\n",
        "\n",
        "Example 1:\n",
        "\n",
        "Input: s = \"aabbcc\", k = 3\n",
        "Output: \"abcabc\" \n",
        "Explanation: The same letters are at least distance 3 from each other."
      ]
    },
    {
      "cell_type": "code",
      "metadata": {
        "id": "MQWYx06-mjsG",
        "colab_type": "code",
        "colab": {}
      },
      "source": [
        "#Assume n % k = r,\n",
        "#we will fill all positions of i with i % k = r,\n",
        "#then the positions with i % k = r - 1,\n",
        "\n",
        "    def rearrangeString(self, s, k):\n",
        "        n = len(s)\n",
        "        if not k: return s\n",
        "        count = collections.Counter(s)\n",
        "        maxf = max(count.values())\n",
        "        if (maxf - 1) * k + count.values().count(maxf) > len(s):\n",
        "            return \"\"\n",
        "        res = list(s)\n",
        "        i = (n - 1) % k\n",
        "        for c in sorted(count, key=lambda i: -count[i]):\n",
        "            for j in range(count[c]):\n",
        "                res[i] = c\n",
        "                i += k\n",
        "                if i >= n:\n",
        "                    i = (i - 1) % k\n",
        "        return \"\".join(res)\n",
        "\n",
        "#The idea is simple: we only worry about the most frequent character(s).\n",
        "#For example aaaabbbbcccddefg, ais the most frequent letter, so we start with a structure like\n",
        "#a [] a [] a [] a []\n",
        "#and we just pad other letters in between the a's. Only letters with the same highest frequency can go in to the last []. and we don't care about any letters with lower frequencies, we just scatter them among the paddings. So we end up with\n",
        "#a [bcdf] a [bcdg] a [bce] a [b].\n",
        "#If all the paddings except the last one have length larger than k-1, then we have our answer; else we return ''.\n",
        "\n",
        "from collections import defaultdict\n",
        "\n",
        "class Solution(object):\n",
        "    def rearrangeString(self, string, k):\n",
        "        if not string:\n",
        "            return ''\n",
        "\n",
        "        count = defaultdict(int)\n",
        "        for s in string:\n",
        "            count[s] += 1\n",
        "        # sort the letters according to the frequency\n",
        "        stack = sorted(list(count.items()), key=lambda t: t[1])\n",
        "\n",
        "        char, count = stack.pop()  # get most frequent character\n",
        "        lst = [[char] for _ in range(count)]\n",
        "\n",
        "        # take care of the letters with same highest freq\n",
        "        while stack and stack[-1][1] == count:\n",
        "            char, _ = stack.pop()\n",
        "            for l in lst:\n",
        "                l.append(char)\n",
        "\n",
        "        # all the characters left\n",
        "        res = ''.join(c*n for c, n in stack)\n",
        "        # padding\n",
        "        for i, r in enumerate(res):\n",
        "            lst[i % (len(lst)-1)].append(r)\n",
        "\n",
        "        for l in lst[:-1]:\n",
        "            if len(l) < k:\n",
        "                return ''\n",
        "\n",
        "        return ''.join(''.join(l) for l in lst)"
      ],
      "execution_count": 0,
      "outputs": []
    },
    {
      "cell_type": "markdown",
      "metadata": {
        "id": "aXkp3j7FnBn5",
        "colab_type": "text"
      },
      "source": [
        "158. Read N Characters Given Read4 II - Call multiple times\n",
        "\n",
        "Given a file and assume that you can only read the file using a given method read4, implement a method read to read n characters. Your method read may be called multiple times.\n"
      ]
    },
    {
      "cell_type": "code",
      "metadata": {
        "id": "VAwFnc0knMGc",
        "colab_type": "code",
        "colab": {}
      },
      "source": [
        "class Solution:\n",
        "# @param buf, Destination buffer (a list of characters)\n",
        "# @param n,   Maximum number of characters to read (an integer)\n",
        "# @return     The number of characters read (an integer)\n",
        "def __init__(self):\n",
        "    self.queue = []\n",
        "\n",
        "def read(self, buf, n):\n",
        "    idx = 0\n",
        "    while True:\n",
        "        buf4 = [\"\"]*4\n",
        "        l = read4(buf4)\n",
        "        self.queue.extend(buf4)\n",
        "        curr = min(len(self.queue), n-idx)\n",
        "        for i in xrange(curr):\n",
        "            buf[idx] = self.queue.pop(0)\n",
        "            idx+=1\n",
        "        if curr == 0:\n",
        "            break \n",
        "    return idx\n",
        "\n",
        "#157\n",
        "def read(self, buf, n):\n",
        "    idx = 0\n",
        "    while n > 0:\n",
        "        # read file to buf4\n",
        "        buf4 = [\"\"]*4\n",
        "        l = read4(buf4)\n",
        "        # if no more char in file, return\n",
        "        if not l:\n",
        "            return idx\n",
        "        # write buf4 into buf directly\n",
        "        for i in range(min(l, n)):\n",
        "            buf[idx] = buf4[i]\n",
        "            idx += 1\n",
        "            n -= 1\n",
        "    return idx"
      ],
      "execution_count": 0,
      "outputs": []
    },
    {
      "cell_type": "markdown",
      "metadata": {
        "id": "NqelzWpsnZjW",
        "colab_type": "text"
      },
      "source": [
        "**308. Range Sum Query 2D - Mutable**\n",
        "\n",
        "Given a 2D matrix matrix, find the sum of the elements inside the rectangle defined by its upper left corner (row1, col1) and lower right corner (row2, col2)."
      ]
    },
    {
      "cell_type": "code",
      "metadata": {
        "id": "zuL8JBhFnjye",
        "colab_type": "code",
        "colab": {}
      },
      "source": [
        "class NumMatrix(object):\n",
        "    def __init__(self, matrix):\n",
        "        \"\"\"\n",
        "        initialize your data structure here.\n",
        "        :type matrix: List[List[int]]\n",
        "        \"\"\"\n",
        "        for row in matrix:\n",
        "            for col in xrange(1, len(row)):\n",
        "                row[col] += row[col-1]\n",
        "        self.matrix = matrix\n",
        "        \n",
        "\n",
        "    def update(self, row, col, val):\n",
        "        \"\"\"\n",
        "        update the element at matrix[row,col] to val.\n",
        "        :type row: int\n",
        "        :type col: int\n",
        "        :type val: int\n",
        "        :rtype: void\n",
        "        \"\"\"\n",
        "        original = self.matrix[row][col]\n",
        "        if col != 0:\n",
        "            original -= self.matrix[row][col-1]\n",
        "            \n",
        "        diff = original - val\n",
        "        \n",
        "        for y in xrange(col, len(self.matrix[0])):\n",
        "            self.matrix[row][y] -= diff\n",
        "\n",
        "    def sumRegion(self, row1, col1, row2, col2):\n",
        "        \"\"\"\n",
        "        sum of elements matrix[(row1,col1)..(row2,col2)], inclusive.\n",
        "        :type row1: int\n",
        "        :type col1: int\n",
        "        :type row2: int\n",
        "        :type col2: int\n",
        "        :rtype: int\n",
        "        \"\"\"\n",
        "        sum = 0\n",
        "        for x in xrange(row1, row2+1):\n",
        "            sum += self.matrix[x][col2]\n",
        "            if col1 != 0:\n",
        "                sum -= self.matrix[x][col1-1]\n",
        "        return sum"
      ],
      "execution_count": 0,
      "outputs": []
    },
    {
      "cell_type": "markdown",
      "metadata": {
        "id": "JOVDJlQXnoaY",
        "colab_type": "text"
      },
      "source": [
        "**370. Range Addition**\n",
        "\n",
        "Assume you have an array of length n initialized with all 0's and are given k update operations.\n",
        "\n",
        "Each operation is represented as a triplet: [startIndex, endIndex, inc] which increments each element of subarray A[startIndex ... endIndex] (startIndex and endIndex inclusive) with inc.\n",
        "\n",
        "Return the modified array after all k operations were executed.\n",
        "\n",
        "Example:\n",
        "\n",
        "Input: length = 5, updates = [[1,3,2],[2,4,3],[0,2,-2]]\n",
        "Output: [-2,0,3,5,3]"
      ]
    },
    {
      "cell_type": "code",
      "metadata": {
        "id": "suafnJ2xnq5M",
        "colab_type": "code",
        "colab": {}
      },
      "source": [
        "class Solution(object):\n",
        "    def getModifiedArray(self, length, updates):\n",
        "        \"\"\"\n",
        "        :type length: int\n",
        "        :type updates: List[List[int]]\n",
        "        :rtype: List[int]\n",
        "        \"\"\"\n",
        "        res = [0] * length\n",
        "        for update in updates:\n",
        "            start, end, inc = update\n",
        "            res[start] += inc\n",
        "            \n",
        "            if end + 1 <= length - 1:\n",
        "                res[end+1] -= inc\n",
        "\n",
        "        sum = 0\n",
        "        for i in range(length):\n",
        "            sum += res[i]\n",
        "            res[i] = sum\n",
        "        return res"
      ],
      "execution_count": 0,
      "outputs": []
    },
    {
      "cell_type": "markdown",
      "metadata": {
        "id": "A_Ckaeg1n0SU",
        "colab_type": "text"
      },
      "source": [
        "**369. Plus One Linked List**\n",
        "\n",
        "Given a non-negative integer represented as non-empty a singly linked list of digits, plus one to the integer.\n",
        "\n",
        "You may assume the integer do not contain any leading zero, except the number 0 itself.\n",
        "\n",
        "The digits are stored such that the most significant digit is at the head of the list.\n",
        "\n",
        "Example :\n",
        "\n",
        "Input: [1,2,3]\n",
        "Output: [1,2,4]"
      ]
    },
    {
      "cell_type": "code",
      "metadata": {
        "id": "l8CdcBF2oAxv",
        "colab_type": "code",
        "colab": {}
      },
      "source": [
        "# method 1\n",
        "class Solution:\n",
        "    def plusOne(self, head: ListNode) -> ListNode:\n",
        "        # sentinel head\n",
        "        sentinel = ListNode(0)\n",
        "        sentinel.next = head\n",
        "        not_nine = sentinel\n",
        "        \n",
        "        # find the rightmost not-nine digit\n",
        "        while head:\n",
        "            if head.val != 9:\n",
        "                not_nine = head\n",
        "            head = head.next \n",
        "        \n",
        "        # increase this rightmost not-nine digit by 1\n",
        "        not_nine.val += 1\n",
        "        not_nine = not_nine.next \n",
        "        \n",
        "        # set all the following nines to zeros\n",
        "        while not_nine:\n",
        "            not_nine.val = 0\n",
        "            not_nine = not_nine.next\n",
        "        \n",
        "        return sentinel if sentinel.val else sentinel.next\n",
        "\n",
        "##method2: iterative\n",
        "def plusOne(self, head):\n",
        "    \"\"\"\n",
        "    :type head: ListNode\n",
        "    :rtype: ListNode\n",
        "    \"\"\"\n",
        "    start = None\n",
        "    \n",
        "    node = head\n",
        "    while node:\n",
        "        if node.val < 9:\n",
        "            start = node\n",
        "        node = node.next\n",
        "    \n",
        "    if start:\n",
        "        start.val += 1\n",
        "        node = start.next\n",
        "    else:\n",
        "        new = ListNode(1)\n",
        "        new.next = head\n",
        "        node = head\n",
        "        head = new\n",
        "            \n",
        "    while node:\n",
        "        node.val = 0\n",
        "        node = node.next\n",
        "    \n",
        "    return head"
      ],
      "execution_count": 0,
      "outputs": []
    },
    {
      "cell_type": "markdown",
      "metadata": {
        "id": "g7xTLFN5oTI2",
        "colab_type": "text"
      },
      "source": [
        "**1136. Parallel Courses**\n",
        "\n",
        "There are N courses, labelled from 1 to N.\n",
        "\n",
        "We are given relations[i] = [X, Y], representing a prerequisite relationship between course X and course Y: course X has to be studied before course Y.\n",
        "\n",
        "In one semester you can study any number of courses as long as you have studied all the prerequisites for the course you are studying.\n",
        "\n",
        "Return the minimum number of semesters needed to study all courses.  If there is no way to study all the courses, return -1.\n",
        "\n",
        " "
      ]
    },
    {
      "cell_type": "code",
      "metadata": {
        "id": "CdbFjU-voaH5",
        "colab_type": "code",
        "colab": {}
      },
      "source": [
        "#bfs\n",
        "#Time Complexity: O(N + len(relations))\n",
        "#Space Complexity: O(N + len(relations))\n",
        "    def minimumSemesters(self, N: int, relations: List[List[int]]) -> int:\n",
        "        pre = {i: set() for i in range(1, N+1)}\n",
        "        nxt = collections.defaultdict(set)\n",
        "        for u, v in relations: \n",
        "            nxt[u].add(v)\n",
        "            pre[v].add(u)\n",
        "        queue = collections.deque([u for u in pre if not pre[u]])\n",
        "        N -= len(queue)\n",
        "        ans = 0\n",
        "        while queue:\n",
        "            for _ in range(len(queue)):\n",
        "                u = queue.popleft()\n",
        "                for v in nxt[u]:\n",
        "                    pre[v].remove(u)\n",
        "                    if len(pre[v]) == 0:\n",
        "                        queue.append(v)\n",
        "                        N -= 1\n",
        "            ans += 1\n",
        "        return ans if N == 0 else -1"
      ],
      "execution_count": 0,
      "outputs": []
    },
    {
      "cell_type": "markdown",
      "metadata": {
        "id": "a7EPuE98oTDW",
        "colab_type": "text"
      },
      "source": [
        "**266. Palindrome Permutation**\n",
        "\n",
        "Given a string, determine if a permutation of the string could form a palindrome.\n",
        "\n",
        "Example 1:\n",
        "\n",
        "Input: \"code\"\n",
        "Output: false"
      ]
    },
    {
      "cell_type": "code",
      "metadata": {
        "id": "pS-Z_axqooUO",
        "colab_type": "code",
        "colab": {}
      },
      "source": [
        "def canPermutePalindrome(self, s):\n",
        "    return sum(v % 2 for v in collections.Counter(s).values()) < 2\n",
        "\n",
        "\n",
        "#method 2：\n",
        "def canPermutePalindrome(self, s):\n",
        "    dic = {}\n",
        "    for item in s:\n",
        "        dic[item] = dic.get(item, 0) + 1\n",
        "    # return sum(v % 2 for v in dic.values()) < 2\n",
        "    count1 = 0\n",
        "    for val in dic.values():\n",
        "        if val % 2 == 1:\n",
        "            count1 += 1\n",
        "        if count1 > 1:\n",
        "            return False\n",
        "    return True"
      ],
      "execution_count": 0,
      "outputs": []
    },
    {
      "cell_type": "markdown",
      "metadata": {
        "id": "-JaC_FaTouVH",
        "colab_type": "text"
      },
      "source": [
        "**265. Paint House II**\n",
        "\n",
        "There are a row of n houses, each house can be painted with one of the k colors. The cost of painting each house with a certain color is different. You have to paint all the houses such that no two adjacent houses have the same color.\n",
        "\n",
        "The cost of painting each house with a certain color is represented by a n x k cost matrix. For example, costs[0][0] is the cost of painting house 0 with color 0; costs[1][2] is the cost of painting house 1 with color 2, and so on... Find the minimum cost to paint all houses."
      ]
    },
    {
      "cell_type": "code",
      "metadata": {
        "id": "7DIOm484ounp",
        "colab_type": "code",
        "colab": {}
      },
      "source": [
        "##This is a Markov Chain (dp) with k states (color 1, color 2...color k) and n stages,\n",
        "# we simply update the costs matrix to keep track of the optimal value for each state at current stage.\n",
        "#min1 means we paint all other states with the minimum cost, \n",
        "#while min2 means we cannot paint consecutive houses with same color so we choose the second lowest cost to add up with.\n",
        "class Solution(object):\n",
        "    def minCostII(self, costs):\n",
        "        \"\"\"\n",
        "        :type costs: List[List[int]]\n",
        "        :rtype: int\n",
        "        \"\"\"\n",
        "        if not costs: return 0\n",
        "        n, k = len(costs), len(costs[0])\n",
        "        for i in xrange(1, n):\n",
        "            min1 = min(costs[i-1])\n",
        "            idx = costs[i-1].index(min1)\n",
        "            min2 = min(costs[i-1][:idx] + costs[i-1][idx+1:])\n",
        "            for j in xrange(k):\n",
        "                if j == idx:\n",
        "                    costs[i][j] += min2\n",
        "                else:\n",
        "                    costs[i][j] += min1\n",
        "        return min(costs[-1])"
      ],
      "execution_count": 0,
      "outputs": []
    },
    {
      "cell_type": "markdown",
      "metadata": {
        "id": "TI2qm28dpPwg",
        "colab_type": "text"
      },
      "source": [
        "**276. Paint Fence**\n",
        "\n",
        "There is a fence with n posts, each post can be painted with one of the k colors.\n",
        "\n",
        "You have to paint all the posts such that no more than two adjacent fence posts have the same color.\n",
        "\n",
        "Return the total number of ways you can paint the fence."
      ]
    },
    {
      "cell_type": "code",
      "metadata": {
        "id": "YDHt5v8mpTb9",
        "colab_type": "code",
        "colab": {}
      },
      "source": [
        "class Solution:\n",
        "    def numWays(self, n, k):\n",
        "        same, dif = 0, k\n",
        "        for _ in range(1, n): same, dif = dif, (same + dif) * (k - 1)\n",
        "        return n and same + dif or 0"
      ],
      "execution_count": 0,
      "outputs": []
    },
    {
      "cell_type": "markdown",
      "metadata": {
        "id": "4JSwz3bIplCv",
        "colab_type": "text"
      },
      "source": [
        "**544. Output Contest Matches**\n",
        "\n",
        "During the NBA playoffs, we always arrange the rather strong team to play with the rather weak team, like make the rank 1 team play with the rank nth team, which is a good strategy to make the contest more interesting. Now, you're given n teams, you need to output their final contest matches in the form of a string.\n",
        "\n",
        "The n teams are given in the form of positive integers from 1 to n, which represents their initial rank. (Rank 1 is the strongest team and Rank n is the weakest team.) We'll use parentheses('(', ')') and commas(',') to represent the contest team pairing - parentheses('(' , ')') for pairing and commas(',') for partition. During the pairing process in each round, you always need to follow the strategy of making the rather strong one pair with the rather weak one."
      ]
    },
    {
      "cell_type": "code",
      "metadata": {
        "id": "SYxCsWKTpx2w",
        "colab_type": "code",
        "colab": {}
      },
      "source": [
        "class Solution(object):\n",
        "    def findContestMatch(self, n):\n",
        "        team = []\n",
        "        ans = []\n",
        "        def write(r):\n",
        "            if r == 0:\n",
        "                i = len(team)\n",
        "                w = i & -i\n",
        "                team.append(n/w+1 - team[i-w] if w else 1)\n",
        "                ans.append(str(team[-1]))\n",
        "            else:\n",
        "                ans.append(\"(\")\n",
        "                write(r-1)\n",
        "                ans.append(\",\")\n",
        "                write(r-1)\n",
        "                ans.append(\")\")\n",
        "\n",
        "        write(int(math.log(n, 2)))\n",
        "        return \"\".join(ans)\n",
        "\n",
        "#recursive\n",
        "class Solution(object):\n",
        "    def findContestMatch(self, n):\n",
        "        \"\"\"\n",
        "        :type n: int\n",
        "        :rtype: str\n",
        "        \"\"\"\n",
        "        def helper(array):\n",
        "            if len(array) == 1:return array[0]\n",
        "            res = []\n",
        "            for i in range(len(array)/2):\n",
        "                res.append('('+array[i]+','+array[len(array)-1-i]+')')\n",
        "            return helper(res)\n",
        "        a = map(str,range(1,n+1))\n",
        "        return helper(a)"
      ],
      "execution_count": 0,
      "outputs": []
    },
    {
      "cell_type": "markdown",
      "metadata": {
        "id": "HgXzLuFtpw5W",
        "colab_type": "text"
      },
      "source": [
        "**1168. Optimize Water Distribution in a Village**\n",
        "\n",
        "There are n houses in a village. We want to supply water for all the houses by building wells and laying pipes.\n",
        "\n",
        "For each house i, we can either build a well inside it directly with cost wells[i], or pipe in water from another well to it. The costs to lay pipes between houses are given by the array pipes, where each pipes[i] = [house1, house2, cost] represents the cost to connect house1 and house2 together using a pipe. Connections are bidirectional.\n",
        "\n",
        "Find the minimum total cost to supply water to all houses."
      ]
    },
    {
      "cell_type": "code",
      "metadata": {
        "id": "LdlotRzdqUHc",
        "colab_type": "code",
        "colab": {}
      },
      "source": [
        "   def minCostToSupplyWater(self, n, wells, pipes):\n",
        "        uf = {i: i for i in xrange(n + 1)}\n",
        "\n",
        "        def find(x):\n",
        "            if x != uf[x]:\n",
        "                uf[x] = find(uf[x])\n",
        "            return uf[x]\n",
        "\n",
        "        w = [[c, 0, i] for i, c in enumerate(wells, 1)]\n",
        "        p = [[c, i, j] for i, j, c in pipes]\n",
        "        res = 0\n",
        "        for c, x, y in sorted(w + p):\n",
        "            x, y = find(x), find(y)\n",
        "            if x != y:\n",
        "                uf[find(x)] = find(y)\n",
        "                res += c\n",
        "                n -= 1\n",
        "            if n == 0:\n",
        "                return res"
      ],
      "execution_count": 0,
      "outputs": []
    },
    {
      "cell_type": "markdown",
      "metadata": {
        "id": "KqiahDWJqTpr",
        "colab_type": "text"
      },
      "source": [
        "**465. Optimal Account Balancing**\n",
        "\n",
        "A group of friends went on holiday and sometimes lent each other money. For example, Alice paid for Bill's lunch for $10. Then later Chris gave Alice $5 for a taxi ride. We can model each transaction as a tuple (x, y, z) which means person x gave person y $z. Assuming Alice, Bill, and Chris are person 0, 1, and 2 respectively (0, 1, 2 are the person's ID), the transactions can be represented as [[0, 1, 10], [2, 0, 5]].\n",
        "\n",
        "Given a list of transactions between a group of people, return the minimum number of transactions required to settle the debt.\n",
        "\n",
        "Input:\n",
        "[[0,1,10], [2,0,5]]\n",
        "\n",
        "Output:\n",
        "2\n",
        "\n",
        "Explanation:\n",
        "Person #0 gave person #1 $10.\n",
        "Person #2 gave person #0 $5.\n",
        "\n",
        "Two transactions are needed. One way to settle the debt is person #1 pays person #0 and #2 $5 each."
      ]
    },
    {
      "cell_type": "code",
      "metadata": {
        "id": "zrI4ALe3qn7H",
        "colab_type": "code",
        "colab": {}
      },
      "source": [
        "##bfs\n",
        "class Solution(object):\n",
        "    def minTransfers(self, transactions):\n",
        "        \"\"\"\n",
        "        :type transactions: List[List[int]]\n",
        "        :rtype: int\n",
        "        \"\"\"\n",
        "        def remove_one_zero_clique(non_zero):\n",
        "            n = len(non_zero)\n",
        "            q = collections.deque()            \n",
        "            # q store ([index set], sum of set)\n",
        "            q.append(([0], non_zero[0]))\n",
        "            min_zero_set = None\n",
        "\n",
        "            while q:\n",
        "                cur_set, cur_sum = q.popleft()\n",
        "                if cur_sum == 0:\n",
        "                    min_zero_set = cur_set\n",
        "                    break\n",
        "                for j in range(cur_set[-1] + 1, n):\n",
        "                    q.append((cur_set + [j], cur_sum + non_zero[j]))\n",
        "            \n",
        "            min_zero_set = set(min_zero_set)\n",
        "            return [non_zero[i] for i in range(n) if i not in min_zero_set]\n",
        "        \n",
        "        \n",
        "        bal = collections.defaultdict(int)\n",
        "        for t in transactions:\n",
        "            bal[t[0]] -= t[2]\n",
        "            bal[t[1]] += t[2]\n",
        "        non_zero = [bal[k] for k in bal if bal[k] != 0]\n",
        "        \n",
        "        bal_cnt = len(non_zero)\n",
        "        while len(non_zero) > 0:\n",
        "            non_zero = remove_one_zero_clique(non_zero)\n",
        "            bal_cnt -= 1\n",
        "        return bal_cnt"
      ],
      "execution_count": 0,
      "outputs": []
    },
    {
      "cell_type": "markdown",
      "metadata": {
        "id": "FXeIOzj_qqKG",
        "colab_type": "text"
      },
      "source": [
        "**161. One Edit Distance**\n",
        "\n",
        "Given two strings s and t, determine if they are both one edit distance apart.\n",
        "\n",
        "Note: \n",
        "\n",
        "There are 3 possiblities to satisify one edit distance apart:\n",
        "\n",
        "Insert a character into s to get t\n",
        "Delete a character from s to get t\n",
        "Replace a character of s to get t\n",
        "Example 1:\n",
        "\n",
        "Input: s = \"ab\", t = \"acb\"\n",
        "Output: true\n",
        "Explanation: We can insert 'c' into s to get t."
      ]
    },
    {
      "cell_type": "code",
      "metadata": {
        "id": "qA9w4Osoq-od",
        "colab_type": "code",
        "colab": {}
      },
      "source": [
        "class Solution:\n",
        "    def isOneEditDistance(self, s: 'str', t: 'str') -> 'bool':\n",
        "        ns, nt = len(s), len(t)\n",
        "\n",
        "        # Ensure that s is shorter than t.\n",
        "        if ns > nt:\n",
        "            return self.isOneEditDistance(t, s)\n",
        "\n",
        "        # The strings are NOT one edit away distance  \n",
        "        # if the length diff is more than 1.\n",
        "        if nt - ns > 1:\n",
        "            return False\n",
        "\n",
        "        for i in range(ns):\n",
        "            if s[i] != t[i]:\n",
        "                # if strings have the same length\n",
        "                if ns == nt:\n",
        "                    return s[i + 1:] == t[i + 1:]\n",
        "                # if strings have different lengths\n",
        "                else:\n",
        "                    return s[i:] == t[i + 1:]\n",
        "         return ns + 1 == nt\n",
        "\n",
        "#method2\n",
        "def isOneEditDistance(self, s, t):\n",
        "    if s == t:\n",
        "        return False\n",
        "    l1, l2 = len(s), len(t)\n",
        "    if l1 > l2: # force s no longer than t\n",
        "        return self.isOneEditDistance(t, s)\n",
        "    if l2 - l1 > 1:\n",
        "        return False\n",
        "    for i in xrange(len(s)):\n",
        "        if s[i] != t[i]:\n",
        "            if l1 == l2:\n",
        "                s = s[:i]+t[i]+s[i+1:]  # replacement\n",
        "            else:\n",
        "                s = s[:i]+t[i]+s[i:]  # insertion\n",
        "            break\n",
        "    return s == t or s == t[:-1]"
      ],
      "execution_count": 0,
      "outputs": []
    },
    {
      "cell_type": "markdown",
      "metadata": {
        "id": "y-VuDL-FrFxb",
        "colab_type": "text"
      },
      "source": [
        "**305. Number of Islands II**\n",
        "\n",
        "A 2d grid map of m rows and n columns is initially filled with water. We may perform an addLand operation which turns the water at position (row, col) into a land. Given a list of positions to operate, count the number of islands after each addLand operation. An island is surrounded by water and is formed by connecting adjacent lands horizontally or vertically. You may assume all four edges of the grid are all surrounded by water.\n",
        "\n",
        "Example:\n",
        "\n",
        "Input: m = 3, n = 3, positions = [[0,0], [0,1], [1,2], [2,1]]\n",
        "Output: [1,1,2,3]"
      ]
    },
    {
      "cell_type": "code",
      "metadata": {
        "id": "GL8eDgEsrGJC",
        "colab_type": "code",
        "colab": {}
      },
      "source": [
        "#Pretty much just Wikipedia's Disjoint-set forests, using \"union by rank\" and \"path compression\".\n",
        "def numIslands2(self, m, n, positions):\n",
        "    parent, rank = {}, {}\n",
        "    def find(x):\n",
        "        if parent[x] != x:\n",
        "            parent[x] = find(parent[x])\n",
        "        return parent[x]\n",
        "    def union(x, y):\n",
        "        x, y = find(x), find(y)\n",
        "        if x == y:\n",
        "            return 0\n",
        "        if rank[x] < rank[y]:\n",
        "            x, y = y, x\n",
        "        parent[y] = x\n",
        "        rank[x] += rank[x] == rank[y]\n",
        "        return 1\n",
        "    counts, count = [], 0\n",
        "    for i, j in positions:\n",
        "        x = parent[x] = i, j\n",
        "        rank[x] = 0\n",
        "        count += 1\n",
        "        for y in (i+1, j), (i-1, j), (i, j+1), (i, j-1):\n",
        "            if y in parent:\n",
        "                count -= union(x, y)\n",
        "        counts.append(count)\n",
        "    return counts"
      ],
      "execution_count": 0,
      "outputs": []
    },
    {
      "cell_type": "markdown",
      "metadata": {
        "id": "kSWu0SKZriEe",
        "colab_type": "text"
      },
      "source": [
        "**694. Number of Distinct Islands**\n",
        "\n",
        "Given a non-empty 2D array grid of 0's and 1's, an island is a group of 1's (representing land) connected 4-directionally (horizontal or vertical.) You may assume all four edges of the grid are surrounded by water.\n",
        "\n",
        "Count the number of distinct islands. An island is considered to be the same as another if and only if one island can be translated (and not rotated or reflected) to equal the other."
      ]
    },
    {
      "cell_type": "code",
      "metadata": {
        "id": "O-SxTiglrqBB",
        "colab_type": "code",
        "colab": {}
      },
      "source": [
        "#hash\n",
        "class Solution(object):\n",
        "    def numDistinctIslands(self, grid):\n",
        "        seen = set()\n",
        "        def explore(r, c, di = 0):\n",
        "            if (0 <= r < len(grid) and 0 <= c < len(grid[0]) and\n",
        "                    grid[r][c] and (r, c) not in seen):\n",
        "                seen.add((r, c))\n",
        "                shape.append(di)\n",
        "                explore(r+1, c, 1)\n",
        "                explore(r-1, c, 2)\n",
        "                explore(r, c+1, 3)\n",
        "                explore(r, c-1, 4)\n",
        "                shape.append(0)\n",
        "\n",
        "        shapes = set()\n",
        "        for r in xrange(len(grid)):\n",
        "            for c in xrange(len(grid[0])):\n",
        "                shape = []\n",
        "                explore(r, c)\n",
        "                if shape:\n",
        "                    shapes.add(tuple(shape))\n",
        "\n",
        "        return len(shapes)"
      ],
      "execution_count": 0,
      "outputs": []
    },
    {
      "cell_type": "markdown",
      "metadata": {
        "id": "gZ8yaMC6rwcX",
        "colab_type": "text"
      },
      "source": [
        "**323. Number of Connected Components in an Undirected Graph**\n",
        "\n",
        "Given n nodes labeled from 0 to n - 1 and a list of undirected edges (each edge is a pair of nodes), write a function to find the number of connected components in an undirected graph."
      ]
    },
    {
      "cell_type": "code",
      "metadata": {
        "id": "8sOiboXesBxx",
        "colab_type": "code",
        "colab": {}
      },
      "source": [
        "#dfs\n",
        "def countComponents(n, edges):\n",
        "        def dfs(n, g, visited):\n",
        "            if visited[n]:\n",
        "                return\n",
        "            visited[n] = 1\n",
        "            for x in g[n]:\n",
        "                dfs(x, g, visited)\n",
        "                \n",
        "        visited = [0] * n\n",
        "        g = {x:[] for x in xrange(n)}\n",
        "        for x, y in edges:\n",
        "            g[x].append(y)\n",
        "            g[y].append(x)\n",
        "            \n",
        "        ret = 0\n",
        "        for i in xrange(n):\n",
        "            if not visited[i]:\n",
        "                dfs(i, g, visited)\n",
        "                ret += 1\n",
        "                \n",
        "        return ret\n",
        "#BFS:\n",
        "\n",
        "def countComponents(n, edges):\n",
        "        g = {x:[] for x in xrange(n)}\n",
        "        for x, y in edges:\n",
        "            g[x].append(y)\n",
        "            g[y].append(x)\n",
        "            \n",
        "        ret = 0\n",
        "        for i in xrange(n):\n",
        "            queue = [i]\n",
        "            ret += 1 if i in g else 0\n",
        "            for j in queue:\n",
        "                if j in g:\n",
        "                    queue += g[j]\n",
        "                    del g[j]\n",
        "\n",
        "        return ret\n",
        "#Union Find:\n",
        "\n",
        "def countComponents(n, edges):\n",
        "        def find(x):\n",
        "            if parent[x] != x:\n",
        "                parent[x] = find(parent[x])\n",
        "            return parent[x]\n",
        "            \n",
        "        def union(xy):\n",
        "            x, y = map(find, xy)\n",
        "            if rank[x] < rank[y]:\n",
        "                parent[x] = y\n",
        "            else:\n",
        "                parent[y] = x\n",
        "                if rank[x] == rank[y]:\n",
        "                    rank[x] += 1\n",
        "        \n",
        "        parent, rank = range(n), [0] * n\n",
        "        map(union, edges)\n",
        "        return len({find(x) for x in parent})"
      ],
      "execution_count": 0,
      "outputs": []
    },
    {
      "cell_type": "markdown",
      "metadata": {
        "id": "N4_rmcAysGBa",
        "colab_type": "text"
      },
      "source": [
        "**750. Number Of Corner Rectangles**\n",
        "\n",
        "Given a grid where each entry is only 0 or 1, find the number of corner rectangles.\n",
        "\n",
        "A corner rectangle is 4 distinct 1s on the grid that form an axis-aligned rectangle. Note that only the corners need to have the value 1. Also, all four 1s used must be distinct.\n",
        "\n",
        " "
      ]
    },
    {
      "cell_type": "code",
      "metadata": {
        "id": "JX7sEPLGsQxt",
        "colab_type": "code",
        "colab": {}
      },
      "source": [
        "class Solution(object):\n",
        "    def countCornerRectangles(self, grid):\n",
        "        count = collections.Counter()\n",
        "        ans = 0\n",
        "        for row in grid:\n",
        "            for c1, v1 in enumerate(row):\n",
        "                if v1:\n",
        "                    for c2 in xrange(c1+1, len(row)):\n",
        "                        if row[c2]:\n",
        "                            ans += count[c1, c2]\n",
        "                            count[c1, c2] += 1\n",
        "        return ans\n",
        "\n",
        "# m2\n",
        "class Solution(object):\n",
        "    def countCornerRectangles(self, grid):\n",
        "        if not grid or not grid[0]:\n",
        "            return 0\n",
        "        dp_set = []\n",
        "        ans = 0\n",
        "        for y in range(len(grid)):\n",
        "            dp_set.append(set(idx for idx,val in enumerate(grid[y]) if val))\n",
        "            for prev in range(y):\n",
        "                matches = len(dp_set[y] & dp_set[prev])\n",
        "                if matches >= 2:\n",
        "                    ans += matches * (matches-1) // 2\n",
        "            \n",
        "        return ans\n",
        "#m3 O(m^2*n) constant space\n",
        "class Solution(object):\n",
        "    def countCornerRectangles(self, grid):\n",
        "\n",
        "        if not grid or not grid[0]:\n",
        "            return 0\n",
        "\n",
        "        h, w = len(grid), len(grid[0])\n",
        "        ans = 0\n",
        "        for i in range(h -1):\n",
        "            for j in range(i+1, h):\n",
        "                count = 0\n",
        "                for c in range(w):\n",
        "                    if grid[i][c] and grid[j][c]:\n",
        "                        ans += count\n",
        "                        count += 1\n",
        "        return ans"
      ],
      "execution_count": 0,
      "outputs": []
    },
    {
      "cell_type": "markdown",
      "metadata": {
        "id": "KFdM25nMsQV4",
        "colab_type": "text"
      },
      "source": [
        "**681. Next Closest Time**\n",
        "\n",
        "Given a time represented in the format \"HH:MM\", form the next closest time by reusing the current digits. There is no limit on how many times a digit can be reused.\n",
        "\n",
        "You may assume the given input string is always valid. For example, \"01:34\", \"12:09\" are all valid. \"1:34\", \"12:9\" are all invalid."
      ]
    },
    {
      "cell_type": "code",
      "metadata": {
        "id": "_CyLWQSustBo",
        "colab_type": "code",
        "colab": {}
      },
      "source": [
        "class Solution(object):\n",
        "    def nextClosestTime(self, time):\n",
        "        ans = start = 60 * int(time[:2]) + int(time[3:])\n",
        "        elapsed = 24 * 60\n",
        "        allowed = {int(x) for x in time if x != ':'}\n",
        "        for h1, h2, m1, m2 in itertools.product(allowed, repeat = 4):\n",
        "            hours, mins = 10 * h1 + h2, 10 * m1 + m2\n",
        "            if hours < 24 and mins < 60:\n",
        "                cur = hours * 60 + mins\n",
        "                cand_elapsed = (cur - start) % (24 * 60)\n",
        "                if 0 < cand_elapsed < elapsed:\n",
        "                    ans = cur\n",
        "                    elapsed = cand_elapsed\n",
        "\n",
        "        return \"{:02d}:{:02d}\".format(*divmod(ans, 60))"
      ],
      "execution_count": 0,
      "outputs": []
    },
    {
      "cell_type": "markdown",
      "metadata": {
        "id": "ew2j2HRZsyyW",
        "colab_type": "text"
      },
      "source": [
        "**346. Moving Average from Data Stream**\n",
        "\n",
        "Given a stream of integers and a window size, calculate the moving average of all integers in the sliding window.\n",
        "\n",
        "Example:\n",
        "\n",
        "MovingAverage m = new MovingAverage(3);\n",
        "m.next(1) = 1\n",
        "m.next(10) = (1 + 10) / 2\n",
        "m.next(3) = (1 + 10 + 3) / 3\n",
        "m.next(5) = (10 + 3 + 5) / 3"
      ]
    },
    {
      "cell_type": "code",
      "metadata": {
        "id": "JX86wfFms1pC",
        "colab_type": "code",
        "colab": {}
      },
      "source": [
        "class MovingAverage:\n",
        "    def __init__(self, size: int):\n",
        "        self.size = size\n",
        "        self.queue = []\n",
        "        \n",
        "    def next(self, val: int) -> float:\n",
        "        size, queue = self.size, self.queue\n",
        "        queue.append(val)\n",
        "        # calculate the sum of the moving window\n",
        "        window_sum = sum(queue[-size:])\n",
        "\n",
        "        return window_sum / min(len(queue), size)\n",
        "\n",
        "#method 2 \n",
        "from collections import deque\n",
        "class MovingAverage:\n",
        "    def __init__(self, size: int):\n",
        "        self.size = size\n",
        "        self.queue = deque()\n",
        "        # number of elements seen so far\n",
        "        self.window_sum = 0\n",
        "        self.count = 0\n",
        "    \n",
        "    def next(self, val: int) -> float:\n",
        "        self.count += 1\n",
        "        # calculate the new sum by shifting the window\n",
        "        self.queue.append(val)\n",
        "        tail = self.queue.popleft() if self.count > self.size else 0\n",
        "        \n",
        "        self.window_sum = self.window_sum - tail + val\n",
        "        \n",
        "        return self.window_sum / min(self.size, self.count)"
      ],
      "execution_count": 0,
      "outputs": []
    },
    {
      "cell_type": "markdown",
      "metadata": {
        "id": "4oyqJNSTs8zX",
        "colab_type": "text"
      },
      "source": [
        "**163. Missing Ranges**\n",
        "\n",
        "Given a sorted integer array nums, where the range of elements are in the inclusive range [lower, upper], return its missing ranges.\n",
        "Input: nums = [0, 1, 3, 50, 75], lower = 0 and upper = 99,\n",
        "Output: [\"2\", \"4->49\", \"51->74\", \"76->99\"]"
      ]
    },
    {
      "cell_type": "code",
      "metadata": {
        "id": "HBBg2q6VtJUe",
        "colab_type": "code",
        "colab": {}
      },
      "source": [
        "def findMissingRanges(self, A, lower, upper):\n",
        "        result = []\n",
        "        A.append(upper+1)\n",
        "        pre = lower - 1\n",
        "        for i in A:\n",
        "           if (i == pre + 2):\n",
        "               result.append(str(i-1))\n",
        "           elif (i > pre + 2):\n",
        "               result.append(str(pre + 1) + \"->\" + str(i -1))\n",
        "           pre = i\n",
        "        return result"
      ],
      "execution_count": 0,
      "outputs": []
    },
    {
      "cell_type": "markdown",
      "metadata": {
        "id": "XL6nUW5_tKCN",
        "colab_type": "text"
      },
      "source": [
        "**1060. Missing Element in Sorted Array**\n",
        "\n",
        "Given a sorted array A of unique numbers, find the K-th missing number starting from the leftmost number of the array.\n",
        "Example 1:\n",
        "\n",
        "Input: A = [4,7,9,10], K = 1\n",
        "Output: 5\n",
        "Explanation: \n",
        "The first missing number is 5."
      ]
    },
    {
      "cell_type": "code",
      "metadata": {
        "id": "_NYrIMN3tSTv",
        "colab_type": "code",
        "colab": {}
      },
      "source": [
        "class Solution:\n",
        "    def missingElement(self, nums: List[int], k: int) -> int:\n",
        "        # Return how many numbers are missing until nums[idx]\n",
        "        missing = lambda idx: nums[idx] - nums[0] - idx\n",
        "                \n",
        "        n = len(nums)\n",
        "        # If kth missing number is larger than \n",
        "        # the last element of the array\n",
        "        if k > missing(n - 1):\n",
        "            return nums[-1] + k - missing(n - 1) \n",
        "\n",
        "        idx = 1\n",
        "        # find idx such that \n",
        "        # missing(idx - 1) < k <= missing(idx)\n",
        "        while missing(idx) < k:\n",
        "            idx += 1\n",
        "\n",
        "        # kth missing number is larger than nums[idx - 1]\n",
        "        # and smaller than nums[idx]\n",
        "        return nums[idx - 1] + k - missing(idx - 1)\n",
        "\n",
        "#binary search\n",
        "class Solution:\n",
        "    def missingElement(self, nums: List[int], k: int) -> int:\n",
        "        # Return how many numbers are missing until nums[idx]\n",
        "        missing = lambda idx: nums[idx] - nums[0] - idx\n",
        "            \n",
        "        n = len(nums)\n",
        "        # If kth missing number is larger than \n",
        "        # the last element of the array\n",
        "        if k > missing(n - 1):\n",
        "            return nums[-1] + k - missing(n - 1) \n",
        "        \n",
        "        left, right = 0, n - 1\n",
        "        # find left = right index such that \n",
        "        # missing(left - 1) < k <= missing(left)\n",
        "        while left != right:\n",
        "            pivot = left + (right - left) // 2\n",
        "            \n",
        "            if missing(pivot) < k:\n",
        "                left = pivot + 1\n",
        "            else:\n",
        "                right = pivot \n",
        "        \n",
        "        # kth missing number is larger than nums[left - 1]\n",
        "        # and smaller than nums[left]\n",
        "        return nums[left - 1] + k - missing(left - 1) "
      ],
      "execution_count": 0,
      "outputs": []
    },
    {
      "cell_type": "markdown",
      "metadata": {
        "id": "rsetGEQvtR1l",
        "colab_type": "text"
      },
      "source": [
        "**727. Minimum Window Subsequence**\n",
        "\n",
        "Given strings S and T, find the minimum (contiguous) substring W of S, so that T is a subsequence of W.\n",
        "\n",
        "If there is no such window in S that covers all characters in T, return the empty string \"\". If there are multiple such minimum-length windows, return the one with the left-most starting index."
      ]
    },
    {
      "cell_type": "code",
      "metadata": {
        "id": "FeM7Bf6ytpky",
        "colab_type": "code",
        "colab": {}
      },
      "source": [
        "Very brief explannation : m = len(T), n = len(S), scan string S and maintain a up to date list of start index of matching T in list dp(size of m), dp[i] denotes the start index when i+1 chars of T are matched. When T[i] appears in S, we simply update dp[i] = dp[i-1], when T[0] appears in S with index, we update dp[0] = index. Whenever dp[m-1] is updated, we have a new window that T is sub-sequence of, and we keep a running minimum of this window width\n",
        "\n",
        "We scan S once, and each update depends the number of same char in T. The worst case is O(mn) when all position of T are identical. When the char in T doesn't have much repetition, O(n) time complexity is achieved.\n",
        "\n",
        "Space complexity O(m)\n",
        "\n",
        "class Solution(object):\n",
        "    def minWindow(self, S, T):\n",
        "        \"\"\"\n",
        "        :type S: str\n",
        "        :type T: str\n",
        "        :rtype: str\n",
        "        \"\"\"\n",
        "        n = len(S)\n",
        "        m = len(T)\n",
        "        \n",
        "        dic = dict()\n",
        "        for i, s in enumerate(T):\n",
        "            dic.setdefault(s, []).append(i)\n",
        "            \n",
        "        dp = [-1 for i in xrange(m)]\n",
        "        \n",
        "        count = n+1\n",
        "        start = -1\n",
        "        \n",
        "        for index, c in enumerate(S):\n",
        "            if c in dic:\n",
        "                for i in dic[c][::-1]:\n",
        "                    if i == 0:\n",
        "                        dp[i] = index\n",
        "                    else:\n",
        "                        dp[i] = dp[i-1]\n",
        "                    if i == m-1 and dp[i] >= 0 and index - dp[i]+1 < count:\n",
        "                        count = index - dp[i] + 1\n",
        "                        start = dp[i]\n",
        "        if dp[-1] < 0:\n",
        "            return \"\"\n",
        "        return S[start:start+count]"
      ],
      "execution_count": 0,
      "outputs": []
    },
    {
      "cell_type": "markdown",
      "metadata": {
        "id": "XdA4mruFuEOH",
        "colab_type": "text"
      },
      "source": [
        "**411. Minimum Unique Word Abbreviation**\n",
        "\n",
        "A string such as \"word\" contains the following abbreviations:\n",
        "\n",
        "[\"word\", \"1ord\", \"w1rd\", \"wo1d\", \"wor1\", \"2rd\", \"w2d\", \"wo2\", \"1o1d\", \"1or1\", \"w1r1\", \"1o2\", \"2r1\", \"3d\", \"w3\", \"4\"]\n",
        "Given a target string and a set of strings in a dictionary, find an abbreviation of this target string with the smallest possible length such that it does not conflict with abbreviations of the strings in the dictionary.\n",
        "\n",
        "Each number or letter in the abbreviation is considered length = 1. For example, the abbreviation \"a32bc\" has length = 4."
      ]
    },
    {
      "cell_type": "code",
      "metadata": {
        "id": "LJHgEDL5uNxm",
        "colab_type": "code",
        "colab": {}
      },
      "source": [
        "#Python DFS Solution with Bit Manipulation\n",
        "class Solution(object):\n",
        "    def minAbbreviation(self, target, dictionary):\n",
        "        \"\"\"\n",
        "        :type target: str\n",
        "        :type dictionary: List[str]\n",
        "        :rtype: str\n",
        "        \"\"\"\n",
        "        self.size = len(target)\n",
        "        self.wlist = [self.toNumber(target, d) \\\n",
        "                      for d in dictionary \\\n",
        "                      if len(d) == self.size]\n",
        "        self.ans = (1 << self.size) - 1\n",
        "        self.length = self.size\n",
        "        self.dfs(0, 0, 0)\n",
        "        return self.toWord(self.ans)\n",
        "    def dfs(self, number, depth, length):\n",
        "        if length >= self.length: return\n",
        "        if depth == self.size:\n",
        "            if not any(number & w == number for w in self.wlist):\n",
        "                self.ans = number\n",
        "                self.length = length\n",
        "            return\n",
        "        self.dfs((number << 1) + 1, depth + 1, length + 1)\n",
        "        if length == 0 or number & 1:\n",
        "            for x in range(2, self.size - depth + 1):\n",
        "                self.dfs(number << x, depth + x, length + 1)\n",
        "    def toNumber(self, target, word):\n",
        "        ans = 0\n",
        "        for x in range(self.size):\n",
        "            ans <<= 1\n",
        "            ans += target[x] == word[x]\n",
        "        return ans\n",
        "    def toWord(self, number):\n",
        "        ans = ''\n",
        "        cnt = 0\n",
        "        for x in range(self.size):\n",
        "            if number & (1 << self.size - x - 1):\n",
        "                if cnt:\n",
        "                    ans += str(cnt)\n",
        "                    cnt = 0\n",
        "                ans += target[x]\n",
        "            else:\n",
        "                cnt += 1\n",
        "        return ans + str(cnt or '')"
      ],
      "execution_count": 0,
      "outputs": []
    },
    {
      "cell_type": "markdown",
      "metadata": {
        "id": "GNsoYJB-uNSu",
        "colab_type": "text"
      },
      "source": [
        "**1199. Minimum Time to Build Blocks**\n",
        "\n",
        "You are given a list of blocks, where blocks[i] = t means that the i-th block needs t units of time to be built. A block can only be built by exactly one worker.\n",
        "\n",
        "A worker can either split into two workers (number of workers increases by one) or build a block then go home. Both decisions cost some time.\n",
        "\n",
        "The time cost of spliting one worker into two workers is given as an integer split. Note that if two workers split at the same time, they split in parallel so the cost would be split.\n",
        "\n",
        "Output the minimum time needed to build all blocks.\n",
        "\n",
        "Initially, there is only one worker."
      ]
    },
    {
      "cell_type": "code",
      "metadata": {
        "id": "A6fcqBl7ukXO",
        "colab_type": "code",
        "colab": {}
      },
      "source": [
        "##hoffman algo\n",
        "class Solution:\n",
        "    def minBuildTime(self, blocks: List[int], split: int) -> int:\n",
        "        heapq.heapify(blocks)\n",
        "        while len(blocks) > 1:\n",
        "            block_1 = heapq.heappop(blocks)\n",
        "            block_2 = heapq.heappop(blocks)\n",
        "            new_block = max(block_1, block_2) + split\n",
        "            heapq.heappush(blocks, new_block)\n",
        "        return blocks[0]\n",
        "#m2 huffman algo  Time O(NlogN), Space O(N)\n",
        "  def minBuildTime(self, A, split):\n",
        "        heapq.heapify(A)\n",
        "        while len(A) > 1:\n",
        "            x, y = heapq.heappop(A), heapq.heappop(A)\n",
        "            heapq.heappush(A, y + split)\n",
        "        return heapq.heappop(A)"
      ],
      "execution_count": 0,
      "outputs": []
    },
    {
      "cell_type": "markdown",
      "metadata": {
        "id": "jwCC60Whujua",
        "colab_type": "text"
      },
      "source": [
        "**1197. Minimum Knight Moves**\n",
        "\n",
        "In an infinite chess board with coordinates from -infinity to +infinity, you have a knight at square [0, 0].\n",
        "\n",
        "A knight has 8 possible moves it can make, as illustrated below. Each move is two squares in a cardinal direction, then one square in an orthogonal direction.Return the minimum number of steps needed to move the knight to the square [x, y].  It is guaranteed the answer exists.\n",
        "\n",
        " Example 1:\n",
        "\n",
        "Input: x = 2, y = 1\n",
        "Output: 1\n",
        "Explanation: [0, 0] → [2, 1]"
      ]
    },
    {
      "cell_type": "code",
      "metadata": {
        "id": "XD6tEs3jvB52",
        "colab_type": "code",
        "colab": {}
      },
      "source": [
        "#bfs\n",
        "from functools import lru_cache\n",
        "class Solution:\n",
        "    def minKnightMoves(self, x: int, y: int) -> int:\n",
        "        @lru_cache(None) \n",
        "        def DP(x,y):\n",
        "            if x + y == 0:\n",
        "                return 0\n",
        "            elif x + y == 2:\n",
        "                return 2\n",
        "            return min(DP(abs(x-1),abs(y-2)),DP(abs(x-2),abs(y-1)))+1\n",
        "        return DP(abs(x),abs(y))"
      ],
      "execution_count": 0,
      "outputs": []
    },
    {
      "cell_type": "markdown",
      "metadata": {
        "id": "PNZSkWlqvG-G",
        "colab_type": "text"
      },
      "source": [
        "**1167. Minimum Cost to Connect Sticks**\n",
        "\n",
        "You have some sticks with positive integer lengths.\n",
        "\n",
        "You can connect any two sticks of lengths X and Y into one stick by paying a cost of X + Y.  You perform this action until there is one stick remaining.\n",
        "\n",
        "Return the minimum cost of connecting all the given sticks into one stick in this way.\n",
        "Example 1:\n",
        "\n",
        "Input: sticks = [2,4,3]\n",
        "Output: 14\n",
        "Example 2:\n",
        "\n",
        "Input: sticks = [1,8,3,5]\n",
        "Output: 30"
      ]
    },
    {
      "cell_type": "code",
      "metadata": {
        "id": "AZSRQk8CvNnB",
        "colab_type": "code",
        "colab": {}
      },
      "source": [
        "#greedy search\n",
        " def connectSticks(self, A):\n",
        "        heapq.heapify(A)\n",
        "        res = 0\n",
        "        while len(A) > 1:\n",
        "            x, y = heapq.heappop(A), heapq.heappop(A)\n",
        "            res += x + y\n",
        "            heapq.heappush(A, x + y)\n",
        "        return res\n",
        "#Python 3 heapq Time: O(nlogn), space: O(n), where n = sticks.length.\n",
        "\n",
        "class Solution:\n",
        "    def connectSticks(self, sticks: List[int]) -> int:\n",
        "        h = []\n",
        "        for s in sticks:\n",
        "            heapq.heappush(h, s)\n",
        "        sum = 0\n",
        "        while len(h) > 1:\n",
        "            two = heapq.heappop(h) + heapq.heappop(h)\n",
        "            sum += two\n",
        "            heapq.heappush(h, two)\n",
        "        return sum    "
      ],
      "execution_count": 0,
      "outputs": []
    },
    {
      "cell_type": "markdown",
      "metadata": {
        "id": "yHjic6tswJvh",
        "colab_type": "text"
      },
      "source": [
        "**252. Meeting Rooms**\n",
        "\n",
        "Given an array of meeting time intervals consisting of start and end times [[s1,e1],[s2,e2],...] (si < ei), determine if a person could attend all meetings.\n",
        "\n",
        "Example 1:\n",
        "\n",
        "Input: [[0,30],[5,10],[15,20]]\n",
        "Output: false"
      ]
    },
    {
      "cell_type": "code",
      "metadata": {
        "id": "erA_hxEswUPH",
        "colab_type": "code",
        "colab": {}
      },
      "source": [
        "def canAttendMeetings(self, intervals):\n",
        "    intervals.sort(key=lambda x: x.start)\n",
        "    \n",
        "    for i in range(1, len(intervals)):\n",
        "        if intervals[i].start < intervals[i-1].end:\n",
        "            return False\n",
        "        \n",
        "    return True"
      ],
      "execution_count": 0,
      "outputs": []
    },
    {
      "cell_type": "markdown",
      "metadata": {
        "id": "05PllloYwdu-",
        "colab_type": "text"
      },
      "source": [
        "**253** quora"
      ]
    },
    {
      "cell_type": "markdown",
      "metadata": {
        "id": "sKe23hWwwibx",
        "colab_type": "text"
      },
      "source": [
        "**568. Maximum Vacation Days**\n",
        "\n",
        "LeetCode wants to give one of its best employees the option to travel among N cities to collect algorithm problems. But all work and no play makes Jack a dull boy, you could take vacations in some particular cities and weeks. Your job is to schedule the traveling to maximize the number of vacation days you could take, but there are certain rules and restrictions you need to follow."
      ]
    },
    {
      "cell_type": "code",
      "metadata": {
        "id": "cygVBtprw4A6",
        "colab_type": "code",
        "colab": {}
      },
      "source": [
        "Let's maintain best[i], the most vacation days you can have ending in city i on week t. At the end, we simply want max(best), the best answer for any ending city.\n",
        "\n",
        "For every flight i -> j (including staying in the same city, when i == j), we have a candidate answer best[j] = best[i] + days[j][t], and we want the best answer of those.\n",
        "\n",
        "When the graph is sparse, we can precompute flights_available[i] = [j for j, adj in enumerate(flights[i]) if adj or i == j] instead to save some time, but this is not required.\n",
        "\n",
        "def maxVacationDays(self, flights, days):\n",
        "    NINF = float('-inf')\n",
        "    N, K = len(days), len(days[0])\n",
        "    best = [NINF] * N\n",
        "    best[0] = 0\n",
        "    \n",
        "    for t in xrange(K):\n",
        "        cur = [NINF] * N\n",
        "        for i in xrange(N):\n",
        "            for j, adj in enumerate(flights[i]):\n",
        "                if adj or i == j:\n",
        "                    cur[j] = max(cur[j], best[i] + days[j][t])\n",
        "        best = cur\n",
        "    return max(best)"
      ],
      "execution_count": 0,
      "outputs": []
    },
    {
      "cell_type": "markdown",
      "metadata": {
        "id": "7oIyAfqxw46w",
        "colab_type": "text"
      },
      "source": [
        "**325. Maximum Size Subarray Sum Equals k**\n",
        "\n",
        "Given an array nums and a target value k, find the maximum length of a subarray that sums to k. If there isn't one, return 0 instead.\n",
        "\n",
        "Note:\n",
        "The sum of the entire nums array is guaranteed to fit within the 32-bit signed integer range.\n",
        "\n",
        "Example 1:\n",
        "\n",
        "Input: nums = [1, -1, 5, -2, 3], k = 3\n",
        "Output: 4 \n",
        "Explanation: The subarray [1, -1, 5, -2] sums to 3 and is the longest."
      ]
    },
    {
      "cell_type": "code",
      "metadata": {
        "id": "ePpJUWCzxF0h",
        "colab_type": "code",
        "colab": {}
      },
      "source": [
        "def maxSubArrayLen(self, nums, k):\n",
        "    ans, acc = 0, 0               # answer and the accumulative value of nums\n",
        "    mp = {0:-1}                 #key is acc value, and value is the index\n",
        "    for i in xrange(len(nums)):\n",
        "        acc += nums[i]\n",
        "        if acc not in mp:\n",
        "            mp[acc] = i \n",
        "        if acc-k in mp:\n",
        "            ans = max(ans, i-mp[acc-k])\n",
        "    return ans"
      ],
      "execution_count": 0,
      "outputs": []
    },
    {
      "cell_type": "markdown",
      "metadata": {
        "id": "J61owVRxxFeS",
        "colab_type": "text"
      },
      "source": [
        "644. Maximum Average Subarray II\n",
        "\n",
        "Given an array consisting of n integers, find the contiguous subarray whose length is greater than or equal to k that has the maximum average value. And you need to output the maximum average value.\n",
        "\n",
        "Example 1:\n",
        "Input: [1,12,-5,-6,50,3], k = 4\n",
        "Output: 12.75\n",
        "Explanation:\n",
        "when length is 5, maximum average value is 10.8,\n",
        "when length is 6, maximum average value is 9.16667.\n",
        "Thus return 12.75."
      ]
    },
    {
      "cell_type": "code",
      "metadata": {
        "id": "iuPM7HPqxUr9",
        "colab_type": "code",
        "colab": {}
      },
      "source": [
        "def findMaxAverage(self, A, K):\n",
        "    N = len(A)\n",
        "    P = [0]\n",
        "    for x in A:\n",
        "        P.append(P[-1] + x)\n",
        "\n",
        "    def d(x, y):\n",
        "        return (P[y+1] - P[x]) / float(y+1-x)\n",
        "\n",
        "    hull = collections.deque()\n",
        "    ans = float('-inf')\n",
        "\n",
        "    for j in xrange(K-1, N):\n",
        "        while len(hull) >= 2 and d(hull[-2], hull[-1]-1) >= d(hull[-2], j-K):\n",
        "            hull.pop()\n",
        "        hull.append(j-K + 1)\n",
        "        while len(hull) >= 2 and d(hull[0], hull[1]-1) <= d(hull[0], j):\n",
        "            hull.popleft()\n",
        "        ans = max(ans, d(hull[0], j))\n",
        "\n",
        "    return ans\n",
        "##binary search\n",
        "Binary Search Solution\n",
        "\n",
        "What is the range for the average value? Clearly, any average will lie between min(nums) and max(nums). So the intuition is to use binary search between this range.\n",
        "lo is initialized to min(nums). hi is initialized to max(nums). x = mid = (lo+hi)/2\n",
        "Now we want to solve the sub-problem: Does the array nums have a subarray of length greater than equal to k with average atleast x? If yes, then we can restrict our search to the range [x,hi]. Otherwise, we will search in the range [lo,x].\n",
        "Can we devise a linear time solution for the problem: Does the array nums have a subarray of length greater than equal to k with average atleast x?\n",
        "nums[i]+...+nums[j] >= x * (j-i-1). This evaluates to: (nums[i]-x) + (nums[i+1]-x) + ...(nums[j]-x) >=0\n",
        "The problem is transformed into the following problem: Do we have a sub-array of length greater than k in the transformed array with sum greater than zero?\n",
        "The above problem can be solved in linear time. Start by finding the sum of first k elements nums[i]-mid. If this sum is greater than zero, then we can return True. Otherwise, say we have the cumulative sum until index j i.e. cum(j) where j >= k. Now say we know the minimum cumulative sum until index i i.e. mcum(i) such that j-i >= k. Then if the cum(j) >= mcum(i), we can return True.\n",
        "class Solution:\n",
        "    def can_process(self, mid, nums, k):\n",
        "        sum_so_far = 0\n",
        "        for i in range(k):\n",
        "            sum_so_far += nums[i] - mid\n",
        "        if sum_so_far >= 0:\n",
        "            return True\n",
        "        prev, min_so_far = 0.0, 0.0\n",
        "        for i in range(k, len(nums)):\n",
        "            sum_so_far += nums[i] - mid\n",
        "            prev += nums[i-k]-mid\n",
        "            min_so_far = min(min_so_far, prev)\n",
        "            if sum_so_far >= min_so_far:\n",
        "                return True\n",
        "        return False\n",
        "    \n",
        "    def findMaxAverage(self, nums, k):\n",
        "        \"\"\"\n",
        "        :type nums: List[int]\n",
        "        :type k: int\n",
        "        :rtype: float\n",
        "        \"\"\"\n",
        "        lo, hi = min(nums), max(nums)\n",
        "        precision = 1E-6\n",
        "        while hi-lo > precision:\n",
        "            mid = lo + (hi-lo)/2.0\n",
        "            if self.can_process(mid, nums, k):\n",
        "                lo = mid\n",
        "            else:\n",
        "                hi = mid\n",
        "        return lo"
      ],
      "execution_count": 0,
      "outputs": []
    },
    {
      "cell_type": "markdown",
      "metadata": {
        "id": "royW91ZBxegC",
        "colab_type": "text"
      },
      "source": [
        "**716. Max Stack**\n",
        "\n",
        "Design a max stack that supports push, pop, top, peekMax and popMax.\n",
        "\n",
        "push(x) -- Push element x onto stack.\n",
        "pop() -- Remove the element on top of the stack and return it.\n",
        "top() -- Get the element on the top.\n",
        "peekMax() -- Retrieve the maximum element in the stack.\n",
        "popMax() -- Retrieve the maximum element in the stack, and remove it. If you find more than one maximum elements, only remove the top-most one."
      ]
    },
    {
      "cell_type": "code",
      "metadata": {
        "id": "QfdeoB5Fxr9N",
        "colab_type": "code",
        "colab": {}
      },
      "source": [
        "class MaxStack(list):\n",
        "    def push(self, x):\n",
        "        m = max(x, self[-1][1] if self else None)\n",
        "        self.append((x, m))\n",
        "\n",
        "    def pop(self):\n",
        "        return list.pop(self)[0]\n",
        "\n",
        "    def top(self):\n",
        "        return self[-1][0]\n",
        "\n",
        "    def peekMax(self):\n",
        "        return self[-1][1]\n",
        "\n",
        "    def popMax(self):\n",
        "        m = self[-1][1]\n",
        "        b = []\n",
        "        while self[-1][0] != m:\n",
        "            b.append(self.pop())\n",
        "\n",
        "        self.pop()\n",
        "        map(self.push, reversed(b))\n",
        "        return m"
      ],
      "execution_count": 0,
      "outputs": []
    },
    {
      "cell_type": "markdown",
      "metadata": {
        "id": "n83LzBE3xyB0",
        "colab_type": "text"
      },
      "source": [
        "**487. Max Consecutive Ones II**\n",
        "\n",
        "Given a binary array, find the maximum number of consecutive 1s in this array if you can flip at most one 0.\n",
        "\n",
        "Example 1:\n",
        "Input: [1,0,1,1,0]\n",
        "Output: 4\n",
        "Explanation: Flip the first zero will get the the maximum number of consecutive 1s.After flipping, the maximum number of consecutive 1s is 4."
      ]
    },
    {
      "cell_type": "code",
      "metadata": {
        "id": "nVWZ8kmVx5kv",
        "colab_type": "code",
        "colab": {}
      },
      "source": [
        "store the length of previous and current consecutive 1's (separated by the last 0) as pre and curr , respectively.\n",
        "\n",
        "Whenever we get a new number, update these two variables accordingly. The consecutive length would be pre + 1 + curr, where the 1 is a zero that got flipped to 1. (note that pre is initialized to -1, meaning that we haven't seen any 0 yet)\n",
        "\n",
        "class Solution(object):\n",
        "    def findMaxConsecutiveOnes(self, nums):\n",
        "        # previous and current length of consecutive 1 \n",
        "        pre, curr, maxlen = -1, 0, 0\n",
        "        for n in nums:\n",
        "            if n == 0:\n",
        "                pre, curr = curr, 0\n",
        "            else:\n",
        "                curr += 1\n",
        "            maxlen = max(maxlen, pre + 1 + curr )\n",
        "        \n",
        "        return maxlen"
      ],
      "execution_count": 0,
      "outputs": []
    },
    {
      "cell_type": "markdown",
      "metadata": {
        "id": "okwHuW1wyDgs",
        "colab_type": "text"
      },
      "source": [
        "**159. Longest Substring with At Most Two Distinct Characters**\n",
        "\n",
        "Given a string s , find the length of the longest substring t  that contains at most 2 distinct characters.\n",
        "\n",
        "Example 1:\n",
        "\n",
        "Input: \"eceba\"\n",
        "Output: 3\n",
        "Explanation: t is \"ece\" which its length is 3."
      ]
    },
    {
      "cell_type": "code",
      "metadata": {
        "id": "n0euTGMgyHtI",
        "colab_type": "code",
        "colab": {}
      },
      "source": [
        "class Solution(object):\n",
        "    def lengthOfLongestSubstringTwoDistinct(self, s):\n",
        "        \"\"\"\n",
        "        :type s: str\n",
        "        :rtype: int\n",
        "        \"\"\"\n",
        "        left, longest, d = 0, 0, {}\n",
        "        maximum_distinct = 2\n",
        "        for index, char in list(enumerate(s)):\n",
        "            d[char] = index\n",
        "            if len(d.keys()) == maximum_distinct + 1:\n",
        "                index_to_remove = min([d[char] for char in d.keys()])\n",
        "                d.pop(s[index_to_remove], None)\n",
        "                left = index_to_remove + 1\n",
        "            longest = max(longest, index - left + 1)\n",
        "        return longest\n",
        "\n",
        "#slicing window\n",
        "from collections import defaultdict\n",
        "class Solution:\n",
        "    def lengthOfLongestSubstringTwoDistinct(self, s: 'str') -> 'int':\n",
        "        n = len(s) \n",
        "        if n < 3:\n",
        "            return n\n",
        "        \n",
        "        # sliding window left and right pointers\n",
        "        left, right = 0, 0\n",
        "        # hashmap character -> its rightmost position \n",
        "        # in the sliding window\n",
        "        hashmap = defaultdict()\n",
        "\n",
        "        max_len = 2\n",
        "        \n",
        "        while right < n:\n",
        "            # slidewindow contains less than 3 characters\n",
        "            if len(hashmap) < 3:\n",
        "                hashmap[s[right]] = right\n",
        "                right += 1\n",
        "\n",
        "            # slidewindow contains 3 characters\n",
        "            if len(hashmap) == 3:\n",
        "                # delete the leftmost character\n",
        "                del_idx = min(hashmap.values())\n",
        "                del hashmap[s[del_idx]]\n",
        "                # move left pointer of the slidewindow\n",
        "                left = del_idx + 1\n",
        "\n",
        "            max_len = max(max_len, right - left)\n",
        "\n",
        "        return max_len"
      ],
      "execution_count": 0,
      "outputs": []
    },
    {
      "cell_type": "markdown",
      "metadata": {
        "id": "Ccq6u2xQyII2",
        "colab_type": "text"
      },
      "source": [
        "**340. Longest Substring with At Most K Distinct Characters**\n",
        "\n",
        "Given a string, find the length of the longest substring T that contains at most k distinct characters.\n",
        "\n",
        "Example 1:\n",
        "\n",
        "Input: s = \"eceba\", k = 2\n",
        "Output: 3\n",
        "Explanation: T is \"ece\" which its length is 3."
      ]
    },
    {
      "cell_type": "code",
      "metadata": {
        "id": "lyPO1NCIyo_k",
        "colab_type": "code",
        "colab": {}
      },
      "source": [
        "#dictionary\n",
        "class Solution(object):\n",
        "    \n",
        "    \"\"\"\n",
        "    The general idea is to iterate over string s.\n",
        "    Always put the character c and its location i in the dictionary d.\n",
        "    1) If the sliding window contains less than or equal to k distinct characters, simply record the return value, and move on.\n",
        "    2) Otherwise, we need to remove a character from the sliding window.\n",
        "       Here's how to find the character to be removed:\n",
        "       Because the values in d represents the rightmost location of each character in the sliding window, in order to find the longest substring T, we need to locate the smallest location, and remove it from the dictionary, and then record the return value.\n",
        "    \"\"\"\n",
        "    def lengthOfLongestSubstringKDistinct(self, s, k):\n",
        "        \"\"\"\n",
        "        :type s: str\n",
        "        :type k: int\n",
        "        :rtype: int\n",
        "        \"\"\"\n",
        "        # Use dictionary d to keep track of (character, location) pair,\n",
        "        # where location is the rightmost location that the character appears at\n",
        "        d = {}\n",
        "        low, ret = 0, 0\n",
        "        for i, c in enumerate(s):\n",
        "            d[c] = i\n",
        "            if len(d) > k:\n",
        "                low = min(d.values())\n",
        "                del d[s[low]]\n",
        "                low += 1\n",
        "            ret = max(i - low + 1, ret)\n",
        "        return ret\n",
        "# sliding window+dic\n",
        "from collections import OrderedDict\n",
        "class Solution:\n",
        "    def lengthOfLongestSubstringKDistinct(self, s: 'str', k: 'int') -> 'int':\n",
        "        n = len(s) \n",
        "        if k == 0 or n == 0:\n",
        "            return 0\n",
        "        \n",
        "        # sliding window left and right pointers\n",
        "        left, right = 0, 0\n",
        "        # hashmap character -> its rightmost position \n",
        "        # in the sliding window\n",
        "        hashmap = OrderedDict()\n",
        "        max_len = 1\n",
        "        \n",
        "        while right < n:\n",
        "            character = s[right]\n",
        "            # if character is already in the hashmap -\n",
        "            # delete it, so that after insert it becomes\n",
        "            # the rightmost element in the hashmap\n",
        "            if character in hashmap:\n",
        "                del hashmap[character]\n",
        "            hashmap[character] = right\n",
        "            right += 1\n",
        "\n",
        "            # slidewindow contains k + 1 characters\n",
        "            if len(hashmap) == k + 1:\n",
        "                # delete the leftmost character\n",
        "                _, del_idx = hashmap.popitem(last = False)\n",
        "                # move left pointer of the slidewindow\n",
        "                left = del_idx + 1\n",
        "\n",
        "            max_len = max(max_len, right - left)\n",
        "\n",
        "        return max_len\n"
      ],
      "execution_count": 0,
      "outputs": []
    },
    {
      "cell_type": "markdown",
      "metadata": {
        "id": "7CtTqy9XzPnZ",
        "colab_type": "text"
      },
      "source": [
        "**562. Longest Line of Consecutive One in Matrix**\n",
        "\n",
        "Given a 01 matrix M, find the longest line of consecutive one in the matrix. The line could be horizontal, vertical, diagonal or anti-diagonal.\n",
        "Example:\n",
        "Input:\n",
        "[[0,1,1,0],\n",
        " [0,1,1,0],\n",
        " [0,0,0,1]]\n",
        "Output: 3"
      ]
    },
    {
      "cell_type": "code",
      "metadata": {
        "id": "iqkekmKyzndT",
        "colab_type": "code",
        "colab": {}
      },
      "source": [
        "def longestLine(self, M):\n",
        "    maxlen = 0\n",
        "    currlen = collections.Counter()\n",
        "    for i, row in enumerate(M):\n",
        "        for j, a in enumerate(row):\n",
        "            for key in i, j+.1, i+j+.2, i-j+.3:\n",
        "                currlen[key] = (currlen[key] + 1) * a\n",
        "                maxlen = max(maxlen, currlen[key])\n",
        "    return maxlen"
      ],
      "execution_count": 0,
      "outputs": []
    },
    {
      "cell_type": "markdown",
      "metadata": {
        "id": "Q1dNpeMPztn1",
        "colab_type": "text"
      },
      "source": [
        "**533. Lonely Pixel II**\n",
        "\n",
        "Given a picture consisting of black and white pixels, and a positive integer N, find the number of black pixels located at some specific row R and column C that align with all the following rules:\n",
        "\n",
        "Row R and column C both contain exactly N black pixels.\n",
        "For all rows that have a black pixel at column C, they should be exactly the same as row R\n",
        "The picture is represented by a 2D char array consisting of 'B' and 'W', which means black and white pixels respectively."
      ]
    },
    {
      "cell_type": "code",
      "metadata": {
        "id": "LV8s1k9Szz_E",
        "colab_type": "code",
        "colab": {}
      },
      "source": [
        "Mainly I group and count equal rows. Look for rows that appear N times and that have N black pixels. If you find one, add N for each of its black columns that doesn't have extra black pixels (in other rows).\n",
        "\n",
        "def findBlackPixel(self, picture, N):\n",
        "    ctr = collections.Counter(map(tuple, picture))\n",
        "    cols = [col.count('B') for col in zip(*picture)]\n",
        "    return sum(N * zip(row, cols).count(('B', N))\n",
        "               for row, count in ctr.items()\n",
        "               if count == N == row.count('B'))\n",
        "# method 2\n",
        "def findBlackPixel(self, picture, N):\n",
        "    \"\"\"\n",
        "    :type picture: List[List[str]]\n",
        "    :type N: int\n",
        "    :rtype: int\n",
        "    \"\"\"\n",
        "    count = 0\n",
        "    for c in zip(*picture):\n",
        "        if c.count('B') != N: continue\n",
        "        first_row = picture[c.index('B')]\n",
        "        if first_row.count('B') != N: continue\n",
        "        if picture.count(first_row) != N: continue\n",
        "        count += 1\n",
        "    return count*N"
      ],
      "execution_count": 0,
      "outputs": []
    },
    {
      "cell_type": "markdown",
      "metadata": {
        "id": "VFkk91G1z6hf",
        "colab_type": "text"
      },
      "source": [
        "**531. Lonely Pixel I**\n",
        "\n",
        "Given a picture consisting of black and white pixels, find the number of black lonely pixels.\n",
        "\n",
        "The picture is represented by a 2D char array consisting of 'B' and 'W', which means black and white pixels respectively.\n",
        "\n",
        "A black lonely pixel is character 'B' that located at a specific position where the same row and same column don't have any other black pixels."
      ]
    },
    {
      "cell_type": "code",
      "metadata": {
        "id": "Rc14tSWI2PH2",
        "colab_type": "code",
        "colab": {}
      },
      "source": [
        "def findLonelyPixel(self, picture):\n",
        "    return sum(col.count('B') == 1 == picture[col.index('B')].count('B') for col in zip(*picture))\n",
        "\n",
        "#method 2\n",
        "class Solution(object):\n",
        "    def findLonelyPixel(self, picture):\n",
        "        \"\"\"\n",
        "        :type picture: List[List[str]]\n",
        "        :rtype: int\n",
        "        \"\"\"\n",
        "        rotate_pic=zip(*picture)\n",
        "        ans=0\n",
        "        for i in range(len(picture)):\n",
        "            if picture[i].count('B')==1:\n",
        "                idx=picture[i].index('B')\n",
        "                if rotate_pic[idx].count('B')==1:\n",
        "                    ans+=1\n",
        "        return ans"
      ],
      "execution_count": 0,
      "outputs": []
    },
    {
      "cell_type": "markdown",
      "metadata": {
        "id": "38rfmmbS2eoM",
        "colab_type": "text"
      },
      "source": [
        "**359. Logger Rate Limiter**\n",
        "\n",
        "Design a logger system that receive stream of messages along with its timestamps, each message should be printed if and only if it is not printed in the last 10 seconds.\n",
        "\n",
        "Given a message and a timestamp (in seconds granularity), return true if the message should be printed in the given timestamp, otherwise returns false.\n",
        "\n",
        "It is possible that several messages arrive roughly at the same time."
      ]
    },
    {
      "cell_type": "code",
      "metadata": {
        "id": "yIiYoGS82w9g",
        "colab_type": "code",
        "colab": {}
      },
      "source": [
        "#method hashtable\n",
        "class Logger(object):\n",
        "\n",
        "    def __init__(self):\n",
        "        \"\"\"\n",
        "        Initialize your data structure here.\n",
        "        \"\"\"\n",
        "        self._msg_dict = {}\n",
        "    \n",
        "    def shouldPrintMessage(self, timestamp, message):\n",
        "        \"\"\"\n",
        "        Returns true if the message should be printed in the given timestamp, otherwise returns false.\n",
        "        \"\"\"\n",
        "        if message not in self._msg_dict:\n",
        "            # case 1). add the message to print\n",
        "            self._msg_dict[message] = timestamp\n",
        "            return True\n",
        "\n",
        "        if timestamp - self._msg_dict[message] >= 10:\n",
        "            # case 2). update the timestamp of the message\n",
        "            self._msg_dict[message] = timestamp\n",
        "            return True\n",
        "        else:\n",
        "            return False\n",
        "##queue + set\n",
        "from collections import deque\n",
        "\n",
        "class Logger(object):\n",
        "\n",
        "    def __init__(self):\n",
        "        \"\"\"\n",
        "        Initialize your data structure here.\n",
        "        \"\"\"\n",
        "        self._msg_set = set()\n",
        "        self._msg_queue = deque()\n",
        "    \n",
        "    def shouldPrintMessage(self, timestamp, message):\n",
        "        \"\"\"\n",
        "        Returns true if the message should be printed in the given timestamp, otherwise returns false.\n",
        "        \"\"\"\n",
        "        while self._msg_queue:\n",
        "            msg, ts = self._msg_queue[0]\n",
        "            if timestamp - ts >= 10:\n",
        "                self._msg_queue.popleft()\n",
        "                self._msg_set.remove(msg)\n",
        "            else:\n",
        "                break\n",
        "        if message not in self._msg_set:\n",
        "            self._msg_set.add(message)\n",
        "            self._msg_queue.append((message, timestamp))\n",
        "            return True\n",
        "        else:\n",
        "            return False"
      ],
      "execution_count": 0,
      "outputs": []
    },
    {
      "cell_type": "markdown",
      "metadata": {
        "id": "ZsFBox_r3AQM",
        "colab_type": "text"
      },
      "source": [
        "**356. Line Reflection**\n",
        "\n",
        "Given n points on a 2D plane, find if there is such a line parallel to y-axis that reflect the given points.\n",
        "\n",
        "Example 1:\n",
        "\n",
        "Input: [[1,1],[-1,1]]\n",
        "Output: true"
      ]
    },
    {
      "cell_type": "code",
      "metadata": {
        "id": "KDVPMqdk3Ye9",
        "colab_type": "code",
        "colab": {}
      },
      "source": [
        "Problem description should read as following:\n",
        "Given n points on a 2D plane, find if there is a single line L parallel to y-axis such that the reflection of every point amongst the input points, is also within points.\n",
        "In other words, see if every point in points can find its mirrored point with respect to L in points.\n",
        "Note: one point can be the mirrored point of multiple overlapped points.\n",
        "Note: when the points is empty, return true. Very weird, but this is the expected answer of the OJ..\n",
        "Note: any point on L is self-mirrored.\n",
        "\n",
        "Optimal solution:\n",
        "Running time: O(n)\n",
        "Space: O(n)\n",
        "\n",
        "class Solution:\n",
        "    def isReflected(self, points):\n",
        "        if not points: return True # very weird, but this is the expected answer of the OJ...\n",
        "        points = set([ tuple(p) for p in points])\n",
        "        mid = (min(x for x,y in points) + max(x for x,y in points))/2\n",
        "        \n",
        "        for x, y in points:\n",
        "            mirror_x = mid + (mid-x)\n",
        "            if (mirror_x, y) not in points: return False\n",
        "        \n",
        "        return True"
      ],
      "execution_count": 0,
      "outputs": []
    },
    {
      "cell_type": "markdown",
      "metadata": {
        "id": "2cKd8IiB3Zxo",
        "colab_type": "text"
      },
      "source": [
        "**333. Largest BST Subtree**\n",
        "\n",
        "Given a binary tree, find the largest subtree which is a Binary Search Tree (BST), where largest means subtree with largest number of nodes in it.\n",
        "\n",
        "Note:A subtree must include all of its descendants."
      ]
    },
    {
      "cell_type": "code",
      "metadata": {
        "id": "Pj1HTK7w3qI1",
        "colab_type": "code",
        "colab": {}
      },
      "source": [
        "def largestBSTSubtree(self, root):\n",
        "    def dfs(root):\n",
        "        if not root:\n",
        "            return 0, 0, float('inf'), float('-inf')\n",
        "        N1, n1, min1, max1 = dfs(root.left)\n",
        "        N2, n2, min2, max2 = dfs(root.right)\n",
        "        n = n1 + 1 + n2 if max1 < root.val < min2 else float('-inf')\n",
        "        return max(N1, N2, n), n, min(min1, root.val), max(max2, root.val)\n",
        "    return dfs(root)[0]\n",
        "\n",
        "# easier to understand\n",
        "class SubTree(object):\n",
        "    def __init__(self, largest, n, min, max):\n",
        "        self.largest = largest  # largest BST\n",
        "        self.n = n              # number of nodes in this ST\n",
        "        self.min = min          # min val in this ST\n",
        "        self.max = max          # max val in this ST\n",
        "\n",
        "class Solution(object):\n",
        "    def largestBSTSubtree(self, root):\n",
        "        res = self.dfs(root)\n",
        "        return res.largest\n",
        "    \n",
        "    def dfs(self, root):\n",
        "        if not root:\n",
        "            return SubTree(0, 0, float('inf'), float('-inf'))\n",
        "        left = self.dfs(root.left)\n",
        "        right = self.dfs(root.right)\n",
        "        \n",
        "        if root.val > left.max and root.val < right.min:  # valid BST\n",
        "            n = left.n + right.n + 1\n",
        "        else:\n",
        "            n = float('-inf')\n",
        "            \n",
        "        largest = max(left.largest, right.largest, n)\n",
        "        return SubTree(largest, n, min(left.min, root.val), max(right.max, root.val))"
      ],
      "execution_count": 0,
      "outputs": []
    },
    {
      "cell_type": "markdown",
      "metadata": {
        "id": "Kx2MAMy5388D",
        "colab_type": "text"
      },
      "source": [
        "**582. Kill Process**\n",
        "\n",
        "Given n processes, each process has a unique PID (process id) and its PPID (parent process id).\n",
        "\n",
        "Each process only has one parent process, but may have one or more children processes. This is just like a tree structure. Only one process has PPID that is 0, which means this process has no parent process. All the PIDs will be distinct positive integers.\n",
        "\n",
        "We use two list of integers to represent a list of processes, where the first list contains PID for each process and the second list contains the corresponding PPID.\n",
        "\n",
        "Now given the two lists, and a PID representing a process you want to kill, return a list of PIDs of processes that will be killed in the end. You should assume that when a process is killed, all its children processes will be killed. No order is required for the final answer."
      ]
    },
    {
      "cell_type": "code",
      "metadata": {
        "id": "Vuk-UpQj4Jro",
        "colab_type": "code",
        "colab": {}
      },
      "source": [
        "##bfs\n",
        "def killProcess(self, pid, ppid, kill):\n",
        "        d = collections.defaultdict(list)\n",
        "        for c, p in zip(pid, ppid): d[p].append(c)\n",
        "        bfs = [kill]\n",
        "        for i in bfs: bfs.extend(d.get(i, []))\n",
        "        return bfs\n",
        "queue: 863 ms\n",
        "\n",
        "class Solution(object):\n",
        "    def killProcess(self, pid, ppid, kill):\n",
        "        \"\"\"\n",
        "        :type pid: List[int]\n",
        "        :type ppid: List[int]\n",
        "        :type kill: int\n",
        "        :rtype: List[int]\n",
        "        \"\"\"\n",
        "        myTree = dict()\n",
        "        for i, parent in enumerate(ppid):\n",
        "            myTree[parent] = myTree.get(parent, [])\n",
        "            myTree[parent].append(pid[i])\n",
        "        queue = [kill]\n",
        "        res = []\n",
        "        while queue:\n",
        "            cur = queue.pop(0)\n",
        "            res.append(cur)\n",
        "            queue.extend(myTree.get(cur, []))\n",
        "        return res\n",
        "stack: 381 ms\n",
        "\n",
        "class Solution(object):\n",
        "    def killProcess(self, pid, ppid, kill):\n",
        "        \"\"\"\n",
        "        :type pid: List[int]\n",
        "        :type ppid: List[int]\n",
        "        :type kill: int\n",
        "        :rtype: List[int]\n",
        "        \"\"\"\n",
        "        myTree = dict()\n",
        "        for i, parent in enumerate(ppid):\n",
        "            myTree[parent] =  myTree.get(parent,[])\n",
        "            myTree[parent].append(pid[i])\n",
        "        \n",
        "        res = []\n",
        "        stack = [kill]\n",
        "        while stack:\n",
        "            cur = stack.pop()\n",
        "            res.append(cur)\n",
        "            stack.extend(myTree.get(cur,[]))\n",
        "            \n",
        "        return res"
      ],
      "execution_count": 0,
      "outputs": []
    },
    {
      "cell_type": "markdown",
      "metadata": {
        "id": "99AJO6FC4RUM",
        "colab_type": "text"
      },
      "source": [
        "**683. K Empty Slots**\n",
        "You have N bulbs in a row numbered from 1 to N. Initially, all the bulbs are turned off. We turn on exactly one bulb everyday until all bulbs are on after N days.\n",
        "\n",
        "You are given an array bulbs of length N where bulbs[i] = x means that on the (i+1)th day, we will turn on the bulb at position x where i is 0-indexed and x is 1-indexed.\n",
        "\n",
        "Given an integer K, find out the minimum day number such that there exists two turned on bulbs that have exactly K bulbs between them that are all turned off.\n",
        "\n",
        "If there isn't such day, return -1."
      ]
    },
    {
      "cell_type": "code",
      "metadata": {
        "id": "g24YYNko4aIV",
        "colab_type": "code",
        "colab": {}
      },
      "source": [
        "def kEmptySlots(self, flowers, k):\n",
        "        \"\"\"\n",
        "        :type flowers: List[int]\n",
        "        :type k: int\n",
        "        :rtype: int\n",
        "        \"\"\"\n",
        "        tree = [0]*(len(flowers)+1)\n",
        "        maxVal = len(flowers)\n",
        "        def update(idx,val):\n",
        "            while idx <= maxVal:\n",
        "                tree[idx] += val\n",
        "                idx += (idx & -idx)\n",
        "        def read(idx):\n",
        "            sum = 0\n",
        "            while idx > 0:\n",
        "                sum += tree[idx]\n",
        "                idx -= (idx&-idx)\n",
        "            return sum\n",
        "        d = dict()\n",
        "        for i,v in enumerate(flowers):\n",
        "            update(v,1)\n",
        "            if v - k - 1 in d:\n",
        "                if read(v)-read(v-k-1) == 1:\n",
        "                    return i+1\n",
        "            if v + k + 1 in d:\n",
        "                if read(v+k+1) - read(v) == 1:\n",
        "                    return i+1\n",
        "            d[v] = True\n",
        "        return -1"
      ],
      "execution_count": 0,
      "outputs": []
    },
    {
      "cell_type": "markdown",
      "metadata": {
        "id": "HLGmQtjo4jPE",
        "colab_type": "text"
      },
      "source": [
        "**708. Insert into a Sorted Circular Linked List**\n",
        "\n",
        "Given a node from a Circular Linked List which is sorted in ascending order, write a function to insert a value insertVal into the list such that it remains a sorted circular list. The given node can be a reference to any single node in the list, and may not be necessarily the smallest value in the circular list.\n",
        "\n",
        "If there are multiple suitable places for insertion, you may choose any place to insert the new value. After the insertion, the circular list should remain sorted.\n",
        "\n",
        "If the list is empty (i.e., given node is null), you should create a new single circular list and return the reference to that single node. Otherwise, you should return the original given node."
      ]
    },
    {
      "cell_type": "code",
      "metadata": {
        "id": "EbpIoqct4jkG",
        "colab_type": "code",
        "colab": {}
      },
      "source": [
        "Find insert position, only 2 cases\n",
        "1st: prev.val <= x<=cur.val\n",
        "2nd: x is the max value or min value in the new list, here when prev.val > cur.val, then prev is max, cur is min in the origin list. 1-2-3-4-5-1, prev is 5, cur is 1,\n",
        "\n",
        "class Solution:\n",
        "    def insert(self, head, val):\n",
        "        \"\"\"\n",
        "        :type head: Node\n",
        "        :type insertVal: int\n",
        "        :rtype: Node\n",
        "        \"\"\"\n",
        "        node = Node(val, head)\n",
        "        if not head:\n",
        "            return node \n",
        "        prev, cur = head, head.next\n",
        "        while 1:\n",
        "            if prev.val <= val <= cur.val:\n",
        "                break\n",
        "            elif prev.val > cur.val and (val<cur.val or val>prev.val):\n",
        "                break\n",
        "            prev, cur = prev.next, cur.next\n",
        "            if prev == head:\n",
        "                break \n",
        "        prev.next = node\n",
        "        node.next = cur \n",
        "        return head"
      ],
      "execution_count": 0,
      "outputs": []
    },
    {
      "cell_type": "markdown",
      "metadata": {
        "id": "I6INA40e4_13",
        "colab_type": "text"
      },
      "source": [
        "**510. Inorder Successor in BST II**\n",
        "\n",
        "Given a binary search tree and a node in it, find the in-order successor of that node in the BST.\n",
        "\n",
        "The successor of a node p is the node with the smallest key greater than p.val.\n",
        "\n",
        "You will have direct access to the node but not to the root of the tree. Each node will have a reference to its parent node."
      ]
    },
    {
      "cell_type": "code",
      "metadata": {
        "id": "ZfO3N3Ua5HHg",
        "colab_type": "code",
        "colab": {}
      },
      "source": [
        "class Solution:\n",
        "    def inorderSuccessor(self, node: 'Node') -> 'Node':\n",
        "        # the successor is somewhere lower in the right subtree\n",
        "        if node.right:\n",
        "            node = node.right\n",
        "            while node.left:\n",
        "                node = node.left\n",
        "            return node\n",
        "        \n",
        "        # the successor is somewhere upper in the tree\n",
        "        while node.parent and node == node.parent.right:\n",
        "            node = node.parent\n",
        "        return node.parent\n",
        "# method 2\n",
        "class Solution(object):\n",
        "    def inorderSuccessor(self, node):\n",
        "        \"\"\"\n",
        "        :type node: Node\n",
        "        :rtype: Node\n",
        "        \"\"\"\n",
        "        def findRightChildSucc(n):\n",
        "            n=n.right\n",
        "            while n.left:\n",
        "                n=n.left\n",
        "            return n\n",
        "        \n",
        "        def findNoRightChildSucc(n):\n",
        "            if n.parent and n.parent.val>n.val:\n",
        "                return n.parent\n",
        "            else:\n",
        "                while n.parent and n.parent.val<node.val:\n",
        "                    n=n.parent\n",
        "                if n.parent:\n",
        "                    return n.parent\n",
        "                return None\n",
        "        \n",
        "        if node.right is not None:\n",
        "            return findRightChildSucc(node)\n",
        "        return findNoRightChildSucc(node)"
      ],
      "execution_count": 0,
      "outputs": []
    },
    {
      "cell_type": "markdown",
      "metadata": {
        "id": "GMHyz8Hr5V30",
        "colab_type": "text"
      },
      "source": [
        "**285. Inorder Successor in BST**\n",
        "\n",
        "Given a binary search tree and a node in it, find the in-order successor of that node in the BST.\n",
        "\n",
        "The successor of a node p is the node with the smallest key greater than p.val.\n",
        "\n",
        " eg:Input: root = [2,1,3], p = 1\n",
        "Output: 2\n",
        "Explanation: 1's in-order successor node is 2. Note that both p and the return value is of TreeNode type."
      ]
    },
    {
      "cell_type": "code",
      "metadata": {
        "id": "Rk5yyrHs5g8y",
        "colab_type": "code",
        "colab": {}
      },
      "source": [
        "class Solution:\n",
        "    def inorderSuccessor(self, root: 'TreeNode', p: 'TreeNode') -> 'TreeNode':\n",
        "        # the successor is somewhere lower in the right subtree\n",
        "        # successor: one step right and then left till you can\n",
        "        if p.right:\n",
        "            p = p.right\n",
        "            while p.left:\n",
        "                p = p.left\n",
        "            return p\n",
        "        \n",
        "        # the successor is somewhere upper in the tree\n",
        "        stack, inorder = [], float('-inf')\n",
        "        \n",
        "        # inorder traversal : left -> node -> right\n",
        "        while stack or root:\n",
        "            # 1. go left till you can\n",
        "            while root:\n",
        "                stack.append(root)\n",
        "                root = root.left\n",
        "                \n",
        "            # 2. all logic around the node\n",
        "            root = stack.pop()\n",
        "            if inorder == p.val:    # if the previous node was equal to p\n",
        "                return root         # then the current node is its successor\n",
        "            inorder = root.val\n",
        "            \n",
        "            # 3. go one step right\n",
        "            root = root.right\n",
        "       return None\n",
        "\n",
        "\n",
        "## iterative m2:\n",
        "def inorderSuccessor(self, root, p):\n",
        "    succ = None\n",
        "    while root:\n",
        "        if p.val < root.val:\n",
        "            succ = root\n",
        "            root = root.left\n",
        "        else:\n",
        "            root = root.right\n",
        "    return succ\n",
        "\n",
        "# 29 / 29 test cases passed.\n",
        "# Status: Accepted\n",
        "# Runtime: 112 ms"
      ],
      "execution_count": 0,
      "outputs": []
    },
    {
      "cell_type": "markdown",
      "metadata": {
        "id": "7CtrTNdd5u6f",
        "colab_type": "text"
      },
      "source": [
        "**751. IP to CIDR**\n",
        "\n",
        "Given a start IP address ip and a number of ips we need to cover n, return a representation of the range as a list (of smallest possible length) of CIDR blocks.\n",
        "\n",
        "A CIDR block is a string consisting of an IP, followed by a slash, and then the prefix length. For example: \"123.45.67.89/20\". That prefix length \"20\" represents the number of common prefix bits in the specified range."
      ]
    },
    {
      "cell_type": "code",
      "metadata": {
        "id": "4MwXZS3v57aF",
        "colab_type": "code",
        "colab": {}
      },
      "source": [
        "class Solution:\n",
        "    def ipToCIDR(self, ip: str, n: int) -> List[str]:\n",
        "        s, res = ''.join(bin(int(num))[2:].zfill(8) for num in ip.split('.')), []\n",
        "        while n:\n",
        "            for i in range(31 - s.rindex('1'), -1, -1):\n",
        "                if 2 ** i <= n:\n",
        "                    res.append('.'.join(str(int(s[i:i + 8], 2)) for i in range(0, 32, 8)) + '/' + str(32 - i))\n",
        "                    n -= 2 ** i\n",
        "                    s = bin(int(s, 2) + 2 ** i)[2:].zfill(32)\n",
        "                    break\n",
        "        return res"
      ],
      "execution_count": 0,
      "outputs": []
    },
    {
      "cell_type": "markdown",
      "metadata": {
        "id": "08suSp2f57C2",
        "colab_type": "text"
      },
      "source": [
        "**249. Group Shifted Strings**\n",
        "\n",
        "Given a string, we can \"shift\" each of its letter to its successive letter, for example: \"abc\" -> \"bcd\". We can keep \"shifting\" which forms the sequence:\n",
        "\n",
        "\"abc\" -> \"bcd\" -> ... -> \"xyz\"\n",
        "Given a list of strings which contains only lowercase alphabets, group all strings that belong to the same shifting sequence."
      ]
    },
    {
      "cell_type": "code",
      "metadata": {
        "id": "xAyqyBpc6QY8",
        "colab_type": "code",
        "colab": {}
      },
      "source": [
        "The idea is the same to most of the provided solution, but this is a short and easy to read version.\n",
        "I used dictionary, with the key = a string representing the difference between every letter %26 (because there might be 'az' and 'ba')\n",
        "the value = list of grouped strings\n",
        "I initialize the dictionary using defaultdict(list)\n",
        "\n",
        "\n",
        "import collections\n",
        "class Solution(object):\n",
        "    def groupStrings(self, strings):\n",
        "        \"\"\"\n",
        "        :type strings: List[str]\n",
        "        :rtype: List[List[str]]\n",
        "        \"\"\"\n",
        "        d= collections.defaultdict(list)\n",
        "        for s in strings:\n",
        "            k = []\n",
        "            for i in range(len(s)-1):\n",
        "                k.append(str((ord(s[i+1])-ord(s[i]))%26))\n",
        "            k = ''.join(k)\n",
        "            d[k].append(s)\n",
        "        return [d[key] for key in d.keys()]"
      ],
      "execution_count": 0,
      "outputs": []
    },
    {
      "cell_type": "markdown",
      "metadata": {
        "id": "djrSf6dR6M2p",
        "colab_type": "text"
      },
      "source": [
        "**261. Graph Valid Tree**\n",
        "\n",
        "Given n nodes labeled from 0 to n-1 and a list of undirected edges (each edge is a pair of nodes), write a function to check whether these edges make up a valid tree.\n",
        "\n",
        "Example 1:\n",
        "\n",
        "Input: n = 5, and edges = [[0,1], [0,2], [0,3], [1,4]]\n",
        "Output: true"
      ]
    },
    {
      "cell_type": "code",
      "metadata": {
        "id": "yy2rxjR-6Q5Z",
        "colab_type": "code",
        "colab": {}
      },
      "source": [
        "#dfs\n",
        "def validTree(self, n, edges):\n",
        "    neighbors = {i: [] for i in range(n)}\n",
        "    for v, w in edges:\n",
        "        neighbors[v] += w,\n",
        "        neighbors[w] += v,\n",
        "    def visit(v):\n",
        "        map(visit, neighbors.pop(v, []))\n",
        "    visit(0)\n",
        "    return len(edges) == n-1 and not neighbors"
      ],
      "execution_count": 0,
      "outputs": []
    },
    {
      "cell_type": "markdown",
      "metadata": {
        "id": "mOaD3KmV67qy",
        "colab_type": "text"
      },
      "source": [
        "**320. Generalized Abbreviation**\n",
        "\n",
        "Write a function to generate the generalized abbreviations of a word. \n",
        "\n",
        "Note: The order of the output does not matter.\n",
        "\n",
        "Example:\n",
        "\n",
        "Input: \"word\"\n",
        "Output:\n",
        "[\"word\", \"1ord\", \"w1rd\", \"wo1d\", \"wor1\", \"2rd\", \"w2d\", \"wo2\", \"1o1d\", \"1or1\", \"w1r1\", \"1o2\", \"2r1\", \"3d\", \"w3\", \"4\"]"
      ]
    },
    {
      "cell_type": "code",
      "metadata": {
        "id": "Ewo44hc17KCE",
        "colab_type": "code",
        "colab": {}
      },
      "source": [
        "\n",
        "myliu's avatar\n",
        "myliu\n",
        "353\n",
        "Last Edit: August 25, 2018 6:42 PM\n",
        "\n",
        "2.4K VIEWS\n",
        "\n",
        "class Solution(object):\n",
        "    def generateAbbreviations(self, word):\n",
        "        \"\"\"\n",
        "        :type word: str\n",
        "        :rtype: List[str]\n",
        "        \"\"\"\n",
        "        def helper(word, pos, cur, count, result):\n",
        "            if len(word) == pos:\n",
        "                # Once we reach the end, append current to the result\n",
        "                result.append(cur + str(count) if count > 0 else cur)\n",
        "            else:\n",
        "                # Skip current position, and increment count\n",
        "                helper(word, pos + 1, cur, count + 1, result)\n",
        "                # Include current position, and zero-out count\n",
        "                helper(word, pos + 1, cur + (str(count) if count > 0 else '') + word[pos], 0, result)\n",
        "\n",
        "        result = []\n",
        "        helper(word, 0, '', 0, result)\n",
        "        return result"
      ],
      "execution_count": 0,
      "outputs": []
    },
    {
      "cell_type": "markdown",
      "metadata": {
        "id": "PRuULHny7Kss",
        "colab_type": "text"
      },
      "source": [
        "**293. Flip Game**\n",
        "\n",
        "You are playing the following Flip Game with your friend: Given a string that contains only these two characters: + and -, you and your friend take turns to flip two consecutive \"++\" into \"--\". The game ends when a person can no longer make a move and therefore the other person will be the winner.\n",
        "\n",
        "Write a function to compute all possible states of the string after one valid move."
      ]
    },
    {
      "cell_type": "code",
      "metadata": {
        "id": "sOL3fhOb7MEi",
        "colab_type": "code",
        "colab": {}
      },
      "source": [
        "def generatePossibleNextMoves(self, s):\n",
        "    return [s[:i] + \"--\" + s[i + 2:] for i in xrange(len(s) - 1) if s[i:i + 2] == '++']"
      ],
      "execution_count": 0,
      "outputs": []
    },
    {
      "cell_type": "markdown",
      "metadata": {
        "id": "HzIMde0H7Mf7",
        "colab_type": "text"
      },
      "source": [
        "**294. Flip Game II**\n",
        "\n",
        "You are playing the following Flip Game with your friend: Given a string that contains only these two characters: + and -, you and your friend take turns to flip two consecutive \"++\" into \"--\". The game ends when a person can no longer make a move and therefore the other person will be the winner.\n",
        "\n",
        "Write a function to determine if the starting player can guarantee a win."
      ]
    },
    {
      "cell_type": "code",
      "metadata": {
        "id": "U19JR99m7V0K",
        "colab_type": "code",
        "colab": {}
      },
      "source": [
        "class Solution(object):\n",
        "    def canWin(self, s):\n",
        "        memo = {}\n",
        "        def can(piles):\n",
        "            piles = tuple(sorted(p for p in piles if p >= 2))\n",
        "            if piles not in memo:\n",
        "                memo[piles] = any(not can(piles[:i] + (j, pile-2-j) + piles[i+1:])\n",
        "                                  for i, pile in enumerate(piles)\n",
        "                                  for j in range(pile - 1))\n",
        "            return memo[piles]\n",
        "        return can(map(len, re.findall(r'\\+\\++', s)))"
      ],
      "execution_count": 0,
      "outputs": []
    },
    {
      "cell_type": "markdown",
      "metadata": {
        "id": "GpVK8bDr7gfE",
        "colab_type": "text"
      },
      "source": [
        "**251. Flatten 2D Vector**\n",
        "\n",
        "Design and implement an iterator to flatten a 2d vector. It should support the following operations: next and hasNext."
      ]
    },
    {
      "cell_type": "code",
      "metadata": {
        "id": "OQs0Fegp7qRW",
        "colab_type": "code",
        "colab": {}
      },
      "source": [
        "class Vector2D(object):\n",
        "\n",
        "    def __init__(self, a):\n",
        "        def it():\n",
        "            for line in a:\n",
        "                for val in line:\n",
        "                    self.size -= 1\n",
        "                    yield val   \n",
        "\t\t\t\t\t\t\t\t\t\t\n",
        "        self.it = it()\n",
        "        self.size = sum(len(line) for line in a)\n",
        "\n",
        "    def next(self):\n",
        "        return next(self.it)\n",
        "\n",
        "    def hasNext(self):\n",
        "        return self.size"
      ],
      "execution_count": 0,
      "outputs": []
    },
    {
      "cell_type": "markdown",
      "metadata": {
        "id": "bWqG53_07qwz",
        "colab_type": "text"
      },
      "source": [
        "**277. Find the Celebrity**\n",
        "\n",
        "Suppose you are at a party with n people (labeled from 0 to n - 1) and among them, there may exist one celebrity. The definition of a celebrity is that all the other n - 1 people know him/her but he/she does not know any of them.\n",
        "\n",
        "Now you want to find out who the celebrity is or verify that there is not one. The only thing you are allowed to do is to ask questions like: \"Hi, A. Do you know B?\" to get information of whether A knows B. You need to find out the celebrity (or verify there is not one) by asking as few questions as possible (in the asymptotic sense).\n",
        "\n",
        "You are given a helper function bool knows(a, b) which tells you whether A knows B. Implement a function int findCelebrity(n). There will be exactly one celebrity if he/she is in the party. Return the celebrity's label if there is a celebrity in the party. If there is no celebrity, return -1.\n",
        "\n",
        " "
      ]
    },
    {
      "cell_type": "code",
      "metadata": {
        "id": "2DiqThP677Zj",
        "colab_type": "code",
        "colab": {}
      },
      "source": [
        "def findCelebrity(self, n):\n",
        "    x = 0\n",
        "    for i in xrange(n):\n",
        "        if knows(x, i):\n",
        "            x = i\n",
        "    if any(knows(x, i) for i in xrange(x)):\n",
        "        return -1\n",
        "    if any(not knows(i, x) for i in xrange(n)):\n",
        "        return -1\n",
        "    return x\n",
        "\n",
        "    \n",
        "## basic 2-pointer\n",
        "def findCelebrity(self, n):\n",
        "\t\"\"\"\n",
        "\t:type n: int\n",
        "\t:rtype: int\n",
        "\t\"\"\"\n",
        "\t# first, find the candidate for celebrity\n",
        "\t# left and right must meet at some point, this person is a potential celebrity\n",
        "\tleft, right = 0, n - 1\n",
        "\twhile left < right:\n",
        "\t\tif knows(left, right):\n",
        "\t\t\tleft += 1\n",
        "\t\telse:\n",
        "\t\t\tright -= 1\n",
        "\n",
        "\t# next verify if the candidate is indeed a celebrity\n",
        "\t# case 1: at least one person doesn't know this candidate => not a celebrity\n",
        "\tfor i in range(n):\n",
        "\t\tif not knows(i, left) and i != left:\n",
        "\t\t\treturn -1\n",
        "\t# case2: candidate knows at least one person => not a celebrity\n",
        "\tfor i in range(n):\n",
        "\t\tif knows(left, i) and i != left:\n",
        "\t\t\treturn -1\n",
        "\n",
        "\treturn left"
      ],
      "execution_count": 0,
      "outputs": []
    },
    {
      "cell_type": "markdown",
      "metadata": {
        "id": "ABWRUWYK8Jjs",
        "colab_type": "text"
      },
      "source": [
        "**484. Find Permutation**\n",
        "\n",
        "By now, you are given a secret signature consisting of character 'D' and 'I'. 'D' represents a decreasing relationship between two numbers, 'I' represents an increasing relationship between two numbers. And our secret signature was constructed by a special integer array, which contains uniquely all the different number from 1 to n (n is the length of the secret signature plus 1). For example, the secret signature \"DI\" can be constructed by array [2,1,3] or [3,1,2], but won't be constructed by array [3,2,4] or [2,1,3,4], which are both illegal constructing special string that can't represent the \"DI\" secret signature.\n",
        "\n",
        "On the other hand, now your job is to find the lexicographically smallest permutation of [1, 2, ... n] could refer to the given secret signature in the input."
      ]
    },
    {
      "cell_type": "code",
      "metadata": {
        "id": "ZzisUcGe8QMd",
        "colab_type": "code",
        "colab": {}
      },
      "source": [
        "I have used a greedy algorithm:\n",
        "\n",
        "Loop on the input and insert a decreasing numbers when see a 'I'\n",
        "Insert a decreasing numbers to complete the result.\n",
        "Simple example:\n",
        "Input: \"DIDDID\"\n",
        "0 []\n",
        "1 [2, 1]\n",
        "2 [2, 1]\n",
        "3 [2, 1]\n",
        "4 [2, 1, 5, 4, 3]\n",
        "5 [2, 1, 5, 4, 3]\n",
        "[2, 1, 5, 4, 3, 7, 6]\n",
        "\n",
        "Then, output is [2, 1, 5, 4, 3, 7, 6]\n",
        "\n",
        "def findPermutation(self, s):\n",
        "    ret = []\n",
        "    for i in range(len(s)):\n",
        "      if s[i] == 'I':\n",
        "        ret.extend(range(i + 1, len(ret), -1))\n",
        "    ret.extend(range(len(s) + 1, len(ret), -1))\n",
        "    return ret"
      ],
      "execution_count": 0,
      "outputs": []
    },
    {
      "cell_type": "markdown",
      "metadata": {
        "id": "Gal3coDl8gOT",
        "colab_type": "text"
      },
      "source": [
        "**366. Find Leaves of Binary Tree**\n",
        "\n",
        "Given a binary tree, collect a tree's nodes as if you were doing this: Collect and remove all leaves, repeat until the tree is empty."
      ]
    },
    {
      "cell_type": "code",
      "metadata": {
        "id": "50EtX9O58udA",
        "colab_type": "code",
        "colab": {}
      },
      "source": [
        "Thought process\n",
        "post-order traversal, since we would like to add leaf nodes in subtrees first\n",
        "after processing for both subtrees, we know that the current node is a leaf now\n",
        "we add it to the result list\n",
        "we use a level variable to denote which sublist (index) it should be in the res list\n",
        "level is 0 for original leaf nodes\n",
        "level will be 1 + the maximum level of the children of the current node\n",
        "when there is not enough sublists in res list, we simply add enough empty lists to it\n",
        "    def findLeaves(self, root: TreeNode) -> List[List[int]]:\n",
        "        if root is None:\n",
        "            return []\n",
        "        res = []\n",
        "        def dfs(root):\n",
        "            level = 0\n",
        "            if root.left:\n",
        "                level = max(level, 1 + dfs(root.left))\n",
        "            if root.right:\n",
        "                level = max(level, 1 + dfs(root.right))\n",
        "            for _ in range(level-len(res)+1):\n",
        "                res.append([])\n",
        "            res[level].append(root.val)\n",
        "            return level\n",
        "        dfs(root)\n",
        "        return res"
      ],
      "execution_count": 0,
      "outputs": []
    },
    {
      "cell_type": "markdown",
      "metadata": {
        "id": "3Sysbqq68yr4",
        "colab_type": "text"
      },
      "source": [
        "**760. Find Anagram Mappings**\n",
        "\n",
        "Given two lists Aand B, and B is an anagram of A. B is an anagram of A means B is made by randomizing the order of the elements in A.\n",
        "\n",
        "We want to find an index mapping P, from A to B. A mapping P[i] = j means the ith element in A appears in B at index j.\n",
        "\n",
        "These lists A and B may contain duplicates. If there are multiple answers, output any of them."
      ]
    },
    {
      "cell_type": "code",
      "metadata": {
        "id": "_VPnubpR87lo",
        "colab_type": "code",
        "colab": {}
      },
      "source": [
        "def anagramMappings(self, A, B):\n",
        "        d = {}\n",
        "        for i, b in enumerate(B):\n",
        "            if b not in d:\n",
        "                d[b] = []\n",
        "            d[b].append(i)\n",
        "        return [d[a].pop() for a in A]"
      ],
      "execution_count": 0,
      "outputs": []
    },
    {
      "cell_type": "markdown",
      "metadata": {
        "id": "hz5rrew49EcD",
        "colab_type": "text"
      },
      "source": [
        "**271. Encode and Decode Strings**\n",
        "\n",
        "Design an algorithm to encode a list of strings to a string. The encoded string is then sent over the network and is decoded back to the original list of strings."
      ]
    },
    {
      "cell_type": "code",
      "metadata": {
        "id": "_OXqbarK9KNr",
        "colab_type": "code",
        "colab": {}
      },
      "source": [
        "class Codec:\n",
        "\n",
        "    def encode(self, strs):\n",
        "        return ''.join('%d:' % len(s) + s for s in strs)\n",
        "\n",
        "    def decode(self, s):\n",
        "        strs = []\n",
        "        i = 0\n",
        "        while i < len(s):\n",
        "            j = s.find(':', i)\n",
        "            i = j + 1 + int(s[i:j])\n",
        "            strs.append(s[j+1:i])\n",
        "        return strs"
      ],
      "execution_count": 0,
      "outputs": []
    },
    {
      "cell_type": "markdown",
      "metadata": {
        "id": "oU9oNp4J9KdM",
        "colab_type": "text"
      },
      "source": [
        "**254. Factor Combinations**\n",
        "\n",
        "Numbers can be regarded as product of its factors. For example,\n",
        "\n",
        "8 = 2 x 2 x 2;\n",
        "  = 2 x 4.\n",
        "Write a function that takes an integer n and return all possible combinations of its factors."
      ]
    },
    {
      "cell_type": "code",
      "metadata": {
        "id": "vk4TmkPg9Sb9",
        "colab_type": "code",
        "colab": {}
      },
      "source": [
        "Iterative:\n",
        "\n",
        "def getFactors(self, n):\n",
        "    todo, combis = [(n, 2, [])], []\n",
        "    while todo:\n",
        "        n, i, combi = todo.pop()\n",
        "        while i * i <= n:\n",
        "            if n % i == 0:\n",
        "                combis += combi + [i, n/i],\n",
        "                todo += (n/i, i, combi+[i]),\n",
        "            i += 1\n",
        "    return combis\n",
        "Recursive:\n",
        "\n",
        "def getFactors(self, n):\n",
        "    def factor(n, i, combi, combis):\n",
        "        while i * i <= n:\n",
        "            if n % i == 0:\n",
        "                combis += combi + [i, n/i],\n",
        "                factor(n/i, i, combi+[i], combis)\n",
        "            i += 1\n",
        "        return combis\n",
        "    return factor(n, 2, [], [])"
      ],
      "execution_count": 0,
      "outputs": []
    },
    {
      "cell_type": "markdown",
      "metadata": {
        "id": "CqDJTepS9ay3",
        "colab_type": "text"
      },
      "source": [
        "**471. Encode String with Shortest Length**\n",
        "\n",
        "Given a non-empty string, encode the string such that its encoded length is the shortest.\n",
        "\n",
        "The encoding rule is: k[encoded_string], where the encoded_string inside the square brackets is being repeated exactly k times."
      ]
    },
    {
      "cell_type": "code",
      "metadata": {
        "id": "NtoczBQY9oRz",
        "colab_type": "code",
        "colab": {}
      },
      "source": [
        "def encode(self, s, memo={}):\n",
        "    if s not in memo:\n",
        "        n = len(s)\n",
        "        i = (s + s).find(s, 1)\n",
        "        one = '%d[%s]' % (n / i, self.encode(s[:i])) if i < n else s\n",
        "        multi = [self.encode(s[:i]) + self.encode(s[i:]) for i in xrange(1, n)]\n",
        "        memo[s] = min([s, one] + multi, key=len)\n",
        "    return memo[s]\n"
      ],
      "execution_count": 0,
      "outputs": []
    },
    {
      "cell_type": "markdown",
      "metadata": {
        "id": "X630cQ4H9nw8",
        "colab_type": "text"
      },
      "source": [
        "**759. Employee Free Time**\n",
        "\n",
        "We are given a list schedule of employees, which represents the working time for each employee.\n",
        "\n",
        "Each employee has a list of non-overlapping Intervals, and these intervals are in sorted order.\n",
        "\n",
        "Return the list of finite intervals representing common, positive-length free time for all employees, also in sorted order.\n",
        "\n",
        "(Even though we are representing Intervals in the form [x, y], the objects inside are Intervals, not lists or arrays. For example, schedule[0][0].start = 1, schedule[0][0].end = 2, and schedule[0][0][0] is not defined).  Also, we wouldn't include intervals like [5, 5] in our answer, as they have zero length."
      ]
    },
    {
      "cell_type": "code",
      "metadata": {
        "id": "YAVSJ87t9z5b",
        "colab_type": "code",
        "colab": {}
      },
      "source": [
        "Key points:\n",
        "\n",
        "recognize that this is very similar to merging intervals (https://leetcode.com/problems/merge-intervals/description/)\n",
        "it doesn't matter which employee an interval belongs to, so just flatten\n",
        "can build result array while merging, don't have to do afterward (and don't need full merged arr)\n",
        "def employeeFreeTime(self, schedule):\n",
        "    ints = sorted([i for s in schedule for i in s], key=lambda x: x.start)\n",
        "    res, pre = [], ints[0]\n",
        "    for i in ints[1:]:\n",
        "        if i.start <= pre.end and i.end > pre.end:\n",
        "            pre.end = i.end\n",
        "        elif i.start > pre.end:\n",
        "            res.append(Interval(pre.end, i.start))\n",
        "            pre = i\n",
        "    return res"
      ],
      "execution_count": 0,
      "outputs": []
    },
    {
      "cell_type": "markdown",
      "metadata": {
        "id": "stKEI-fy99Tr",
        "colab_type": "text"
      },
      "source": [
        "**1231. Divide Chocolate**\n",
        "You have one chocolate bar that consists of some chunks. Each chunk has its own sweetness given by the array sweetness.\n",
        "\n",
        "You want to share the chocolate with your K friends so you start cutting the chocolate bar into K+1 pieces using K cuts, each piece consists of some consecutive chunks.\n",
        "\n",
        "Being generous, you will eat the piece with the minimum total sweetness and give the other pieces to your friends.\n",
        "\n",
        "Find the maximum total sweetness of the piece you can get by cutting the chocolate bar optimally."
      ]
    },
    {
      "cell_type": "code",
      "metadata": {
        "id": "BNoSeLLz-OJm",
        "colab_type": "code",
        "colab": {}
      },
      "source": [
        "#me1:\n",
        "  def maximizeSweetness(self, A, K):\n",
        "        left, right = 1, sum(A) / (K + 1)\n",
        "        while left < right:\n",
        "            mid = (left + right + 1) / 2\n",
        "            cur = cuts = 0\n",
        "            for a in A:\n",
        "                cur += a\n",
        "                if cur >= mid:\n",
        "                    cuts += 1\n",
        "                    cur = 0\n",
        "            if cuts > K:\n",
        "                left = mid\n",
        "            else:\n",
        "                right = mid - 1\n",
        "        return right\n",
        "\n",
        "#me 2\n",
        "class Solution:\n",
        "    def maximizeSweetness(self, sweetness: List[int], K: int) -> int:\n",
        "        \"\"\"\n",
        "        The problem asks us to divide the chocolate in a clever way in order to \n",
        "        maximize the sweetness we can get, since our friends are greedy and \n",
        "        always take the sweetest chunks. In essence, it is asking for the \n",
        "        maximum of the minimum sum of continuous subarrays, since we always get \n",
        "        the least sweet piece, which have the least sweet chunks (minimum sum of \n",
        "        continuous subarray) as compared to our friend's, and we want to find \n",
        "        the maximum we can get among all the dividing strategies. \n",
        "        \"\"\"\n",
        "\n",
        "        def divide(target):\n",
        "            \"\"\"\n",
        "            The function divides the given chocolate into a number of pieces, so \n",
        "            that there must be at least one piece with a total sweetness less \n",
        "            than or equal to the given target\n",
        "            \"\"\"\n",
        "            # total sweetness of current piece and the number of pieces\n",
        "            sum_, count = 0, 0\n",
        "            for l in sweetness:\n",
        "                # add the sweet level to the total\n",
        "                sum_ += l\n",
        "                # if the current piece has a total greater than or equal to the \n",
        "                # given target, make a cut\n",
        "                if sum_ >= target:\n",
        "                    count += 1\n",
        "                    sum_ = 0\n",
        "            return count\n",
        "        \n",
        "        # the desired total sweetness must fall in the range from the minimum \n",
        "        # sweetness to the average sweetness of the (K + 1) pieces - if we are \n",
        "        # dumb enough to cut the least sweet chunk as a piece by itself, its \n",
        "        # total sweetness is the sweet level of that single chunk; if we are \n",
        "        # lucky enough that the sweetness is evenly distributed throughout the \n",
        "        # chocolate bar, we can make even cuts so we have the same amount of \n",
        "        # sweetness with our greedy friends. The real life is somewhere in \n",
        "        # between, and we always hope for the best, so we move towards the \n",
        "        # lucky side as much as we can\n",
        "        lo, hi = min(sweetness), sum(sweetness)//(K + 1)\n",
        "        while lo < hi:\n",
        "            # try a number in the middle tentatively\n",
        "            target = (lo + hi + 1)//2\n",
        "            # if it results in less than K + 1 chunks, some of our friends \n",
        "            # cannot get a piece and may get mad, so we decrease the sweetness \n",
        "            # we get to make our friends happy\n",
        "            if divide(target) < K + 1:\n",
        "                hi = target - 1\n",
        "            # otherwise, we try to increase the sweetness (sneakily) as much as \n",
        "            # we can right before being exposed...\n",
        "            else:\n",
        "                lo = target\n",
        "        # this is the most we can get before being exposed...\n",
        "        return lo"
      ],
      "execution_count": 0,
      "outputs": []
    },
    {
      "cell_type": "markdown",
      "metadata": {
        "id": "woson3OJ-Syr",
        "colab_type": "text"
      },
      "source": [
        "**1121. Divide Array Into Increasing Sequences**\n",
        "\n",
        "Given a non-decreasing array of positive integers nums and an integer K, find out if this array can be divided into one or more disjoint increasing subsequences of length at least K.\n",
        "Example 1:\n",
        "Input: nums = [1,2,2,3,3,4,4], K = 3\n",
        "Output: true\n",
        "Explanation: \n",
        "The array can be divided into the two subsequences [1,2,3,4] and [2,3,4] with lengths at least 3 each."
      ]
    },
    {
      "cell_type": "code",
      "metadata": {
        "id": "ahh0iYYk-cwt",
        "colab_type": "code",
        "colab": {}
      },
      "source": [
        " def canDivideIntoSubsequences(self, A, K):\n",
        "        return len(A) >= K * max(collections.Counter(A).values())\n",
        "\n",
        "#or me2\n",
        "class Solution:\n",
        "    def canDivideIntoSubsequences(self, nums: List[int], K: int) -> bool:\n",
        "        count = collections.Counter(nums)\n",
        "        c = max(count.values())\n",
        "        return K*c <= len(nums)"
      ],
      "execution_count": 0,
      "outputs": []
    },
    {
      "cell_type": "markdown",
      "metadata": {
        "id": "4rwJDsae-cVS",
        "colab_type": "text"
      },
      "source": [
        "**348. Design Tic-Tac-Toe**\n",
        "Design a Tic-tac-toe game that is played between two players on a n x n grid.\n",
        "\n",
        "You may assume the following rules:\n",
        "A move is guaranteed to be valid and is placed on an empty block.\n",
        "Once a winning condition is reached, no more moves is allowed.\n",
        "A player who succeeds in placing n of their marks in a horizontal, vertical, or diagonal row wins the game."
      ]
    },
    {
      "cell_type": "code",
      "metadata": {
        "id": "Id7GySty-qZR",
        "colab_type": "code",
        "colab": {}
      },
      "source": [
        "Record the number of moves for each rows, columns, and two diagonals.\n",
        "For each move, we -1 for each player 1's move and +1 for player 2's move.\n",
        "Then we just need to check whether any of the recored numbers equal to n or -n.\n",
        "\n",
        "class TicTacToe(object):\n",
        "\n",
        "    def __init__(self, n):\n",
        "        self.row, self.col, self.diag, self.anti_diag, self.n = [0] * n, [0] * n, 0, 0, n\n",
        "        \n",
        "    def move(self, row, col, player):\n",
        "        offset = player * 2 - 3\n",
        "        self.row[row] += offset\n",
        "        self.col[col] += offset\n",
        "        if row == col:\n",
        "            self.diag += offset\n",
        "        if row + col == self.n - 1:\n",
        "            self.anti_diag += offset\n",
        "        if self.n in [self.row[row], self.col[col], self.diag, self.anti_diag]:\n",
        "            return 2\n",
        "        if -self.n in [self.row[row], self.col[col], self.diag, self.anti_diag]:\n",
        "            return 1\n",
        "        return 0"
      ],
      "execution_count": 0,
      "outputs": []
    },
    {
      "cell_type": "markdown",
      "metadata": {
        "id": "5OutzZU3-p97",
        "colab_type": "text"
      },
      "source": [
        "625. Minimum Factorization\n",
        "Given a positive integer a, find the smallest positive integer b whose multiplication of each digit equals to a.\n",
        "\n",
        "If there is no answer or the answer is not fit in 32-bit signed integer, then return 0."
      ]
    },
    {
      "cell_type": "code",
      "metadata": {
        "id": "WGnRHvDt_BeP",
        "colab_type": "code",
        "colab": {}
      },
      "source": [
        "def smallestFactorization(self, N):\n",
        "    if N == 1:\n",
        "        return 1\n",
        "        \n",
        "    A = []\n",
        "    while N > 1:\n",
        "        for d in xrange(9, 1, -1):\n",
        "            if N % d == 0:\n",
        "                N /= d\n",
        "                A.append(d)\n",
        "                break\n",
        "        else:\n",
        "            return 0\n",
        "    \n",
        "    ans = int(\"\".join(map(str, A[::-1])))\n",
        "    return ans if ans < 2**31 else 0"
      ],
      "execution_count": 0,
      "outputs": []
    },
    {
      "cell_type": "markdown",
      "metadata": {
        "id": "GD1MEn7v_hla",
        "colab_type": "text"
      },
      "source": [
        "**250. Count Univalue Subtrees**\n",
        "\n",
        "Given a binary tree, count the number of uni-value subtrees.\n",
        "\n",
        "A Uni-value subtree means all nodes of the subtree have the same value."
      ]
    },
    {
      "cell_type": "code",
      "metadata": {
        "id": "TImzE2WS_qS7",
        "colab_type": "code",
        "colab": {}
      },
      "source": [
        "def countUnivalSubtrees(self, root):\n",
        "    self.count = 0\n",
        "    self.checkUni(root)\n",
        "    return self.count\n",
        "\n",
        "# bottom-up, first check the leaf nodes and count them, \n",
        "# then go up, if both children are \"True\" and root.val is \n",
        "# equal to both children's values if exist, then root node\n",
        "# is uniValue suntree node. \n",
        "def checkUni(self, root):\n",
        "    if not root:\n",
        "        return True\n",
        "    l, r = self.checkUni(root.left), self.checkUni(root.right)\n",
        "    if l and r and (not root.left or root.left.val == root.val) and \\\n",
        "    (not root.right or root.right.val == root.val):\n",
        "        self.count += 1\n",
        "        return True\n",
        "    return False"
      ],
      "execution_count": 0,
      "outputs": []
    },
    {
      "cell_type": "markdown",
      "metadata": {
        "id": "5-Z1kvQX_w2m",
        "colab_type": "text"
      },
      "source": [
        "**469. Convex Polygon**\n",
        "\n",
        "Given a list of points that form a polygon when joined sequentially, find if this polygon is convex (Convex polygon definition).\n",
        "\n",
        " "
      ]
    },
    {
      "cell_type": "code",
      "metadata": {
        "id": "hpZwy_TkAEar",
        "colab_type": "code",
        "colab": {}
      },
      "source": [
        "class Solution(object):\n",
        "    def isConvex(self, points):\n",
        "        \"\"\"\n",
        "        :type points: List[List[int]]\n",
        "        :rtype: bool\n",
        "        \"\"\"\n",
        "        def direction(a,b,c):\n",
        "            return (b[0]-a[0])*(c[1]-a[1]) - (b[1]-a[1])*(c[0]-a[0])\n",
        "        d = None\n",
        "        for i in range(1,len(points)):\n",
        "            a = direction(points[i-2],points[i-1],points[i])\n",
        "            if a == 0: continue\n",
        "            if d == None: d = a\n",
        "            else:\n",
        "                if a*d < 0: return False\n",
        "        if direction(points[-2],points[-1],points[0]) * d < 0:return False\n",
        "        return True"
      ],
      "execution_count": 0,
      "outputs": []
    },
    {
      "cell_type": "markdown",
      "metadata": {
        "id": "v3FLPs1kAGoK",
        "colab_type": "text"
      },
      "source": [
        "**426. Convert Binary Search Tree to Sorted Doubly Linked List**\n",
        "Convert a Binary Search Tree to a sorted Circular Doubly-Linked List in place.\n",
        "\n",
        "You can think of the left and right pointers as synonymous to the predecessor and successor pointers in a doubly-linked list. For a circular doubly linked list, the predecessor of the first element is the last element, and the successor of the last element is the first element.\n",
        "\n",
        "We want to do the transformation in place. After the transformation, the left pointer of the tree node should point to its predecessor, and the right pointer should point to its successor. You should return the pointer to the smallest element of the linked list."
      ]
    },
    {
      "cell_type": "code",
      "metadata": {
        "id": "bvy8FG2tAWBS",
        "colab_type": "code",
        "colab": {}
      },
      "source": [
        "#in-order traversal\n",
        "class Solution(object):\n",
        "    def treeToDoublyList(self, root):\n",
        "        \"\"\"\n",
        "        :type root: Node\n",
        "        :rtype: Node\n",
        "        \"\"\"\n",
        "        if root:\n",
        "            head, tail = self.helper(root)\n",
        "            return head\n",
        "        return None\n",
        "\n",
        "\n",
        "    def helper(self, root):\n",
        "        \"\"\"Idea: Construct a DLL for each subtree, then return the head and tail\"\"\"\n",
        "        head, tail = root, root\n",
        "        if root.left:\n",
        "            lh, lt = self.helper(root.left)\n",
        "            lt.right = root\n",
        "            root.left = lt\n",
        "            head = lh\n",
        "        if root.right:\n",
        "            rh, rt = self.helper(root.right)\n",
        "            rh.left = root\n",
        "            root.right = rh\n",
        "            tail = rt\n",
        "        head.left = tail\n",
        "        tail.right = head\n",
        "        return (head, tail)\n",
        "\n",
        "#method2\n",
        "def treeToDoublyList(self, root):\n",
        "        if not root: return None\n",
        "\t\t\n",
        "\t\t# inorder traversal\n",
        "        prv = self.treeToDoublyList(root.left)\n",
        "        nxt = self.treeToDoublyList(root.right)\n",
        "        \n",
        "        head = tail = root\n",
        "        if nxt: #then connect nxt\n",
        "            tail = nxt.left\n",
        "            root.right = nxt\n",
        "            nxt.left = root\n",
        "        if prv: #then connect prv\n",
        "            head = prv\n",
        "            root.left = prv.left\n",
        "            prv.left.right = root\n",
        "\t\t\t\n",
        "        #finally connect head and tail\n",
        "        head.left = tail\n",
        "        tail.right = head\n",
        "        \n",
        "        return head"
      ],
      "execution_count": 0,
      "outputs": []
    },
    {
      "cell_type": "markdown",
      "metadata": {
        "id": "Iv2Z9aAYAkc2",
        "colab_type": "text"
      },
      "source": [
        "**314. Binary Tree Vertical Order Traversal**\n",
        "\n",
        "Given a binary tree, return the vertical order traversal of its nodes' values. (ie, from top to bottom, column by column).\n",
        "\n",
        "If two nodes are in the same row and column, the order should be from left to right."
      ]
    },
    {
      "cell_type": "code",
      "metadata": {
        "id": "trSVBCi6A1A-",
        "colab_type": "code",
        "colab": {}
      },
      "source": [
        "def verticalOrder(self, root):\n",
        "    cols = collections.defaultdict(list)\n",
        "    queue = [(root, 0)]\n",
        "    for node, i in queue:\n",
        "        if node:\n",
        "            cols[i].append(node.val)\n",
        "            queue += (node.left, i - 1), (node.right, i + 1)\n",
        "    return [cols[i] for i in sorted(cols)]\n",
        "\n",
        "#It's basically a modified level-order traversal\n",
        "\n",
        "class Solution(object):\n",
        "    def verticalOrder(self, root):\n",
        "        \"\"\"\n",
        "        :type root: TreeNode\n",
        "        :rtype: List[List[int]]\n",
        "        \"\"\"\n",
        "        if root is None:\n",
        "            return []\n",
        "        \n",
        "        q = []\n",
        "\n",
        "        node = root\n",
        "        q.append([node,0])\n",
        "        \n",
        "        output = {}\n",
        "    \n",
        "        while len(q) > 0:\n",
        "            node,level = q.pop(0)\n",
        "            \n",
        "            if not (level in output):\n",
        "                output[level] = [node.val]\n",
        "            else:\n",
        "                output[level].append(node.val)\n",
        "            \n",
        "            if node.left is not None:\n",
        "                q.append([node.left,level-1])\n",
        "            if node.right is not None:\n",
        "                q.append([node.right,level+1])\n",
        "        \n",
        "        sortedkeys = sorted(output.keys())\n",
        "        vertorder = []\n",
        "        for i in sortedkeys:\n",
        "            vertorder.append(output[i])\n",
        "        return vertorder"
      ],
      "execution_count": 0,
      "outputs": []
    },
    {
      "cell_type": "markdown",
      "metadata": {
        "id": "npUz4w7tA71k",
        "colab_type": "text"
      },
      "source": [
        "**536. Construct Binary Tree from String**\n",
        "You need to construct a binary tree from a string consisting of parenthesis and integers.\n",
        "\n",
        "The whole input represents a binary tree. It contains an integer followed by zero, one or two pairs of parenthesis. The integer represents the root's value and a pair of parenthesis contains a child binary tree with the same structure.\n",
        "\n",
        "You always start to construct the left child node of the parent first if it exists."
      ]
    },
    {
      "cell_type": "code",
      "metadata": {
        "id": "xbWFka3QBHjL",
        "colab_type": "code",
        "colab": {}
      },
      "source": [
        "We perform a recursive solution. There are four cases for what the string might look like:\n",
        "\n",
        "empty\n",
        "[integer]\n",
        "[integer] ( [tree] )\n",
        "[integer] ( [tree] ) ( [tree] )\n",
        "When there is no '(', we are in one of the first two cases and proceed appropriately.\n",
        "Else, we find the index \"jx\" of the ')' character that marks the end of the first tree. We do this by keeping a tally of how many left brackets minus right brackets we've seen. When we've seen 0, we must be at the end of the first tree. The second tree is going to be the expression S[jx + 2: -1], which might be empty if we are in case #3.\n",
        "\n",
        "def str2tree(self, S):\n",
        "    ix = S.find('(')\n",
        "    if ix < 0:\n",
        "        return TreeNode(int(S)) if S else None\n",
        "        \n",
        "    bal = 0\n",
        "    for jx, u in enumerate(S):\n",
        "        if u == '(': bal += 1\n",
        "        if u == ')': bal -= 1\n",
        "        if jx > ix and bal == 0:\n",
        "            break\n",
        "\n",
        "    root = TreeNode(int(S[:ix]))\n",
        "    root.left = self.str2tree(S[ix+1:jx])\n",
        "    root.right = self.str2tree(S[jx+2:-1])\n",
        "    return root"
      ],
      "execution_count": 0,
      "outputs": []
    },
    {
      "cell_type": "markdown",
      "metadata": {
        "id": "WPK4Ab5UBJva",
        "colab_type": "text"
      },
      "source": [
        "**1056. Confusing Number**\n",
        "Given a number N, return true if and only if it is a confusing number, which satisfies the following condition:\n",
        "\n",
        "We can rotate digits by 180 degrees to form new digits. When 0, 1, 6, 8, 9 are rotated 180 degrees, they become 0, 1, 9, 8, 6 respectively. When 2, 3, 4, 5 and 7 are rotated 180 degrees, they become invalid. A confusing number is a number that when rotated 180 degrees becomes a different number with each digit valid."
      ]
    },
    {
      "cell_type": "code",
      "metadata": {
        "id": "R8Cal65hBRQs",
        "colab_type": "code",
        "colab": {}
      },
      "source": [
        "def confusingNumber(self, N: int) -> bool:\n",
        "    d = {'0': '0', '1': '1', '6': '9', '8': '8', '9': '6'}\n",
        "    s = str(N)\n",
        "\n",
        "    for c in s:\n",
        "        if c not in d:\n",
        "            return False\n",
        "\n",
        "    for i in range(0, int((len(s) + 1) / 2)):\n",
        "        if d[s[i]] != s[-i - 1]:\n",
        "            return True\n",
        "\n",
        "    return False"
      ],
      "execution_count": 0,
      "outputs": []
    },
    {
      "cell_type": "markdown",
      "metadata": {
        "id": "RSH9eMNVBQia",
        "colab_type": "text"
      },
      "source": [
        "**1088. Confusing Number II**\n",
        "\n",
        "We can rotate digits by 180 degrees to form new digits. When 0, 1, 6, 8, 9 are rotated 180 degrees, they become 0, 1, 9, 8, 6 respectively. When 2, 3, 4, 5 and 7 are rotated 180 degrees, they become invalid.\n",
        "\n",
        "A confusing number is a number that when rotated 180 degrees becomes a different number with each digit valid.(Note that the rotated number can be greater than the original number.)\n",
        "\n",
        "Given a positive integer N, return the number of confusing numbers between 1 and N inclusive."
      ]
    },
    {
      "cell_type": "code",
      "metadata": {
        "id": "TvCuwnZLBkfq",
        "colab_type": "code",
        "colab": {}
      },
      "source": [
        "First calculate all the possible numbers which only include 0,1,6,8,9, then use cache to track N.\n",
        "\n",
        "from bisect import *\n",
        "\n",
        "options = res = ['0', '1', '6', '8', '9']\n",
        "for _ in range(8):\n",
        "    res = [j + i for j in res for i in options] \n",
        "# res will definitely be Ascending\n",
        "res = res[1:] + ['1000000000'] # don't forget 1 <= N <= 1000000000\n",
        "lookup = {}\n",
        "\n",
        "maps = {\n",
        "    '0': '0',\n",
        "    '1': '1',\n",
        "    '6': '9',\n",
        "    '8': '8',\n",
        "    '9': '6'\n",
        "}\n",
        "\n",
        "class Solution:\n",
        "    def check(self, num):\n",
        "        global options, res, lookup\n",
        "\n",
        "        # remove leading-zero\n",
        "        num = num[::-1]\n",
        "        while num and num[-1] == '0':\n",
        "            num = num[:-1]\n",
        "        num = num[::-1]\n",
        "\n",
        "        # check if Confusing, not equal after rotate\n",
        "        left, right = 0, len(num) - 1\n",
        "        while left < right:\n",
        "            if maps[num[left]] != num[right]:\n",
        "                return True\n",
        "            left += 1\n",
        "            right -= 1\n",
        "        if left == right and (num[left] == \"6\" or num[right] == \"9\"):\n",
        "            return True\n",
        "        return False\n",
        "\n",
        "    def confusingNumberII(self, N: int) -> int:\n",
        "        global options, res, lookup\n",
        "        if N in lookup:\n",
        "            return lookup[N][0]\n",
        "        tmp = sorted(lookup.keys())\n",
        "        idx = bisect_right(tmp, N) # find a largest N_ which less than current N\n",
        "        if idx != 0:\n",
        "            cnt, idxx = lookup[tmp[idx - 1]]\n",
        "            for i in range(idxx, len(res)):\n",
        "                if 1 <= int(res[i]) <= N:\n",
        "                    if self.check(res[i]):\n",
        "                        cnt += 1\n",
        "                else:\n",
        "                    break\n",
        "            lookup[N] = [cnt, i]\n",
        "        else:\n",
        "            cnt = 0\n",
        "            for i, num in enumerate(res):\n",
        "                if 1 <= int(num) <= N:\n",
        "                    if self.check(num):\n",
        "                        cnt += 1\n",
        "                else:\n",
        "                    break\n",
        "            lookup[N] = [cnt, i]\n",
        "        return lookup[N][0]"
      ],
      "execution_count": 0,
      "outputs": []
    },
    {
      "cell_type": "markdown",
      "metadata": {
        "id": "jY0Nnuy4BrbK",
        "colab_type": "text"
      },
      "source": [
        "**656. Coin Path**"
      ]
    },
    {
      "cell_type": "code",
      "metadata": {
        "id": "yQeJPS4BBwlA",
        "colab_type": "code",
        "colab": {}
      },
      "source": [
        "def cheapestJump(self, A, B):\n",
        "        if not A or A[0] == -1: return []\n",
        "        dp = [[float('inf')] for _ in A]\n",
        "        dp[0] = [A[0], 1]\n",
        "        for j in range(1, len(A)):\n",
        "            if A[j] == -1: continue\n",
        "            dp[j] = min([dp[i][0] + A[j]] + dp[i][1:] + [j + 1] for i in range(max(0, j - B), j))\n",
        "        return dp[-1][1:] if dp[-1][0] < float('inf') else []"
      ],
      "execution_count": 0,
      "outputs": []
    },
    {
      "cell_type": "markdown",
      "metadata": {
        "id": "ZNWQ0VaXByvj",
        "colab_type": "text"
      },
      "source": [
        "**742. Closest Leaf in a Binary Tree**\n",
        "\n",
        "Given a binary tree where every node has a unique value, and a target key k, find the value of the nearest leaf node to target k in the tree.\n",
        "\n",
        "Here, nearest to a leaf means the least number of edges travelled on the binary tree to reach any leaf of the tree. Also, a node is called a leaf if it has no children.\n",
        "\n",
        "In the following examples, the input tree is represented in flattened form row by row. The actual root tree given will be a TreeNode object."
      ]
    },
    {
      "cell_type": "code",
      "metadata": {
        "id": "c8ED3sZ_B70T",
        "colab_type": "code",
        "colab": {}
      },
      "source": [
        "class Solution(object):\n",
        "    def findClosestLeaf(self, root, k):\n",
        "        annotation = {}\n",
        "        def closest_leaf(root):\n",
        "            if root not in annotation:\n",
        "                if not root:\n",
        "                    ans = float('inf'), None\n",
        "                elif not root.left and not root.right:\n",
        "                    ans = 0, root\n",
        "                else:\n",
        "                    d1, leaf1 = closest_leaf(root.left)\n",
        "                    d2, leaf2 = closest_leaf(root.right)\n",
        "                    ans = min(d1, d2) + 1, leaf1 if d1 < d2 else leaf2\n",
        "                annotation[root] = ans\n",
        "            return annotation[root]\n",
        "\n",
        "        #Search for node.val == k\n",
        "        path = []\n",
        "        def dfs(node):\n",
        "            if not node:\n",
        "                return\n",
        "            if node.val == k:\n",
        "                path.append(node)\n",
        "                return True\n",
        "            path.append(node)\n",
        "            ans1 = dfs(node.left)\n",
        "              if ans1: return True\n",
        "            ans2 = dfs(node.right)\n",
        "            if ans2: return True\n",
        "            path.pop()\n",
        "\n",
        "        dfs(root)\n",
        "        dist, leaf = float('inf'), None\n",
        "        for i, node in enumerate(path):\n",
        "            d0, leaf0 = closest_leaf(node)\n",
        "            d0 += len(path) - 1 - i\n",
        "            if d0 < dist:\n",
        "                dist = d0\n",
        "                leaf = leaf0\n",
        "\n",
        "        return leaf.val\n",
        "# m2:\n",
        "class Solution(object):\n",
        "    def findClosestLeaf(self, root, k):\n",
        "        # Time: O(n)\n",
        "        # Space: O(n)\n",
        "        from collections import defaultdict\n",
        "        graph, leaves = defaultdict(list), set()\n",
        "        # Graph construction\n",
        "        def traverse(node):\n",
        "            if not node:\n",
        "                return\n",
        "            if not node.left and not node.right:\n",
        "                leaves.add(node.val)\n",
        "                return\n",
        "            if node.left:\n",
        "                graph[node.val].append(node.left.val)\n",
        "                graph[node.left.val].append(node.val)\n",
        "                traverse(node.left)\n",
        "            if node.right:\n",
        "                graph[node.val].append(node.right.val)\n",
        "                graph[node.right.val].append(node.val)\n",
        "                traverse(node.right)\n",
        "        traverse(root)\n",
        "        # Graph traversal - BFS\n",
        "        queue = [k]\n",
        "        while len(queue):\n",
        "            next_queue = []\n",
        "            for node in queue:\n",
        "                if node in leaves:\n",
        "                    return node\n",
        "                next_queue += graph.pop(node, [])\n",
        "            queue = next_queue\n",
        "                "
      ],
      "execution_count": 0,
      "outputs": []
    },
    {
      "cell_type": "markdown",
      "metadata": {
        "id": "qiGwt_3tCRp1",
        "colab_type": "text"
      },
      "source": [
        "**272. Closest Binary Search Tree Value II**\n",
        "\n",
        "Given a non-empty binary search tree and a target value, find k values in the BST that are closest to the target."
      ]
    },
    {
      "cell_type": "code",
      "metadata": {
        "id": "B0kXSbmuCqtg",
        "colab_type": "code",
        "colab": {}
      },
      "source": [
        "class Solution(object):\n",
        "    def closestKValues(self, root, target, k):\n",
        "        \"\"\"\n",
        "        :type root: TreeNode\n",
        "        :type target: float\n",
        "        :type k: int\n",
        "        :rtype: List[int]\n",
        "        \"\"\"\n",
        "        ans = []\n",
        "        preStack = []\n",
        "        sucStack = []\n",
        "\n",
        "        while root:\n",
        "            if root.val < target:\n",
        "                preStack.append(root)\n",
        "                root = root.right\n",
        "            else:\n",
        "                sucStack.append(root)\n",
        "                root = root.left\n",
        "                \n",
        "        def getPredecessor(stack):\n",
        "            if stack:\n",
        "                pre = stack.pop()\n",
        "                p = pre.left\n",
        "                while p:\n",
        "                    stack.append(p)\n",
        "                    p = p.right\n",
        "                return pre\n",
        "            \n",
        "        def getSuccessor(stack):\n",
        "            if stack:\n",
        "                suc = stack.pop()\n",
        "                p = suc.right\n",
        "                while p:\n",
        "                    stack.append(p)\n",
        "                    p = p.left\n",
        "                return suc\n",
        "        \n",
        "        pre = getPredecessor(preStack)\n",
        "        suc = getSuccessor(sucStack)\n",
        "\n",
        "        while k:\n",
        "            k -= 1\n",
        "            if pre and not suc:\n",
        "                ans.append(pre.val)\n",
        "                pre = getPredecessor(preStack)\n",
        "            elif not pre and suc:\n",
        "                ans.append(suc.val)\n",
        "                suc = getSuccessor(sucStack)\n",
        "            elif pre and suc and abs(pre.val - target) <= abs(suc.val - target):\n",
        "                ans.append(pre.val)\n",
        "                pre = getPredecessor(preStack)\n",
        "            elif pre and suc and abs(pre.val - target) >= abs(suc.val - target):\n",
        "                ans.append(suc.val)\n",
        "                suc = getSuccessor(sucStack)\n",
        "        return ans"
      ],
      "execution_count": 0,
      "outputs": []
    },
    {
      "cell_type": "markdown",
      "metadata": {
        "id": "0NYk18fhCbjz",
        "colab_type": "text"
      },
      "source": [
        "**270. Closest Binary Search Tree Value**\n",
        "\n",
        "Given a non-empty binary search tree and a target value, find the value in the BST that is closest to the target."
      ]
    },
    {
      "cell_type": "code",
      "metadata": {
        "id": "3Xu1fz34CkBm",
        "colab_type": "code",
        "colab": {}
      },
      "source": [
        "def closestValue(self, root, target):\n",
        "    a = root.val\n",
        "    kid = root.left if target < a else root.right\n",
        "    if not kid: return a\n",
        "    b = self.closestValue(kid, target)\n",
        "    return min((b, a), key=lambda x: abs(target - x))\n",
        "\n",
        "#method 2:\n",
        "class Solution(object):\n",
        "    def closestValue(self, root, target):\n",
        "        r = root.val\n",
        "        while root:\n",
        "            if abs(root.val - target) < abs(r - target):\n",
        "                r = root.val\n",
        "            root = root.left if target < root.val else root.right\n",
        "        return r"
      ],
      "execution_count": 0,
      "outputs": []
    },
    {
      "cell_type": "markdown",
      "metadata": {
        "id": "U1LWcpWVCk1I",
        "colab_type": "text"
      },
      "source": [
        "**723. Candy Crush**"
      ]
    },
    {
      "cell_type": "code",
      "metadata": {
        "id": "UyZXZhwHDIvO",
        "colab_type": "code",
        "colab": {}
      },
      "source": [
        "class Solution(object):\n",
        "    def candyCrush(self, board):\n",
        "        R, C = len(board), len(board[0])\n",
        "        todo = False\n",
        "\n",
        "        for r in xrange(R):\n",
        "            for c in xrange(C-2):\n",
        "                if abs(board[r][c]) == abs(board[r][c+1]) == abs(board[r][c+2]) != 0:\n",
        "                    board[r][c] = board[r][c+1] = board[r][c+2] = -abs(board[r][c])\n",
        "                    todo = True\n",
        "\n",
        "        for r in xrange(R-2):\n",
        "            for c in xrange(C):\n",
        "                if abs(board[r][c]) == abs(board[r+1][c]) == abs(board[r+2][c]) != 0:\n",
        "                    board[r][c] = board[r+1][c] = board[r+2][c] = -abs(board[r][c])\n",
        "                    todo = True\n",
        "\n",
        "        for c in xrange(C):\n",
        "            wr = R-1\n",
        "            for r in xrange(R-1, -1, -1):\n",
        "                if board[r][c] > 0:\n",
        "                  board[wr][c] = board[r][c]\n",
        "                    wr -= 1\n",
        "            for wr in xrange(wr, -1, -1):\n",
        "                board[wr][c] = 0\n",
        "\n",
        "        return self.candyCrush(board) if todo else board"
      ],
      "execution_count": 0,
      "outputs": []
    },
    {
      "cell_type": "markdown",
      "metadata": {
        "id": "7RmnXNbiDPqJ",
        "colab_type": "text"
      },
      "source": [
        "**1057. Campus Bikes**\n"
      ]
    },
    {
      "cell_type": "code",
      "metadata": {
        "id": "cbMyo7-yDVbr",
        "colab_type": "code",
        "colab": {}
      },
      "source": [
        "For each worker, create a sorted list of distances to each bike. The elements of the list are tuples (distance, worker, bike).\n",
        "For each worker, add the tuple with the shortest distance to the heap.\n",
        "Until each worker has a bike, pop the smallest distance from the heap.\n",
        "If this bike is not used, update the result for this worker, else add the next closest tuple for this worker to the heap.\n",
        "\n",
        "\tdef assignBikes(self, workers, bikes):\n",
        "        distances = []     # distances[worker] is tuple of (distance, worker, bike) for each bike \n",
        "        for i, (x, y) in enumerate(workers):\n",
        "            distances.append([])\n",
        "            for j, (x_b, y_b) in enumerate(bikes):\n",
        "                distance = abs(x - x_b) + abs(y - y_b)\n",
        "                distances[-1].append((distance, i, j))\n",
        "            distances[-1].sort(reverse = True)  # reverse so we can pop the smallest distance\n",
        "        \n",
        "        result = [None] * len(workers)\n",
        "        used_bikes = set()\n",
        "        queue = [distances[i].pop() for i in range(len(workers))]   # smallest distance for each worker\n",
        "        heapq.heapify(queue)\n",
        "        \n",
        "        while len(used_bikes) < len(workers):\n",
        "            _, worker, bike = heapq.heappop(queue)\n",
        "            if bike not in used_bikes:\n",
        "                result[worker] = bike\n",
        "                used_bikes.add(bike)\n",
        "            else:\n",
        "                heapq.heappush(queue, distances[worker].pop())  # bike used, add next closest bike\n",
        "        \n",
        "        return result"
      ],
      "execution_count": 0,
      "outputs": []
    },
    {
      "cell_type": "markdown",
      "metadata": {
        "id": "AegWCESNDX4h",
        "colab_type": "text"
      },
      "source": [
        "**1066. Campus Bikes II**"
      ]
    },
    {
      "cell_type": "code",
      "metadata": {
        "id": "bXbrM6urDjuu",
        "colab_type": "code",
        "colab": {}
      },
      "source": [
        "This uses the generic min cost flow algorithm. Besides the edges connecting workers to bikes, each edge connecting source to worker and bike to sink has a capacity of 1.\n",
        "\n",
        "class Solution:\n",
        "    def assignBikes(self, workers: List[List[int]], bikes: List[List[int]]) -> int:\n",
        "        m, n = len(workers), len(bikes)\n",
        "        # 0 ~ m - 1  workers\n",
        "        # m ~ m + n - 1 bikes\n",
        "        s = m + n # dummy source\n",
        "        t = s + 1 # dummy sink\n",
        "        num_nodes = m + n + 2\n",
        "        g =[[] for _ in range(num_nodes)]\n",
        "        prevv = [None] * num_nodes\n",
        "        preve = [None] * num_nodes\n",
        "        \n",
        "        def add_edge(from_node, to_node, cap, cost):\n",
        "            g[from_node].append([to_node, cap, cost, len(g[to_node])])\n",
        "            # reverse edge\n",
        "            g[to_node].append([from_node, 0, -cost, len(g[from_node]) - 1])\n",
        "        \n",
        "        # find minimum cost to flow f from s to t\n",
        "        def min_cost_flow(s, t, f):\n",
        "            res = 0\n",
        "            # Bellman-Ford\n",
        "            while f > 0:\n",
        "                dist = [float('inf')] * (m + n + 2)\n",
        "                dist[s] = 0\n",
        "                update = True\n",
        "                while update:\n",
        "                    update = False\n",
        "                    for v in range(num_nodes):\n",
        "                        if dist[v] == float('inf'):\n",
        "                            continue\n",
        "                        for i in range(len(g[v])):\n",
        "                            edge = g[v][i]\n",
        "                            # if there is capacity left on this edge and \n",
        "                            # it costs less to go to the next node from here\n",
        "                            if edge[1] > 0 and dist[edge[0]] > dist[v] + edge[2]:\n",
        "                                dist[edge[0]] = dist[v] + edge[2]\n",
        "                                prevv[edge[0]] = v\n",
        "                                preve[edge[0]] = i\n",
        "                                update = True\n",
        "                assert dist[t] != float('inf')\n",
        "                d = f\n",
        "                v = t\n",
        "                while v != s:\n",
        "                    d = min(d, g[prevv[v]][preve[v]][1])\n",
        "                    v = prevv[v]\n",
        "                f -= d\n",
        "                res += d * dist[t]\n",
        "                v = t\n",
        "                while v != s:\n",
        "                    edge = g[prevv[v]][preve[v]]\n",
        "                    edge[1] -= d\n",
        "                    g[v][edge[3]][1] += d\n",
        "                    v = prevv[v]\n",
        "            return res\n",
        "        \n",
        "        for i in range(m):\n",
        "            for j in range(n):\n",
        "                x1, y1 = workers[i]\n",
        "                x2, y2 = bikes[j]\n",
        "                c = abs(x1 - x2) + abs(y1 - y2)\n",
        "                add_edge(i, m + j, 1, c)\n",
        "        for i in range(m):\n",
        "            add_edge(s, i, 1, 0)\n",
        "        for i in range(n):\n",
        "            add_edge(m + i, t, 1, 0)\n",
        "\n",
        "        return min_cost_flow(s, t, m)"
      ],
      "execution_count": 0,
      "outputs": []
    },
    {
      "cell_type": "markdown",
      "metadata": {
        "id": "Tu-eqDpgDkVu",
        "colab_type": "text"
      },
      "source": [
        "**1087. Brace Expansion**\n",
        "A string S represents a list of words.\n",
        "Each letter in the word has 1 or more options.  If there is one option, the letter is represented as is.  If there is more than one option, then curly braces delimit the options.  For example, \"{a,b,c}\" represents options [\"a\", \"b\", \"c\"].\n",
        "\n",
        "For example, \"{a,b,c}d{e,f}\" represents the list [\"ade\", \"adf\", \"bde\", \"bdf\", \"cde\", \"cdf\"].\n",
        "\n",
        "Return all words that can be formed in this manner, in lexicographical order."
      ]
    },
    {
      "cell_type": "code",
      "metadata": {
        "id": "Ns5sqeeLDyba",
        "colab_type": "code",
        "colab": {}
      },
      "source": [
        "class Solution(object):\n",
        "    def expand(self, S):\n",
        "        \"\"\"\n",
        "        :type S: str\n",
        "        :rtype: List[str]\n",
        "        \"\"\"\n",
        "        self.res = []\n",
        "        def helper(s, word):\n",
        "            if not s:\n",
        "                self.res.append(word)\n",
        "            else:\n",
        "                if s[0] == \"{\":\n",
        "                    i = s.find(\"}\")\n",
        "                    for letter in s[1:i].split(','):\n",
        "                        helper(s[i+1:], word+letter)\n",
        "                else:\n",
        "                    helper(s[1:], word + s[0])\n",
        "        helper(S, \"\")\n",
        "        self.res.sort()\n",
        "        return self.res"
      ],
      "execution_count": 0,
      "outputs": []
    },
    {
      "cell_type": "markdown",
      "metadata": {
        "id": "5EmFqfUUDzHR",
        "colab_type": "text"
      },
      "source": [
        "**545. Boundary of Binary Tree**"
      ]
    },
    {
      "cell_type": "code",
      "metadata": {
        "id": "D5LFLcPlD5kl",
        "colab_type": "code",
        "colab": {}
      },
      "source": [
        "class Solution(object):\n",
        "    def boundaryOfBinaryTree(self, root):\n",
        "        def dfs_leftmost(node):\n",
        "            if not node or not node.left and not node.right:\n",
        "                return\n",
        "            boundary.append(node.val)\n",
        "            if node.left:\n",
        "                dfs_leftmost(node.left)\n",
        "            else:\n",
        "                dfs_leftmost(node.right)\n",
        "\n",
        "        def dfs_leaves(node):\n",
        "            if not node:\n",
        "                return\n",
        "            dfs_leaves(node.left)\n",
        "            if node != root and not node.left and not node.right:\n",
        "                boundary.append(node.val)\n",
        "            dfs_leaves(node.right)\n",
        "\n",
        "        def dfs_rightmost(node):\n",
        "            if not node or not node.left and not node.right:\n",
        "                return\n",
        "            if node.right:\n",
        "                dfs_rightmost(node.right)\n",
        "            else:\n",
        "                dfs_rightmost(node.left)\n",
        "            boundary.append(node.val)\n",
        "\n",
        "        if not root:\n",
        "            return []\n",
        "        boundary = [root.val]\n",
        "        dfs_leftmost(root.left)\n",
        "        dfs_leaves(root)\n",
        "        dfs_rightmost(root.right)\n",
        "        return boundary"
      ],
      "execution_count": 0,
      "outputs": []
    },
    {
      "cell_type": "markdown",
      "metadata": {
        "id": "jfHVvp9rD_c5",
        "colab_type": "text"
      },
      "source": [
        "**361. Bomb Enemy**\n",
        "Given a 2D grid, each cell is either a wall 'W', an enemy 'E' or empty '0' (the number zero), return the maximum enemies you can kill using one bomb.\n",
        "The bomb kills all the enemies in the same row and column from the planted point until it hits the wall since the wall is too strong to be destroyed.\n",
        "Note: You can only put the bomb at an empty cell."
      ]
    },
    {
      "cell_type": "code",
      "metadata": {
        "id": "Qb7Mq4J7EJrS",
        "colab_type": "code",
        "colab": {}
      },
      "source": [
        "def maxKilledEnemies(self, grid):\n",
        "    def hits(grid):\n",
        "        return [[h\n",
        "                 for block in ''.join(row).split('W')\n",
        "                 for h in [block.count('E')] * len(block) + [0]]\n",
        "                for row in grid]\n",
        "    rowhits = hits(grid)\n",
        "    colhits = zip(*hits(zip(*grid)))\n",
        "    return max([rh + ch\n",
        "                for row in zip(grid, rowhits, colhits)\n",
        "                for cell, rh, ch in zip(*row)\n",
        "                if cell == '0'] or [0])\n",
        " # method 2:\n",
        " class Solution(object):\n",
        "    def process_left_right(self, i, grid, value):\n",
        "        cnt, N, M = 0, len(grid), len(grid[0])\n",
        "        for j in range(M):\n",
        "            if grid[i][j] == \"W\":\n",
        "                cnt  = 0\n",
        "            elif grid[i][j] == \"E\":\n",
        "                cnt += 1\n",
        "            else:\n",
        "                value[i][j] += cnt\n",
        "        return\n",
        "    \n",
        "    def process_right_left(self, i, grid, value):\n",
        "        cnt, N, M = 0, len(grid), len(grid[0])\n",
        "        for j in range(M-1, -1, -1):\n",
        "            if grid[i][j] == \"W\":\n",
        "                cnt  = 0\n",
        "            elif grid[i][j] == \"E\":\n",
        "                cnt += 1\n",
        "            else:\n",
        "                value[i][j] += cnt\n",
        "        return\n",
        "    \n",
        "    def process_up_down(self, j, grid, value):\n",
        "        cnt, N, M = 0, len(grid), len(grid[0])        \n",
        "        for i in range(N):\n",
        "            if grid[i][j] == \"W\":\n",
        "                cnt  = 0\n",
        "            elif grid[i][j] == \"E\":\n",
        "                cnt += 1\n",
        "            else:\n",
        "                value[i][j] += cnt \n",
        "        return\n",
        "    \n",
        "    def process_down_up(self, j, grid, value):\n",
        "        cnt, N, M = 0, len(grid), len(grid[0])        \n",
        "        for i in range(N-1, -1, -1):\n",
        "            if grid[i][j] == \"W\":\n",
        "                cnt  = 0\n",
        "            elif grid[i][j] == \"E\":\n",
        "                cnt += 1\n",
        "            else:\n",
        "                value[i][j] += cnt\n",
        "        return\n",
        "    \n",
        "    def maxKilledEnemies(self, grid):\n",
        "        \"\"\"\n",
        "        :type grid: List[List[str]]\n",
        "        :rtype: int\n",
        "        \"\"\"\n",
        "        if grid == []:\n",
        "            return 0\n",
        "        N, M = len(grid), len(grid[0])\n",
        "        value = [[0]*M for _ in range(N)]\n",
        "        self.max_bomb_enemy = 0\n",
        "        for i in range(N):\n",
        "            self.process_left_right(i, grid, value)\n",
        "            self.process_right_left(i, grid, value)\n",
        "        for j in range(M):\n",
        "            self.process_up_down(j, grid, value)\n",
        "            self.process_down_up(j, grid, value)\n",
        "        for i in range(N):\n",
        "            if value[i]:\n",
        "                self.max_bomb_enemy = max(self.max_bomb_enemy, max(value[i]))\n",
        "        return self.max_bomb_enemy"
      ],
      "execution_count": 0,
      "outputs": []
    },
    {
      "cell_type": "markdown",
      "metadata": {
        "id": "gWacUedBEl0i",
        "colab_type": "text"
      },
      "source": [
        "**314. Binary Tree Vertical Order Traversal**\n",
        "\n",
        "Given a binary tree, return the vertical order traversal of its nodes' values. (ie, from top to bottom, column by column).\n",
        "\n",
        "If two nodes are in the same row and column, the order should be from left to right."
      ]
    },
    {
      "cell_type": "code",
      "metadata": {
        "id": "OXutOoqaEvv4",
        "colab_type": "code",
        "colab": {}
      },
      "source": [
        "def verticalOrder(self, root):\n",
        "    cols = collections.defaultdict(list)\n",
        "    queue = [(root, 0)]\n",
        "    i = 0\n",
        "    while i < len(queue):\n",
        "        node, x = queue[i]\n",
        "        i += 1\n",
        "        if node:\n",
        "            cols[x].append(node.val)\n",
        "            queue += (node.left, x - 1), (node.right, x + 1)\n",
        "    return [cols[x] for x in sorted(cols)]"
      ],
      "execution_count": 0,
      "outputs": []
    },
    {
      "cell_type": "markdown",
      "metadata": {
        "id": "R3Goe7OzEyJx",
        "colab_type": "text"
      },
      "source": [
        "758. Bold Words in String\n",
        "\n",
        "Given a set of keywords words and a string S, make all appearances of all keywords in S bold. Any letters between <b> and </b> tags become bold.\n",
        "\n",
        "The returned string should use the least number of tags possible, and of course the tags should form a valid combination.\n",
        "\n",
        "For example, given that words = [\"ab\", \"bc\"] and S = \"aabcd\", we should return \"a<b>abc</b>d\". Note that returning \"a<b>a<b>b</b>c</b>d\" would use more tags, so it is incorrect."
      ]
    },
    {
      "cell_type": "code",
      "metadata": {
        "id": "KFwfDPJYE4Ey",
        "colab_type": "code",
        "colab": {}
      },
      "source": [
        "class Solution(object):\n",
        "    def boldWords(self, words, S):\n",
        "        \"\"\"\n",
        "        :type words: List[str]\n",
        "        :type S: str\n",
        "        :rtype: str\n",
        "        \"\"\"\n",
        "        n=len(S)\n",
        "        b=[False]*n\n",
        "        for w in words:\n",
        "            t=S.find(w)\n",
        "            l=len(w)\n",
        "            while t>-1:\n",
        "                for i in range(t,t+l):\n",
        "                    b[i]=True\n",
        "                t=S.find(w,t+1)\n",
        "        ans=''\n",
        "        i=0\n",
        "        while i<n:\n",
        "            if b[i]:\n",
        "                ans+=r'<b>'\n",
        "                while i<n and b[i]:\n",
        "                    ans+=S[i]\n",
        "                    i+=1\n",
        "                ans+=r'</b>'\n",
        "            else:\n",
        "                ans+=S[i]\n",
        "                i+=1\n",
        "        return ans"
      ],
      "execution_count": 0,
      "outputs": []
    },
    {
      "cell_type": "markdown",
      "metadata": {
        "id": "n62Q2KChFCXY",
        "colab_type": "text"
      },
      "source": [
        "**298. Binary Tree Longest Consecutive Sequence**\n",
        "\n",
        "Given a binary tree, find the length of the longest consecutive sequence path.\n",
        "\n",
        "The path refers to any sequence of nodes from some starting node to any node in the tree along the parent-child connections. The longest consecutive path need to be from parent to child (cannot be the reverse)."
      ]
    },
    {
      "cell_type": "code",
      "metadata": {
        "id": "CmBmOKPoFO_B",
        "colab_type": "code",
        "colab": {}
      },
      "source": [
        "def longestConsecutive(root):\n",
        "    if not root:\n",
        "        return 0\n",
        "        \n",
        "    ret = 0\n",
        "    stack = [(root, 1)]\n",
        "    while stack:\n",
        "        node, cnt = stack.pop()\n",
        "        if node.left:\n",
        "            stack.append((node.left, cnt+1 if node.left.val == node.val + 1 else 1))\n",
        "        if node.right:\n",
        "            stack.append((node.right, cnt+1 if node.right.val == node.val + 1 else 1))\n",
        "        ret = max(ret, cnt)\n",
        "        \n",
        "    return ret"
      ],
      "execution_count": 0,
      "outputs": []
    },
    {
      "cell_type": "markdown",
      "metadata": {
        "id": "NDtMYtBcFCQx",
        "colab_type": "text"
      },
      "source": [
        "\n",
        "**549. Binary Tree Longest Consecutive Sequence II**\n",
        "Medium\n",
        "\n",
        "Given a binary tree, you need to find the length of Longest Consecutive Path in Binary Tree.\n",
        "\n",
        "Especially, this path can be either increasing or decreasing. For example, [1,2,3,4] and [4,3,2,1] are both considered valid, but the path [1,2,4,3] is not valid. On the other hand, the path can be in the child-Parent-child order, where not necessarily be parent-child order.\n",
        "\n"
      ]
    },
    {
      "cell_type": "code",
      "metadata": {
        "id": "Tzh7tLWbFc4S",
        "colab_type": "code",
        "colab": {}
      },
      "source": [
        "class Solution(object):\n",
        "    def longestConsecutive(self, root):\n",
        "        \"\"\"\n",
        "        :type root: TreeNode\n",
        "        :rtype: int\n",
        "        \"\"\"\n",
        "        def dfs(node, parent):\n",
        "            if not node:\n",
        "                return 0, 0\n",
        "            li, ld = dfs(node.left, node)\n",
        "            ri, rd = dfs(node.right, node)\n",
        "            l[0] = max(l[0], li + rd + 1, ld + ri + 1)\n",
        "            if node.val == parent.val + 1:\n",
        "                return max(li, ri) + 1, 0\n",
        "            if node.val == parent.val - 1:\n",
        "                return 0, max(ld, rd) + 1\n",
        "            return 0, 0\n",
        "        l = [0]\n",
        "        dfs(root, root)\n",
        "        return l[0]"
      ],
      "execution_count": 0,
      "outputs": []
    },
    {
      "cell_type": "markdown",
      "metadata": {
        "id": "hiWUxUFOFjaR",
        "colab_type": "text"
      },
      "source": [
        "**296. Best Meeting Point**\n",
        "\n",
        "A group of two or more people wants to meet and minimize the total travel distance. You are given a 2D grid of values 0 or 1, where each 1 marks the home of someone in the group. The distance is calculated using Manhattan Distance, where distance(p1, p2) = |p2.x - p1.x| + |p2.y - p1.y|."
      ]
    },
    {
      "cell_type": "code",
      "metadata": {
        "id": "tuO98rMOFvyH",
        "colab_type": "code",
        "colab": {}
      },
      "source": [
        "def minTotalDistance(self, grid):\n",
        "    row_sum = map(sum, grid)\n",
        "    col_sum = map(sum, zip(*grid)) # syntax sugar learned from stefan :-)\n",
        "\n",
        "    def minTotalDistance1D(vec):\n",
        "        i, j = -1, len(vec)\n",
        "        d = left = right = 0\n",
        "        while i != j:\n",
        "            if left < right:\n",
        "                d += left\n",
        "                i += 1\n",
        "                left += vec[i]\n",
        "            else:\n",
        "                d += right\n",
        "                j -= 1\n",
        "                right += vec[j]\n",
        "        return d\n",
        "\n",
        "    return minTotalDistance1D(row_sum) + minTotalDistance1D(col_sum)\n"
      ],
      "execution_count": 0,
      "outputs": []
    },
    {
      "cell_type": "markdown",
      "metadata": {
        "id": "-LGQudt0F5Sa",
        "colab_type": "text"
      },
      "source": [
        "772. Basic Calculator III\n"
      ]
    },
    {
      "cell_type": "code",
      "metadata": {
        "id": "GUSxY1WBF_vQ",
        "colab_type": "code",
        "colab": {}
      },
      "source": [
        "class Solution:\n",
        "\tdef calculate(self, s):\n",
        "\t\t\"\"\"\n",
        "\t\t:type s: str\n",
        "\t\t:rtype: int\n",
        "\t\t\"\"\"\n",
        "\n",
        "\t\t# first define a couple helper methods\n",
        "\n",
        "\t\t# operation helper to perform basic math operations\n",
        "\t\tdef operation(op, second, first):\n",
        "\t\t\tif op == \"+\":\n",
        "\t\t\t\treturn first + second\n",
        "\t\t\telif op == \"-\":\n",
        "\t\t\t\treturn first - second\n",
        "\t\t\telif op == \"*\":\n",
        "\t\t\t\treturn first * second\n",
        "\t\t\telif op == \"/\":  # integer division\n",
        "\t\t\t\treturn first // second\n",
        "\n",
        "\t\t# calculate the relative precedence of the the operators \"()\" > \"*/\" > \"+=\"\n",
        "\t\t# and determine if we want to do a pre-calculation in the stack\n",
        "\t\t# (when current_op is <= op_from_ops)\n",
        "\t\tdef precedence(current_op, op_from_ops):\n",
        "\t\t\tif op_from_ops == \"(\" or op_from_ops == \")\":\n",
        "\t\t\t\treturn False\n",
        "\t\t\tif (current_op == \"*\" or current_op == \"/\") and (op_from_ops == \"+\" or op_from_ops == \"-\"):\n",
        "\t\t\t\treturn False\n",
        "\t\t\treturn True\n",
        "\n",
        "\t\tif not s:\n",
        "\t\t\treturn 0\n",
        "\t\t# define two stack: nums to store the numbers and ops to store the operators\n",
        "\t\tnums, ops = [], []\n",
        "\t\ti = 0\n",
        "\t\twhile i < len(s):\n",
        "\t\t\tc = s[i]\n",
        "\t\t\tif c == \" \":\n",
        "\t\t\t\ti += 1\n",
        "\t\t\t\tcontinue\n",
        "\t\t\telif c.isdigit():\n",
        "\t\t\t\tnum = int(c)\n",
        "\t\t\t\twhile i < len(s) - 1 and s[i + 1].isdigit():\n",
        "\t\t\t\t\tnum = num * 10 + int(s[i + 1])\n",
        "\t\t\t\t\ti += 1\n",
        "\t\t\t\tnums.append(num)\n",
        "\t\t\telif c == \"(\":\n",
        "\t\t\t\tops.append(c)\n",
        "\t\t\telif c == \")\":\n",
        "\t\t\t\t# do the math when we encounter a ')' until '('\n",
        "\t\t\t\twhile ops[-1] != \"(\":\n",
        "\t\t\t\t\tnums.append(operation(ops.pop(), nums.pop(), nums.pop()))\n",
        "\t\t\t\tops.pop()\n",
        "\t\t\telif c in [\"+\", \"-\", \"*\", \"/\"]:\n",
        "\t\t\t\twhile len(ops) != 0 and precedence(c, ops[-1]):\n",
        "\t\t\t\t\tnums.append(operation(ops.pop(), nums.pop(), nums.pop()))\n",
        "\t\t\t\tops.append(c)\n",
        "\t\t\ti += 1\n",
        "\n",
        "\t\twhile len(ops) > 0:\n",
        "\t\t\tnums.append(operation(ops.pop(), nums.pop(), nums.pop()))\n",
        "\n",
        "\t\treturn nums.pop()"
      ],
      "execution_count": 0,
      "outputs": []
    },
    {
      "cell_type": "markdown",
      "metadata": {
        "id": "Z3pucPxuGFmR",
        "colab_type": "text"
      },
      "source": [
        "**351. Android Unlock Patterns**\n"
      ]
    },
    {
      "cell_type": "code",
      "metadata": {
        "id": "AL7F9BywGNw3",
        "colab_type": "code",
        "colab": {}
      },
      "source": [
        "class Solution(object):\n",
        "    def numberOfPatterns(self, m, n):\n",
        "        \"\"\"\n",
        "        :type m: int\n",
        "        :type n: int\n",
        "        :rtype: int\n",
        "        \"\"\"\n",
        "        skip = {}\n",
        "        \n",
        "        skip[(1,7)] = 4\n",
        "        skip[(1,3)] = 2\n",
        "        skip[(1,9)] = 5\n",
        "        skip[(2,8)] = 5\n",
        "        skip[(3,7)] = 5\n",
        "        skip[(3,9)] = 6\n",
        "        skip[(4,6)] = 5\n",
        "        skip[(7,9)] = 8\n",
        "        self.res = 0\n",
        "        def bfs(used, last):\n",
        "            if len(used) >= m:\n",
        "                self.res += 1\n",
        "            if len(used) == n:\n",
        "                return\n",
        "            for j in range(1, 10):\n",
        "                if j not in used:   # if j is not used\n",
        "                    # Sort the vertices of the edge to search in skip\n",
        "                    edge = (min(last, j), max(last, j))\n",
        "                    if edge not in skip or skip[edge] in used:\n",
        "                        bfs(used + [j], j)\n",
        "        for i in range(1, 10):\n",
        "            bfs([i], i)\n",
        "        return self.res"
      ],
      "execution_count": 0,
      "outputs": []
    },
    {
      "cell_type": "markdown",
      "metadata": {
        "id": "bsKiOZcPGVdR",
        "colab_type": "text"
      },
      "source": [
        "**1059. All Paths from Source Lead to Destination**\n",
        "\n",
        "Given the edges of a directed graph, and two nodes source and destination of this graph, determine whether or not all paths starting from source eventually end at destination, that is:\n",
        "\n",
        "At least one path exists from the source node to the destination node\n",
        "If a path exists from the source node to a node with no outgoing edges, then that node is equal to destination.\n",
        "The number of possible paths from source to destination is a finite number.\n",
        "Return true if and only if all roads from source lead to destination."
      ]
    },
    {
      "cell_type": "code",
      "metadata": {
        "id": "K0kTlyWfGdz6",
        "colab_type": "code",
        "colab": {}
      },
      "source": [
        "class Solution:\n",
        "    def leadsToDestination(self, n: int, edges: List[List[int]], source: int, destination: int) -> bool:\n",
        "        def dfs(i):\n",
        "            seen.add(i)\n",
        "            for j in graph[i]:\n",
        "                if j == i or j in seen or not dfs(j):\n",
        "                    return False\n",
        "            seen.discard(i)\n",
        "            return len(graph[i]) != 0 or i == destination\n",
        "        graph, seen = collections.defaultdict(set), set()\n",
        "        for a, b in edges:\n",
        "            graph[a].add(b)\n",
        "        return dfs(source)"
      ],
      "execution_count": 0,
      "outputs": []
    },
    {
      "cell_type": "markdown",
      "metadata": {
        "id": "vvPop13eGmpJ",
        "colab_type": "text"
      },
      "source": [
        "**269. Alien Dictionary**"
      ]
    },
    {
      "cell_type": "code",
      "metadata": {
        "id": "fHYFUffgG1LU",
        "colab_type": "code",
        "colab": {}
      },
      "source": [
        "class Solution(object):\n",
        "    def alienOrder(self, words):\n",
        "        map = {}\n",
        "        letters = [0 for i in range(26)]  \n",
        "        for i in range(len(words)):\n",
        "            for j in range(len(words[i])):\n",
        "                key=ord(words[i][j])-ord('a')\n",
        "                letters[key]=0\n",
        "                map[key]=set()\n",
        "        \n",
        "        for i in range(len(words)-1):\n",
        "            word1 = words[i]\n",
        "            word2 = words[i+1]\n",
        "            idx = 0\n",
        "            for j in range(min(len(word1),len(word2))):\n",
        "                if(word1[j]!=word2[j]):\n",
        "                    key1 = ord(word1[j])-ord('a')\n",
        "                    key2 = ord(word2[j])-ord('a')\n",
        "                    count = letters[key2]\n",
        "                    if(key2 not in map[key1]):\n",
        "                        letters[key2] =count+1\n",
        "                        map[key1].add(key2)\n",
        "                    break\n",
        "        dictionary = collections.deque()\n",
        "        res = ''\n",
        "        for i in range(26):\n",
        "            if(letters[i]==0 and i in map):\n",
        "                dictionary.appendleft(i)\n",
        "        \n",
        "        while(len(dictionary)!=0):\n",
        "            nextup = dictionary.pop()\n",
        "            res+=(chr(nextup+ord('a')))\n",
        "            greaterSet = map[nextup]\n",
        "            for greater in greaterSet:\n",
        "                letters[greater]-=1\n",
        "                if(letters[greater]==0):\n",
        "                    dictionary.appendleft(greater)\n",
        "        if(len(map)!=len(res)):\n",
        "            return \"\"\n",
        "        return res"
      ],
      "execution_count": 0,
      "outputs": []
    },
    {
      "cell_type": "markdown",
      "metadata": {
        "id": "wzo1AmowG9mM",
        "colab_type": "text"
      },
      "source": [
        "**616. Add Bold Tag in String**\n",
        "\n"
      ]
    },
    {
      "cell_type": "code",
      "metadata": {
        "id": "QYa5WO9cHE5q",
        "colab_type": "code",
        "colab": {}
      },
      "source": [
        "class Solution:\n",
        "    def addBoldTag(self, s, dict):\n",
        "        \"\"\"\n",
        "        :type s: str\n",
        "        :type dict: List[str]\n",
        "        :rtype: str\n",
        "        \"\"\"\n",
        "        status = [False]*len(s)\n",
        "        final = \"\"\n",
        "        for word in dict:\n",
        "            start = s.find(word)\n",
        "            last = len(word)\n",
        "            while start != -1:\n",
        "                for i in range(start, last+start):\n",
        "                    status[i] = True\n",
        "                start = s.find(word,start+1)\n",
        "        i = 0\n",
        "        i = 0\n",
        "        while i < len(s):\n",
        "            if status[i]:\n",
        "                final += \"<b>\"\n",
        "                while i < len(s) and status[i]:\n",
        "                    final += s[i]\n",
        "                    i += 1\n",
        "                final += \"</b>\"\n",
        "            else:\n",
        "                final += s[i]\n",
        "                i += 1\n",
        "        return final"
      ],
      "execution_count": 0,
      "outputs": []
    },
    {
      "cell_type": "markdown",
      "metadata": {
        "id": "YFAX39C4HF9X",
        "colab_type": "text"
      },
      "source": [
        "**259. 3Sum Smaller**\n",
        "\n",
        "Given an array of n integers nums and a target, find the number of index triplets i, j, k with 0 <= i < j < k < n that satisfy the condition nums[i] + nums[j] + nums[k] < target."
      ]
    },
    {
      "cell_type": "code",
      "metadata": {
        "id": "DCn0brv0HEOR",
        "colab_type": "code",
        "colab": {}
      },
      "source": [
        "def threeSumSmaller(self, nums, target):\n",
        "    count = 0\n",
        "    nums.sort()\n",
        "    for i in xrange(len(nums)):\n",
        "        j, k = i+1, len(nums)-1\n",
        "        while j < k:\n",
        "            s = nums[i] + nums[j] + nums[k]\n",
        "            if s < target:\n",
        "                # if (i,j,k) works, then (i,j,k), (i,j,k-1),..., \n",
        "                # (i,j,j+1) all work, totally (k-j) triplets\n",
        "                count += k-j\n",
        "                j += 1\n",
        "            else:\n",
        "                k -= 1\n",
        "    return count"
      ],
      "execution_count": 0,
      "outputs": []
    },
    {
      "cell_type": "markdown",
      "metadata": {
        "id": "Gr9WCaP0HOQB",
        "colab_type": "text"
      },
      "source": [
        "**651. 4 Keys Keyboard**\n",
        "Imagine you have a special keyboard with the following keys:\n",
        "Key 1: (A): Print one 'A' on screen.\n",
        "Key 2: (Ctrl-A): Select the whole screen.\n",
        "Key 3: (Ctrl-C): Copy selection to buffer.\n",
        "Key 4: (Ctrl-V): Print buffer on screen appending it after what has already been printed.\n",
        "Now, you can only press the keyboard for N times (with the above four keys), find out the maximum numbers of 'A' you can print on screen.\n"
      ]
    },
    {
      "cell_type": "code",
      "metadata": {
        "id": "Dq6lZ6wZHXb_",
        "colab_type": "code",
        "colab": {}
      },
      "source": [
        "First of all, we can know that if N < 7, then f[N] = N\n",
        "since double current list length need 3 operations (ACP) and ACP must generate longer list than PPP for list with length > 3, the maximum for f[i] only have 3 choices:\n",
        "\n",
        "from f[i - 3], by ACP total length : f[i - 3] * 2\n",
        "from f[i - 4], by ACP + P total length : f[i - 4] * 3\n",
        "from f[i - 5], by ACP + PP total length : f[i - 5] * 4\n",
        "That's all. for i - 6 and smaller ACP + ACP longer than ACP + PPP. so we can get it from f[i - 3]\n",
        "class Solution(object):\n",
        "    def maxA(self, N):\n",
        "        \"\"\"\n",
        "        :type N: int\n",
        "        :rtype: int\n",
        "        \"\"\"        \n",
        "        f = range(N+1)\n",
        "        for i in xrange(7, N+1):\n",
        "            f[i] = max(f[i-3]*2, f[i-4]*3, f[i-5]*4)\n",
        "\n",
        "        return f[N]"
      ],
      "execution_count": 0,
      "outputs": []
    }
  ]
}