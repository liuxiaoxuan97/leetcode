{
  "nbformat": 4,
  "nbformat_minor": 0,
  "metadata": {
    "colab": {
      "name": "google_lock.ipynb",
      "provenance": [],
      "include_colab_link": true
    },
    "kernelspec": {
      "name": "python3",
      "display_name": "Python 3"
    }
  },
  "cells": [
    {
      "cell_type": "markdown",
      "metadata": {
        "id": "view-in-github",
        "colab_type": "text"
      },
      "source": [
        "<a href=\"https://colab.research.google.com/github/liuxiaoxuan97/leetcode/blob/master/google_lock.ipynb\" target=\"_parent\"><img src=\"https://colab.research.google.com/assets/colab-badge.svg\" alt=\"Open In Colab\"/></a>"
      ]
    },
    {
      "cell_type": "markdown",
      "metadata": {
        "id": "LAJw3AFf2JIt",
        "colab_type": "text"
      },
      "source": [
        "**281. Zigzag Iterator**\n",
        "\n",
        "Given two 1d vectors, implement an iterator to return their elements alternately.\n",
        "Input:\n",
        "v1 = [1,2]\n",
        "v2 = [3,4,5,6] \n",
        "Output: [1,3,2,4,5,6]\n",
        "Explanation: By calling next repeatedly until hasNext returns false, the order of elements returned by next should be: [1,3,2,4,5,6].\n",
        "\n",
        "Follow up:\n",
        "\n",
        "What if you are given k 1d vectors? How well can your code be extended to such cases?\n",
        "\n",
        "Clarification for the follow up question:\n",
        "The \"Zigzag\" order is not clearly defined and is ambiguous for k > 2 cases. If \"Zigzag\" does not look right to you, replace \"Zigzag\" with \"Cyclic\". For example:\n",
        "Input:\n",
        "[1,2,3]\n",
        "[4,5,6,7]\n",
        "[8,9]\n",
        "\n",
        "Output: [1,4,8,2,5,9,3,6,7]."
      ]
    },
    {
      "cell_type": "code",
      "metadata": {
        "id": "DK1Ka2YjYfRb",
        "colab_type": "code",
        "colab": {}
      },
      "source": [
        "class ZigzagIterator(object):\n",
        "\n",
        "    def __init__(self, v1, v2):\n",
        "        self.data = [(len(v), iter(v)) for v in (v1, v2) if v]\n",
        "\n",
        "    def next(self):\n",
        "        len, iter = self.data.pop(0)\n",
        "        if len > 1:\n",
        "            self.data.append((len-1, iter))\n",
        "        return next(iter)\n",
        "\n",
        "    def hasNext(self):\n",
        "        return bool(self.data)"
      ],
      "execution_count": 0,
      "outputs": []
    },
    {
      "cell_type": "markdown",
      "metadata": {
        "id": "7WwO-iFW48I9",
        "colab_type": "text"
      },
      "source": [
        "**425. Word Squares**\n",
        "\n",
        "Given a set of words (without duplicates), find all word squares you can build from them.\n",
        "\n",
        "A sequence of words forms a valid word square if the kth row and column read the exact same string, where 0 ≤ k < max(numRows, numColumns).\n",
        "\n",
        "For example, the word sequence [\"ball\",\"area\",\"lead\",\"lady\"] forms a word square because each word reads the same both horizontally and vertically.\n",
        "\n",
        "b a l l;\n",
        "a r e a;\n",
        "l e a d;\n",
        "l a d y;"
      ]
    },
    {
      "cell_type": "code",
      "metadata": {
        "id": "OhORrHC45IRo",
        "colab_type": "code",
        "colab": {}
      },
      "source": [
        " class Solution:\n",
        "    def wordSquares(self, words):\n",
        "\n",
        "        self.words = words\n",
        "        self.N = len(words[0])\n",
        "        self.buildPrefixHashTable(self.words)\n",
        "        results = []\n",
        "        word_squares = []\n",
        "        for word in words:\n",
        "            word_squares = [word]\n",
        "            self.backtracking(1, word_squares, results)\n",
        "        return results\n",
        "\n",
        "    def backtracking(self, step, word_squares, results):\n",
        "        if step == self.N:\n",
        "            results.append(word_squares[:])\n",
        "            return\n",
        "\n",
        "        prefix = ''.join([word[step] for word in word_squares])\n",
        "        for candidate in self.getWordsWithPrefix(prefix):\n",
        "            word_squares.append(candidate)\n",
        "            self.backtracking(step+1, word_squares, results)\n",
        "            word_squares.pop()\n",
        "\n",
        "    def buildPrefixHashTable(self, words):\n",
        "        self.prefixHashTable = {}\n",
        "        for word in words:\n",
        "            for prefix in (word[:i] for i in range(1, len(word))):\n",
        "                self.prefixHashTable.setdefault(prefix, set()).add(word)\n",
        "\n",
        "    def getWordsWithPrefix(self, prefix):\n",
        "        if prefix in self.prefixHashTable:\n",
        "            return self.prefixHashTable[prefix]\n",
        "        else:\n",
        "            return set([])"
      ],
      "execution_count": 0,
      "outputs": []
    },
    {
      "cell_type": "markdown",
      "metadata": {
        "id": "ThNCqUItMx9J",
        "colab_type": "text"
      },
      "source": [
        "**527. Word Abbreviation**\n",
        "Given an array of n distinct non-empty strings, you need to generate minimal possible abbreviations for every word following rules below.\n",
        "\n",
        "Begin with the first character and then the number of characters abbreviated, which followed by the last character.\n",
        "If there are any conflict, that is more than one words share the same abbreviation, a longer prefix is used instead of only the first character until making the map from word to abbreviation become unique. In other words, a final abbreviation cannot map to more than one original words.\n",
        "If the abbreviation doesn't make the word shorter, then keep it as original.\n",
        "\n",
        "Input: [\"like\", \"god\", \"internal\", \"me\", \"internet\", \"interval\", \"intension\", \"face\", \"intrusion\"]\n",
        "Output: [\"l2e\",\"god\",\"internal\",\"me\",\"i6t\",\"interval\",\"inte4n\",\"f2e\",\"intr4n\"]"
      ]
    },
    {
      "cell_type": "code",
      "metadata": {
        "id": "_6yjArWHM_EV",
        "colab_type": "code",
        "colab": {}
      },
      "source": [
        "class Solution(object):\n",
        "    def wordsAbbreviation(self, words):\n",
        "        def abbrev(word, i = 0):\n",
        "            if (len(word) - i <= 3): return word\n",
        "            return word[:i+1] + str(len(word) - i - 2) + word[-1]\n",
        "\n",
        "        N = len(words)\n",
        "        ans = map(abbrev, words)\n",
        "        prefix = [0] * N\n",
        "\n",
        "        for i in xrange(N):\n",
        "            while True:\n",
        "                dupes = set()\n",
        "                for j in xrange(i+1, N):\n",
        "                    if ans[i] == ans[j]:\n",
        "                        dupes.add(j)\n",
        "\n",
        "                if not dupes: break\n",
        "                dupes.add(i)\n",
        "                for k in dupes:\n",
        "                    prefix[k] += 1\n",
        "                    ans[k] = abbrev(words[k], prefix[k])\n",
        "        return ans"
      ],
      "execution_count": 0,
      "outputs": []
    },
    {
      "cell_type": "markdown",
      "metadata": {
        "id": "vTWGRHhCUSDF",
        "colab_type": "text"
      },
      "source": [
        "**280. Wiggle Sort**\n",
        "Given an unsorted array nums, reorder it in-place such that nums[0] <= nums[1] >= nums[2] <= nums[3]....\n",
        "\n",
        "Example:\n",
        "\n",
        "Input: nums = [3,5,2,1,6,4]\n",
        "Output: One possible answer is [3,5,1,6,2,4]\n"
      ]
    },
    {
      "cell_type": "code",
      "metadata": {
        "id": "Rj-SruKCVQ0O",
        "colab_type": "code",
        "colab": {}
      },
      "source": [
        "def wiggleSort(self, nums):\n",
        "    for i in range(len(nums)):\n",
        "        nums[i:i+2] = sorted(nums[i:i+2], reverse=i%2)\n",
        "\n",
        "\n",
        "\n",
        "class Solution(object):\n",
        "    def wiggleSort(self, nums):\n",
        "        for i in xrange(1, len(nums)):\n",
        "            if (i % 2) ^ (nums[i] > nums[i - 1]):\n",
        "                nums[i], nums[i - 1] = nums[i - 1], nums[i]\n"
      ],
      "execution_count": 0,
      "outputs": []
    },
    {
      "cell_type": "markdown",
      "metadata": {
        "id": "7Nfbpa1uVjCr",
        "colab_type": "text"
      },
      "source": [
        "**286. Walls and Gates**\n",
        "You are given a m x n 2D grid initialized with these three possible values.\n",
        "\n",
        "-1 - A wall or an obstacle.\n",
        "0 - A gate.\n",
        "INF - Infinity means an empty room. We use the value 231 - 1 = 2147483647 to represent INF as you may assume that the distance to a gate is less than 2147483647.\n",
        "Fill each empty room with the distance to its nearest gate. If it is impossible to reach a gate, it should be filled with INF"
      ]
    },
    {
      "cell_type": "code",
      "metadata": {
        "id": "77nZDYSMXqWs",
        "colab_type": "code",
        "colab": {}
      },
      "source": [
        "def wallsAndGates(self, rooms):\n",
        "    if not rooms:\n",
        "        return \n",
        "    r, c= len(rooms), len(rooms[0])\n",
        "    for i in xrange(r):\n",
        "        for j in xrange(c):\n",
        "            if rooms[i][j] == 0:\n",
        "                queue = collections.deque([])\n",
        "                queue.append((i+1, j, 1)); queue.append((i-1, j, 1))\n",
        "                queue.append((i, j+1, 1)); queue.append((i, j-1, 1))\n",
        "                visited = set()\n",
        "                while queue:\n",
        "                    x, y, val = queue.popleft()\n",
        "                    if x < 0 or x >= r or y < 0 or y >= c or rooms[x][y] in [0, -1] or (x, y) in visited:\n",
        "                        continue\n",
        "                    visited.add((x, y))\n",
        "                    rooms[x][y] = min(rooms[x][y], val)\n",
        "                    queue.append((x+1, y, val+1)); queue.append((x-1, y, val+1))\n",
        "                    queue.append((x, y+1, val+1)); queue.append((x, y-1, val+1))"
      ],
      "execution_count": 0,
      "outputs": []
    }
  ]
}