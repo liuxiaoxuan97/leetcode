{
  "nbformat": 4,
  "nbformat_minor": 0,
  "metadata": {
    "colab": {
      "name": "Copy of Untitled1.ipynb",
      "provenance": [],
      "include_colab_link": true
    },
    "kernelspec": {
      "name": "python3",
      "display_name": "Python 3"
    }
  },
  "cells": [
    {
      "cell_type": "markdown",
      "metadata": {
        "id": "view-in-github",
        "colab_type": "text"
      },
      "source": [
        "<a href=\"https://colab.research.google.com/github/liuxiaoxuan97/leetcode/blob/master/quora_lock.ipynb\" target=\"_parent\"><img src=\"https://colab.research.google.com/assets/colab-badge.svg\" alt=\"Open In Colab\"/></a>"
      ]
    },
    {
      "cell_type": "markdown",
      "metadata": {
        "id": "fESUXrZVYuwf",
        "colab_type": "text"
      },
      "source": [
        "253. Meeting Rooms II\n",
        "Given an array of meeting time intervals consisting of start and end times [[s1,e1],[s2,e2],...] (si < ei), find the minimum number of conference rooms required.\n",
        "\n",
        "Example 1:\n",
        "\n",
        "Input: [[0, 30],[5, 10],[15, 20]]\n",
        "Output: 2\n",
        "Example 2:\n",
        "\n",
        "Input: [[7,10],[2,4]]\n",
        "Output: 1\n",
        "\n",
        "\n",
        "Ans: Algorithm\n",
        "\n",
        "Sort the given meetings by their start time.\n",
        "Initialize a new min-heap and add the first meeting's ending time to the heap. We simply need to keep track of the ending times as that tells us when a meeting room will get free.\n",
        "For every meeting room check if the minimum element of the heap i.e. the room at the top of the heap is free or not.\n",
        "If the room is free, then we extract the topmost element and add it back with the ending time of the current meeting we are processing.\n",
        "If not, then we allocate a new room and add it to the heap.\n",
        "After processing all the meetings, the size of the heap will tell us the number of rooms allocated. This will be the minimum number of rooms needed to accommodate all the meetings.\n",
        "Let us not look at the implementation for this algorithm."
      ]
    },
    {
      "cell_type": "code",
      "metadata": {
        "id": "DK1Ka2YjYfRb",
        "colab_type": "code",
        "colab": {}
      },
      "source": [
        "# Definition for an interval.\n",
        "# class Interval(object):\n",
        "#     def __init__(self, s=0, e=0):\n",
        "#         self.start = s\n",
        "#         self.end = e\n",
        "\n",
        "class Solution(object):\n",
        "    def minMeetingRooms(self, intervals):\n",
        "        # If there is no meeting to schedule then no room needs to be allocated.\n",
        "        if not intervals:\n",
        "            return 0\n",
        "        # The heap initialization\n",
        "        free_rooms = []\n",
        "        # Sort the meetings in increasing order of their start time.\n",
        "        intervals.sort(key= lambda x: x.start)\n",
        "        # Add the first meeting. We have to give a new room to the first meeting.\n",
        "        heapq.heappush(free_rooms, intervals[0].end)\n",
        "        # For all the remaining meeting rooms\n",
        "        for i in intervals[1:]:\n",
        "            # If the room due to free up the earliest is free, assign that room to this meeting.\n",
        "            if free_rooms[0] <= i.start:\n",
        "                heapq.heappop(free_rooms)\n",
        "            heapq.heappush(free_rooms, i.end)\n",
        "        # The size of the heap tells us the minimum rooms required for all the meetings.\n",
        "        return len(free_rooms)\n"
      ],
      "execution_count": 0,
      "outputs": []
    }
  ]
}